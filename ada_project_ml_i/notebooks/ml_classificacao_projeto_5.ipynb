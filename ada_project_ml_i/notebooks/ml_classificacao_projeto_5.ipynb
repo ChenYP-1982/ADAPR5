{
  "cells": [
    {
      "cell_type": "markdown",
      "metadata": {
        "id": "C14faTVSb-LK"
      },
      "source": [
        "# Classificação"
      ]
    },
    {
      "cell_type": "markdown",
      "metadata": {
        "id": "WbheOUWYvUH9"
      },
      "source": [
        "# Instalando dependências"
      ]
    },
    {
      "cell_type": "code",
      "execution_count": 1,
      "metadata": {
        "id": "0TuBUIJTt3S-"
      },
      "outputs": [],
      "source": [
        "%%capture\n",
        "\n",
        "!pip install sidetable\n",
        "!pip install missingno\n",
        "!pip install pycaret"
      ]
    },
    {
      "cell_type": "markdown",
      "metadata": {
        "id": "YkqJR_GSvO3H"
      },
      "source": [
        "# Importando modulos necessários"
      ]
    },
    {
      "cell_type": "code",
      "execution_count": 5,
      "metadata": {
        "colab": {
          "base_uri": "https://localhost:8080/",
          "height": 34
        },
        "id": "4tuQEKkUruSB",
        "outputId": "0f50fb97-9e76-44b7-dcbb-a3af7c1a849f"
      },
      "outputs": [],
      "source": [
        "# data analysis\n",
        "import pandas as pd\n",
        "import numpy as np\n",
        "import scipy\n",
        "import sidetable as stb\n",
        "import missingno as msno\n",
        "from statsmodels.tsa.seasonal import seasonal_decompose\n",
        "from statsmodels.tsa.stattools import adfuller\n",
        "from datetime import datetime as dt\n",
        "\n",
        "\n",
        "#data viz\n",
        "import matplotlib.pyplot as plt\n",
        "import seaborn as sns\n",
        "\n",
        "#supress warnings\n",
        "import warnings\n",
        "\n",
        "\n",
        "#time_serie\n",
        "\n",
        "import pycaret\n",
        "from sklearn.preprocessing import scale\n",
        "from pycaret.time_series import *\n",
        "from pycaret.time_series import TSForecastingExperiment\n",
        "\n",
        "# from google.colab import drive \n",
        "# drive.mount('/content/drive')\n",
        "\n",
        "warnings.filterwarnings(\"ignore\")\n",
        "sns.set_style(\"whitegrid\")"
      ]
    },
    {
      "cell_type": "markdown",
      "metadata": {
        "id": "hqs3f7EuvObe"
      },
      "source": [
        "# Funçōes necessárias para o projeto"
      ]
    },
    {
      "cell_type": "code",
      "execution_count": 6,
      "metadata": {
        "id": "RwJ5j7_kvNm8"
      },
      "outputs": [],
      "source": [
        "def eda(df:pd.DataFrame)->None:\n",
        "  print(\"-\"*15,\"DataFrame shape\", \"-\"*15 )\n",
        "  print(f\"Linhas: {df.shape[0]}, Colunas: {df.shape[1]}\")\n",
        "  print(\"-\"*15,\"DataFrame info\", \"-\"*15 )\n",
        "  print(df.info())\n",
        "  print(\"-\"*15,\"DataFrame isna\", \"-\"*15 )\n",
        "  print(df.isna().sum())\n",
        "  print(\"-\"*15,\"DataFrame is duplicated\", \"-\"*15 )\n",
        "  print(df.duplicated().sum())\n",
        "  print(\"-\"*15,\"DataFrame describe numeric\", \"-\"*15 )\n",
        "  print(df.describe(percentiles=[.01,0.1,.25,.5,.75,.90,.99]))\n",
        "  print(\"-\"*15,\"DataFrame desribe categorical\", \"-\"*15 )\n",
        "  print(df.describe(exclude=[np.number]))\n",
        "\n",
        "\n",
        "\n",
        "\n",
        "def date_engineering(df: pd.DataFrame)->pd.DataFrame:\n",
        "    df[\"data_inversa\"]=pd.to_datetime(df[\"data_inversa\"],format='mixed')\n",
        "    df[\"year\"]=pd.to_datetime(df[\"data_inversa\"]).dt.year\n",
        "    df[\"month\"]=pd.to_datetime(df[\"data_inversa\"]).dt.month\n",
        "    df[\"quarter\"]=pd.to_datetime(df[\"data_inversa\"]).dt.quarter\n",
        "    df[\"quarter_end\"]=pd.to_datetime(df[\"data_inversa\"]).dt.is_quarter_end\n",
        "    return df\n",
        "\n",
        "\n",
        "def date_col(col:pd.Series):\n",
        "  df[\"dia_semana\"]=df['dia_semana'].str.split(\"-\").str[0]\n",
        "  return df[\"dia_semana\"]\n",
        "\n",
        "def time_col(col:pd.Series):\n",
        "  df[\"hour\"] = df[\"horario\"].str.split(\":\").str[0]\n",
        "\n",
        "  return df[\"hour\"]\n",
        "\n",
        "def convert_lower_case(column):\n",
        "  '''\n",
        "  Funcao que retorna a coluna selecionada para letra minuscula\n",
        "  -param column: coluna da pd.Dataframe\n",
        "  '''\n",
        "  return column.lower()\n",
        "\n",
        "\n",
        "def adf_test(timeseries):\n",
        "    print ('Results of Dickey-Fuller Test:')\n",
        "    dftest = adfuller(timeseries, autolag='AIC')\n",
        "    dfoutput = pd.Series(dftest[0:4], index=['Test Statistic','p-value','#Lags Used','Number of Observations Used'])\n",
        "    for key,value in dftest[4].items():\n",
        "        dfoutput['Critical Value (%s)'%key] = value\n",
        "    print (dfoutput)"
      ]
    },
    {
      "cell_type": "markdown",
      "metadata": {
        "id": "Qi8e4r60zjqj"
      },
      "source": [
        "# Importando dataset"
      ]
    },
    {
      "cell_type": "markdown",
      "metadata": {
        "id": "jbsY71MU-5vF"
      },
      "source": [
        "Escolha do dataset - Acidentes de Trânsito nas Rodovias Federais do Brasil (de 2007 a 2022). Disponível no link: https://www.kaggle.com/datasets/rafaelborgesgraunke/traffic-accidents-brazil-pt-br/data."
      ]
    },
    {
      "cell_type": "code",
      "execution_count": 272,
      "metadata": {
        "colab": {
          "base_uri": "https://localhost:8080/",
          "height": 342
        },
        "id": "EiG9je0css8g",
        "outputId": "6c121778-77c0-4c16-c64e-932ef14839b3"
      },
      "outputs": [
        {
          "data": {
            "text/html": [
              "<div>\n",
              "<style scoped>\n",
              "    .dataframe tbody tr th:only-of-type {\n",
              "        vertical-align: middle;\n",
              "    }\n",
              "\n",
              "    .dataframe tbody tr th {\n",
              "        vertical-align: top;\n",
              "    }\n",
              "\n",
              "    .dataframe thead th {\n",
              "        text-align: right;\n",
              "    }\n",
              "</style>\n",
              "<table border=\"1\" class=\"dataframe\">\n",
              "  <thead>\n",
              "    <tr style=\"text-align: right;\">\n",
              "      <th></th>\n",
              "      <th>data_inversa</th>\n",
              "      <th>dia_semana</th>\n",
              "      <th>horario</th>\n",
              "      <th>uf</th>\n",
              "      <th>br</th>\n",
              "      <th>km</th>\n",
              "      <th>municipio</th>\n",
              "      <th>causa_acidente</th>\n",
              "      <th>tipo_acidente</th>\n",
              "      <th>classificacao_acidente</th>\n",
              "      <th>...</th>\n",
              "      <th>feridos_graves</th>\n",
              "      <th>ilesos</th>\n",
              "      <th>ignorados</th>\n",
              "      <th>feridos</th>\n",
              "      <th>veiculos</th>\n",
              "      <th>latitude</th>\n",
              "      <th>longitude</th>\n",
              "      <th>regional</th>\n",
              "      <th>delegacia</th>\n",
              "      <th>uop</th>\n",
              "    </tr>\n",
              "  </thead>\n",
              "  <tbody>\n",
              "    <tr>\n",
              "      <th>0</th>\n",
              "      <td>10/11/2009</td>\n",
              "      <td>Terça</td>\n",
              "      <td>14:10:00</td>\n",
              "      <td>MG</td>\n",
              "      <td>381.0</td>\n",
              "      <td>495.0</td>\n",
              "      <td>BETIM</td>\n",
              "      <td>Velocidade incompatível</td>\n",
              "      <td>Colisão traseira</td>\n",
              "      <td>Com Vítimas Feridas</td>\n",
              "      <td>...</td>\n",
              "      <td>0</td>\n",
              "      <td>1</td>\n",
              "      <td>0</td>\n",
              "      <td>4</td>\n",
              "      <td>2</td>\n",
              "      <td>NaN</td>\n",
              "      <td>NaN</td>\n",
              "      <td>NaN</td>\n",
              "      <td>NaN</td>\n",
              "      <td>NaN</td>\n",
              "    </tr>\n",
              "    <tr>\n",
              "      <th>1</th>\n",
              "      <td>16/10/2009</td>\n",
              "      <td>Sexta</td>\n",
              "      <td>04:35:00</td>\n",
              "      <td>MG</td>\n",
              "      <td>251.0</td>\n",
              "      <td>419.6</td>\n",
              "      <td>GRAO MOGOL</td>\n",
              "      <td>Outras</td>\n",
              "      <td>Colisão frontal</td>\n",
              "      <td>Com Vítimas Fatais</td>\n",
              "      <td>...</td>\n",
              "      <td>5</td>\n",
              "      <td>0</td>\n",
              "      <td>0</td>\n",
              "      <td>5</td>\n",
              "      <td>2</td>\n",
              "      <td>NaN</td>\n",
              "      <td>NaN</td>\n",
              "      <td>NaN</td>\n",
              "      <td>NaN</td>\n",
              "      <td>NaN</td>\n",
              "    </tr>\n",
              "    <tr>\n",
              "      <th>2</th>\n",
              "      <td>20/09/2009</td>\n",
              "      <td>Domingo</td>\n",
              "      <td>20:00:00</td>\n",
              "      <td>PI</td>\n",
              "      <td>316.0</td>\n",
              "      <td>24.0</td>\n",
              "      <td>TERESINA</td>\n",
              "      <td>Dormindo</td>\n",
              "      <td>Saída de Pista</td>\n",
              "      <td>Com Vítimas Feridas</td>\n",
              "      <td>...</td>\n",
              "      <td>4</td>\n",
              "      <td>0</td>\n",
              "      <td>0</td>\n",
              "      <td>6</td>\n",
              "      <td>1</td>\n",
              "      <td>NaN</td>\n",
              "      <td>NaN</td>\n",
              "      <td>NaN</td>\n",
              "      <td>NaN</td>\n",
              "      <td>NaN</td>\n",
              "    </tr>\n",
              "    <tr>\n",
              "      <th>3</th>\n",
              "      <td>17/05/2009</td>\n",
              "      <td>Domingo</td>\n",
              "      <td>15:45:00</td>\n",
              "      <td>RJ</td>\n",
              "      <td>101.0</td>\n",
              "      <td>429.0</td>\n",
              "      <td>MANGARATIBA</td>\n",
              "      <td>Falta de atenção</td>\n",
              "      <td>Colisão Transversal</td>\n",
              "      <td>Sem Vítimas</td>\n",
              "      <td>...</td>\n",
              "      <td>0</td>\n",
              "      <td>2</td>\n",
              "      <td>0</td>\n",
              "      <td>0</td>\n",
              "      <td>2</td>\n",
              "      <td>NaN</td>\n",
              "      <td>NaN</td>\n",
              "      <td>NaN</td>\n",
              "      <td>NaN</td>\n",
              "      <td>NaN</td>\n",
              "    </tr>\n",
              "    <tr>\n",
              "      <th>4</th>\n",
              "      <td>05/07/2009</td>\n",
              "      <td>Domingo</td>\n",
              "      <td>17:30:00</td>\n",
              "      <td>PE</td>\n",
              "      <td>101.0</td>\n",
              "      <td>59.2</td>\n",
              "      <td>RECIFE</td>\n",
              "      <td>Outras</td>\n",
              "      <td>Queda de motocicleta / bicicleta / veículo</td>\n",
              "      <td>Com Vítimas Feridas</td>\n",
              "      <td>...</td>\n",
              "      <td>0</td>\n",
              "      <td>0</td>\n",
              "      <td>0</td>\n",
              "      <td>1</td>\n",
              "      <td>1</td>\n",
              "      <td>NaN</td>\n",
              "      <td>NaN</td>\n",
              "      <td>NaN</td>\n",
              "      <td>NaN</td>\n",
              "      <td>NaN</td>\n",
              "    </tr>\n",
              "  </tbody>\n",
              "</table>\n",
              "<p>5 rows × 30 columns</p>\n",
              "</div>"
            ],
            "text/plain": [
              "  data_inversa dia_semana   horario  uf     br     km    municipio  \\\n",
              "0   10/11/2009      Terça  14:10:00  MG  381.0  495.0        BETIM   \n",
              "1   16/10/2009      Sexta  04:35:00  MG  251.0  419.6   GRAO MOGOL   \n",
              "2   20/09/2009    Domingo  20:00:00  PI  316.0   24.0     TERESINA   \n",
              "3   17/05/2009    Domingo  15:45:00  RJ  101.0  429.0  MANGARATIBA   \n",
              "4   05/07/2009    Domingo  17:30:00  PE  101.0   59.2       RECIFE   \n",
              "\n",
              "            causa_acidente                               tipo_acidente  \\\n",
              "0  Velocidade incompatível                            Colisão traseira   \n",
              "1                   Outras                             Colisão frontal   \n",
              "2                 Dormindo                              Saída de Pista   \n",
              "3         Falta de atenção                         Colisão Transversal   \n",
              "4                   Outras  Queda de motocicleta / bicicleta / veículo   \n",
              "\n",
              "  classificacao_acidente  ... feridos_graves ilesos ignorados feridos  \\\n",
              "0    Com Vítimas Feridas  ...              0      1         0       4   \n",
              "1     Com Vítimas Fatais  ...              5      0         0       5   \n",
              "2    Com Vítimas Feridas  ...              4      0         0       6   \n",
              "3            Sem Vítimas  ...              0      2         0       0   \n",
              "4    Com Vítimas Feridas  ...              0      0         0       1   \n",
              "\n",
              "  veiculos latitude  longitude  regional  delegacia  uop  \n",
              "0        2      NaN        NaN       NaN        NaN  NaN  \n",
              "1        2      NaN        NaN       NaN        NaN  NaN  \n",
              "2        1      NaN        NaN       NaN        NaN  NaN  \n",
              "3        2      NaN        NaN       NaN        NaN  NaN  \n",
              "4        1      NaN        NaN       NaN        NaN  NaN  \n",
              "\n",
              "[5 rows x 30 columns]"
            ]
          },
          "execution_count": 272,
          "metadata": {},
          "output_type": "execute_result"
        }
      ],
      "source": [
        "df=pd.read_csv(\"datatran2007-2022.csv\")\n",
        "df.head()"
      ]
    },
    {
      "cell_type": "markdown",
      "metadata": {
        "id": "CnrP9ai8zn7X"
      },
      "source": [
        "# Tratamento de dados"
      ]
    },
    {
      "cell_type": "code",
      "execution_count": 273,
      "metadata": {
        "id": "ZvbQQYFpywnt"
      },
      "outputs": [],
      "source": [
        "# transformando e criando colunas adicionais para data\n",
        "df=date_engineering(df)\n",
        "df[\"hour\"]=time_col(df[\"horario\"])"
      ]
    },
    {
      "cell_type": "code",
      "execution_count": 274,
      "metadata": {
        "colab": {
          "base_uri": "https://localhost:8080/",
          "height": 1000
        },
        "id": "dE-85bhct17z",
        "outputId": "d123d8cb-4630-4ad8-8dc2-f1cd5f651b43"
      },
      "outputs": [
        {
          "data": {
            "text/html": [
              "<div>\n",
              "<style scoped>\n",
              "    .dataframe tbody tr th:only-of-type {\n",
              "        vertical-align: middle;\n",
              "    }\n",
              "\n",
              "    .dataframe tbody tr th {\n",
              "        vertical-align: top;\n",
              "    }\n",
              "\n",
              "    .dataframe thead th {\n",
              "        text-align: right;\n",
              "    }\n",
              "</style>\n",
              "<table border=\"1\" class=\"dataframe\">\n",
              "  <thead>\n",
              "    <tr style=\"text-align: right;\">\n",
              "      <th></th>\n",
              "      <th>missing</th>\n",
              "      <th>total</th>\n",
              "      <th>percent</th>\n",
              "    </tr>\n",
              "  </thead>\n",
              "  <tbody>\n",
              "    <tr>\n",
              "      <th>delegacia</th>\n",
              "      <td>1563088</td>\n",
              "      <td>1981317</td>\n",
              "      <td>78.891364</td>\n",
              "    </tr>\n",
              "    <tr>\n",
              "      <th>uop</th>\n",
              "      <td>1563008</td>\n",
              "      <td>1981317</td>\n",
              "      <td>78.887326</td>\n",
              "    </tr>\n",
              "    <tr>\n",
              "      <th>regional</th>\n",
              "      <td>1562206</td>\n",
              "      <td>1981317</td>\n",
              "      <td>78.846848</td>\n",
              "    </tr>\n",
              "    <tr>\n",
              "      <th>latitude</th>\n",
              "      <td>1562200</td>\n",
              "      <td>1981317</td>\n",
              "      <td>78.846545</td>\n",
              "    </tr>\n",
              "    <tr>\n",
              "      <th>longitude</th>\n",
              "      <td>1562200</td>\n",
              "      <td>1981317</td>\n",
              "      <td>78.846545</td>\n",
              "    </tr>\n",
              "    <tr>\n",
              "      <th>ano</th>\n",
              "      <td>515480</td>\n",
              "      <td>1981317</td>\n",
              "      <td>26.017038</td>\n",
              "    </tr>\n",
              "    <tr>\n",
              "      <th>km</th>\n",
              "      <td>894</td>\n",
              "      <td>1981317</td>\n",
              "      <td>0.045122</td>\n",
              "    </tr>\n",
              "    <tr>\n",
              "      <th>br</th>\n",
              "      <td>894</td>\n",
              "      <td>1981317</td>\n",
              "      <td>0.045122</td>\n",
              "    </tr>\n",
              "    <tr>\n",
              "      <th>fase_dia</th>\n",
              "      <td>70</td>\n",
              "      <td>1981317</td>\n",
              "      <td>0.003533</td>\n",
              "    </tr>\n",
              "    <tr>\n",
              "      <th>condicao_metereologica</th>\n",
              "      <td>61</td>\n",
              "      <td>1981317</td>\n",
              "      <td>0.003079</td>\n",
              "    </tr>\n",
              "    <tr>\n",
              "      <th>tipo_acidente</th>\n",
              "      <td>40</td>\n",
              "      <td>1981317</td>\n",
              "      <td>0.002019</td>\n",
              "    </tr>\n",
              "    <tr>\n",
              "      <th>classificacao_acidente</th>\n",
              "      <td>26</td>\n",
              "      <td>1981317</td>\n",
              "      <td>0.001312</td>\n",
              "    </tr>\n",
              "    <tr>\n",
              "      <th>uf</th>\n",
              "      <td>12</td>\n",
              "      <td>1981317</td>\n",
              "      <td>0.000606</td>\n",
              "    </tr>\n",
              "    <tr>\n",
              "      <th>tipo_pista</th>\n",
              "      <td>10</td>\n",
              "      <td>1981317</td>\n",
              "      <td>0.000505</td>\n",
              "    </tr>\n",
              "    <tr>\n",
              "      <th>tracado_via</th>\n",
              "      <td>10</td>\n",
              "      <td>1981317</td>\n",
              "      <td>0.000505</td>\n",
              "    </tr>\n",
              "    <tr>\n",
              "      <th>uso_solo</th>\n",
              "      <td>10</td>\n",
              "      <td>1981317</td>\n",
              "      <td>0.000505</td>\n",
              "    </tr>\n",
              "    <tr>\n",
              "      <th>causa_acidente</th>\n",
              "      <td>2</td>\n",
              "      <td>1981317</td>\n",
              "      <td>0.000101</td>\n",
              "    </tr>\n",
              "    <tr>\n",
              "      <th>data_inversa</th>\n",
              "      <td>0</td>\n",
              "      <td>1981317</td>\n",
              "      <td>0.000000</td>\n",
              "    </tr>\n",
              "    <tr>\n",
              "      <th>year</th>\n",
              "      <td>0</td>\n",
              "      <td>1981317</td>\n",
              "      <td>0.000000</td>\n",
              "    </tr>\n",
              "    <tr>\n",
              "      <th>veiculos</th>\n",
              "      <td>0</td>\n",
              "      <td>1981317</td>\n",
              "      <td>0.000000</td>\n",
              "    </tr>\n",
              "    <tr>\n",
              "      <th>quarter</th>\n",
              "      <td>0</td>\n",
              "      <td>1981317</td>\n",
              "      <td>0.000000</td>\n",
              "    </tr>\n",
              "    <tr>\n",
              "      <th>quarter_end</th>\n",
              "      <td>0</td>\n",
              "      <td>1981317</td>\n",
              "      <td>0.000000</td>\n",
              "    </tr>\n",
              "    <tr>\n",
              "      <th>month</th>\n",
              "      <td>0</td>\n",
              "      <td>1981317</td>\n",
              "      <td>0.000000</td>\n",
              "    </tr>\n",
              "    <tr>\n",
              "      <th>pessoas</th>\n",
              "      <td>0</td>\n",
              "      <td>1981317</td>\n",
              "      <td>0.000000</td>\n",
              "    </tr>\n",
              "    <tr>\n",
              "      <th>feridos</th>\n",
              "      <td>0</td>\n",
              "      <td>1981317</td>\n",
              "      <td>0.000000</td>\n",
              "    </tr>\n",
              "    <tr>\n",
              "      <th>ignorados</th>\n",
              "      <td>0</td>\n",
              "      <td>1981317</td>\n",
              "      <td>0.000000</td>\n",
              "    </tr>\n",
              "    <tr>\n",
              "      <th>ilesos</th>\n",
              "      <td>0</td>\n",
              "      <td>1981317</td>\n",
              "      <td>0.000000</td>\n",
              "    </tr>\n",
              "    <tr>\n",
              "      <th>feridos_graves</th>\n",
              "      <td>0</td>\n",
              "      <td>1981317</td>\n",
              "      <td>0.000000</td>\n",
              "    </tr>\n",
              "    <tr>\n",
              "      <th>feridos_leves</th>\n",
              "      <td>0</td>\n",
              "      <td>1981317</td>\n",
              "      <td>0.000000</td>\n",
              "    </tr>\n",
              "    <tr>\n",
              "      <th>mortos</th>\n",
              "      <td>0</td>\n",
              "      <td>1981317</td>\n",
              "      <td>0.000000</td>\n",
              "    </tr>\n",
              "    <tr>\n",
              "      <th>dia_semana</th>\n",
              "      <td>0</td>\n",
              "      <td>1981317</td>\n",
              "      <td>0.000000</td>\n",
              "    </tr>\n",
              "    <tr>\n",
              "      <th>sentido_via</th>\n",
              "      <td>0</td>\n",
              "      <td>1981317</td>\n",
              "      <td>0.000000</td>\n",
              "    </tr>\n",
              "    <tr>\n",
              "      <th>municipio</th>\n",
              "      <td>0</td>\n",
              "      <td>1981317</td>\n",
              "      <td>0.000000</td>\n",
              "    </tr>\n",
              "    <tr>\n",
              "      <th>horario</th>\n",
              "      <td>0</td>\n",
              "      <td>1981317</td>\n",
              "      <td>0.000000</td>\n",
              "    </tr>\n",
              "    <tr>\n",
              "      <th>hour</th>\n",
              "      <td>0</td>\n",
              "      <td>1981317</td>\n",
              "      <td>0.000000</td>\n",
              "    </tr>\n",
              "  </tbody>\n",
              "</table>\n",
              "</div>"
            ],
            "text/plain": [
              "                        missing    total    percent\n",
              "delegacia               1563088  1981317  78.891364\n",
              "uop                     1563008  1981317  78.887326\n",
              "regional                1562206  1981317  78.846848\n",
              "latitude                1562200  1981317  78.846545\n",
              "longitude               1562200  1981317  78.846545\n",
              "ano                      515480  1981317  26.017038\n",
              "km                          894  1981317   0.045122\n",
              "br                          894  1981317   0.045122\n",
              "fase_dia                     70  1981317   0.003533\n",
              "condicao_metereologica       61  1981317   0.003079\n",
              "tipo_acidente                40  1981317   0.002019\n",
              "classificacao_acidente       26  1981317   0.001312\n",
              "uf                           12  1981317   0.000606\n",
              "tipo_pista                   10  1981317   0.000505\n",
              "tracado_via                  10  1981317   0.000505\n",
              "uso_solo                     10  1981317   0.000505\n",
              "causa_acidente                2  1981317   0.000101\n",
              "data_inversa                  0  1981317   0.000000\n",
              "year                          0  1981317   0.000000\n",
              "veiculos                      0  1981317   0.000000\n",
              "quarter                       0  1981317   0.000000\n",
              "quarter_end                   0  1981317   0.000000\n",
              "month                         0  1981317   0.000000\n",
              "pessoas                       0  1981317   0.000000\n",
              "feridos                       0  1981317   0.000000\n",
              "ignorados                     0  1981317   0.000000\n",
              "ilesos                        0  1981317   0.000000\n",
              "feridos_graves                0  1981317   0.000000\n",
              "feridos_leves                 0  1981317   0.000000\n",
              "mortos                        0  1981317   0.000000\n",
              "dia_semana                    0  1981317   0.000000\n",
              "sentido_via                   0  1981317   0.000000\n",
              "municipio                     0  1981317   0.000000\n",
              "horario                       0  1981317   0.000000\n",
              "hour                          0  1981317   0.000000"
            ]
          },
          "execution_count": 274,
          "metadata": {},
          "output_type": "execute_result"
        }
      ],
      "source": [
        "#percentual de dados vazios\n",
        "df.stb.missing()"
      ]
    },
    {
      "cell_type": "code",
      "execution_count": 275,
      "metadata": {
        "colab": {
          "base_uri": "https://localhost:8080/"
        },
        "id": "czca3SYDyV1a",
        "outputId": "863a2348-3c49-43b2-e67a-406c390d42ee"
      },
      "outputs": [
        {
          "name": "stdout",
          "output_type": "stream",
          "text": [
            "        data_inversa dia_semana   horario  uf     br     km  \\\n",
            "1256430   2007-01-01    Segunda  06:30:00  PA  316.0    9.0   \n",
            "1257103   2007-01-01    Segunda  08:40:00  MG  381.0  397.4   \n",
            "1256115   2007-01-01    Segunda  15:20:00  SC  282.0   23.0   \n",
            "1260278   2007-01-01    Segunda  14:00:00  MG   40.0  120.8   \n",
            "1257102   2007-01-01    Segunda  12:00:00  MG   50.0    0.2   \n",
            "\n",
            "                         municipio               causa_acidente  \\\n",
            "1256430                 ANANINDEUA  Desobediência à sinalização   \n",
            "1257103                 NOVA UNIAO                       Outras   \n",
            "1256115  SANTO AMARO DA IMPERATRIZ  Desobediência à sinalização   \n",
            "1260278               LAGOA GRANDE                     Dormindo   \n",
            "1257102                   ARAGUARI                       Outras   \n",
            "\n",
            "               tipo_acidente classificacao_acidente  ... latitude longitude  \\\n",
            "1256430  Colisão Transversal    Com Vítimas Feridas  ...      NaN       NaN   \n",
            "1257103       Saída de Pista            Sem Vítimas  ...      NaN       NaN   \n",
            "1256115  Colisão Transversal    Com Vítimas Feridas  ...      NaN       NaN   \n",
            "1260278       Saída de Pista            Sem Vítimas  ...      NaN       NaN   \n",
            "1257102       Saída de Pista    Com Vítimas Feridas  ...      NaN       NaN   \n",
            "\n",
            "        regional delegacia  uop  year  month  quarter  quarter_end  hour  \n",
            "1256430      NaN       NaN  NaN  2007      1        1        False    06  \n",
            "1257103      NaN       NaN  NaN  2007      1        1        False    08  \n",
            "1256115      NaN       NaN  NaN  2007      1        1        False    15  \n",
            "1260278      NaN       NaN  NaN  2007      1        1        False    14  \n",
            "1257102      NaN       NaN  NaN  2007      1        1        False    12  \n",
            "\n",
            "[5 rows x 35 columns]\n",
            "        data_inversa dia_semana   horario  uf     br     km  \\\n",
            "1788483   2022-12-31     sábado  16:25:00  PR  153.0   51,9   \n",
            "1788482   2022-12-31     sábado  17:00:00  RS  285.0  211,5   \n",
            "1788481   2022-12-31     sábado  16:40:00  SC  470.0   21,7   \n",
            "1788506   2022-12-31     sábado  18:50:00  AL  316.0  165,2   \n",
            "1788519   2022-12-31     sábado  20:40:00  SC  116.0  231,7   \n",
            "\n",
            "                        municipio  \\\n",
            "1788483  SANTO ANTONIO DA PLATINA   \n",
            "1788482                  CASEIROS   \n",
            "1788481                    ILHOTA   \n",
            "1788506       PALMEIRA DOS INDIOS   \n",
            "1788519             CORREIA PINTO   \n",
            "\n",
            "                                            causa_acidente  \\\n",
            "1788483                   Ingestão de álcool pelo condutor   \n",
            "1788482  Acessar a via sem observar a presença dos outr...   \n",
            "1788481            Avarias e/ou desgaste excessivo no pneu   \n",
            "1788506                                   Animais na Pista   \n",
            "1788519                            Velocidade Incompatível   \n",
            "\n",
            "                     tipo_acidente classificacao_acidente  ...      latitude  \\\n",
            "1788483  Saída de leito carroçável    Com Vítimas Feridas  ...  -23,37173099   \n",
            "1788482        Colisão transversal            Sem Vítimas  ...  -28,23704643   \n",
            "1788481                 Tombamento    Com Vítimas Feridas  ...    -26,876698   \n",
            "1788506    Atropelamento de Animal    Com Vítimas Feridas  ...   -9,48239127   \n",
            "1788519  Saída de leito carroçável    Com Vítimas Feridas  ...  -27,67428901   \n",
            "\n",
            "            longitude regional delegacia             uop  year  month  \\\n",
            "1788483  -50,06416197  SPRF-PR  DEL07-PR  UOP04-DEL07-PR  2022     12   \n",
            "1788482  -51,63974404  SPRF-RS  DEL08-RS  UOP05-DEL08-RS  2022     12   \n",
            "1788481    -48,827362  SPRF-SC  DEL04-SC  UOP04-DEL04-SC  2022     12   \n",
            "1788506  -36,57309034  SPRF-AL  DEL03-AL  UOP01-DEL03-AL  2022     12   \n",
            "1788519  -50,33598326  SPRF-SC  DEL05-SC  UOP03-DEL05-SC  2022     12   \n",
            "\n",
            "         quarter  quarter_end  hour  \n",
            "1788483        4         True    16  \n",
            "1788482        4         True    17  \n",
            "1788481        4         True    16  \n",
            "1788506        4         True    18  \n",
            "1788519        4         True    20  \n",
            "\n",
            "[5 rows x 35 columns]\n"
          ]
        }
      ],
      "source": [
        "#ordenando datas\n",
        "df=df.sort_values(by=\"data_inversa\")\n",
        "print(f\"{df.head()}\")\n",
        "print(f\"{df.tail()}\")"
      ]
    },
    {
      "cell_type": "code",
      "execution_count": 276,
      "metadata": {
        "colab": {
          "base_uri": "https://localhost:8080/",
          "height": 370
        },
        "id": "ywEMrhtVtpUR",
        "outputId": "cc08cfb6-3e23-4f7a-efde-b2af16cbecaf"
      },
      "outputs": [
        {
          "data": {
            "text/plain": [
              "<Axes: >"
            ]
          },
          "execution_count": 276,
          "metadata": {},
          "output_type": "execute_result"
        },
        {
          "data": {
            "image/png": "[encoded data removed]",
            "text/plain": [
              "<Figure size 2500x1000 with 2 Axes>"
            ]
          },
          "metadata": {},
          "output_type": "display_data"
        }
      ],
      "source": [
        "msno.matrix(df)"
      ]
    },
    {
      "cell_type": "code",
      "execution_count": 277,
      "metadata": {
        "colab": {
          "base_uri": "https://localhost:8080/",
          "height": 389
        },
        "id": "g4zMowZJxP7V",
        "outputId": "7753f1c3-193d-4426-ac03-696f9bd17b86"
      },
      "outputs": [
        {
          "data": {
            "text/plain": [
              "<Axes: >"
            ]
          },
          "execution_count": 277,
          "metadata": {},
          "output_type": "execute_result"
        },
        {
          "data": {
            "image/png": "[encoded data removed]",
            "text/plain": [
              "<Figure size 2500x1000 with 3 Axes>"
            ]
          },
          "metadata": {},
          "output_type": "display_data"
        }
      ],
      "source": [
        "msno.bar(df)"
      ]
    },
    {
      "cell_type": "code",
      "execution_count": 278,
      "metadata": {
        "id": "rLXwpGS73Y3n"
      },
      "outputs": [],
      "source": [
        "df=df.drop(columns=[\"latitude\",\"longitude\",\"regional\",\"delegacia\",\"uop\",\"ano\",\"municipio\"])"
      ]
    },
    {
      "cell_type": "code",
      "execution_count": 279,
      "metadata": {
        "colab": {
          "base_uri": "https://localhost:8080/",
          "height": 927
        },
        "id": "KpFej2p74snq",
        "outputId": "8fcfdf0c-c452-42aa-ffe7-a26e59268676"
      },
      "outputs": [
        {
          "data": {
            "text/html": [
              "<div>\n",
              "<style scoped>\n",
              "    .dataframe tbody tr th:only-of-type {\n",
              "        vertical-align: middle;\n",
              "    }\n",
              "\n",
              "    .dataframe tbody tr th {\n",
              "        vertical-align: top;\n",
              "    }\n",
              "\n",
              "    .dataframe thead th {\n",
              "        text-align: right;\n",
              "    }\n",
              "</style>\n",
              "<table border=\"1\" class=\"dataframe\">\n",
              "  <thead>\n",
              "    <tr style=\"text-align: right;\">\n",
              "      <th></th>\n",
              "      <th>missing</th>\n",
              "      <th>total</th>\n",
              "      <th>percent</th>\n",
              "    </tr>\n",
              "  </thead>\n",
              "  <tbody>\n",
              "    <tr>\n",
              "      <th>br</th>\n",
              "      <td>894</td>\n",
              "      <td>1981317</td>\n",
              "      <td>0.045122</td>\n",
              "    </tr>\n",
              "    <tr>\n",
              "      <th>km</th>\n",
              "      <td>894</td>\n",
              "      <td>1981317</td>\n",
              "      <td>0.045122</td>\n",
              "    </tr>\n",
              "    <tr>\n",
              "      <th>fase_dia</th>\n",
              "      <td>70</td>\n",
              "      <td>1981317</td>\n",
              "      <td>0.003533</td>\n",
              "    </tr>\n",
              "    <tr>\n",
              "      <th>condicao_metereologica</th>\n",
              "      <td>61</td>\n",
              "      <td>1981317</td>\n",
              "      <td>0.003079</td>\n",
              "    </tr>\n",
              "    <tr>\n",
              "      <th>tipo_acidente</th>\n",
              "      <td>40</td>\n",
              "      <td>1981317</td>\n",
              "      <td>0.002019</td>\n",
              "    </tr>\n",
              "    <tr>\n",
              "      <th>classificacao_acidente</th>\n",
              "      <td>26</td>\n",
              "      <td>1981317</td>\n",
              "      <td>0.001312</td>\n",
              "    </tr>\n",
              "    <tr>\n",
              "      <th>uf</th>\n",
              "      <td>12</td>\n",
              "      <td>1981317</td>\n",
              "      <td>0.000606</td>\n",
              "    </tr>\n",
              "    <tr>\n",
              "      <th>tracado_via</th>\n",
              "      <td>10</td>\n",
              "      <td>1981317</td>\n",
              "      <td>0.000505</td>\n",
              "    </tr>\n",
              "    <tr>\n",
              "      <th>tipo_pista</th>\n",
              "      <td>10</td>\n",
              "      <td>1981317</td>\n",
              "      <td>0.000505</td>\n",
              "    </tr>\n",
              "    <tr>\n",
              "      <th>uso_solo</th>\n",
              "      <td>10</td>\n",
              "      <td>1981317</td>\n",
              "      <td>0.000505</td>\n",
              "    </tr>\n",
              "    <tr>\n",
              "      <th>causa_acidente</th>\n",
              "      <td>2</td>\n",
              "      <td>1981317</td>\n",
              "      <td>0.000101</td>\n",
              "    </tr>\n",
              "    <tr>\n",
              "      <th>quarter</th>\n",
              "      <td>0</td>\n",
              "      <td>1981317</td>\n",
              "      <td>0.000000</td>\n",
              "    </tr>\n",
              "    <tr>\n",
              "      <th>ilesos</th>\n",
              "      <td>0</td>\n",
              "      <td>1981317</td>\n",
              "      <td>0.000000</td>\n",
              "    </tr>\n",
              "    <tr>\n",
              "      <th>quarter_end</th>\n",
              "      <td>0</td>\n",
              "      <td>1981317</td>\n",
              "      <td>0.000000</td>\n",
              "    </tr>\n",
              "    <tr>\n",
              "      <th>month</th>\n",
              "      <td>0</td>\n",
              "      <td>1981317</td>\n",
              "      <td>0.000000</td>\n",
              "    </tr>\n",
              "    <tr>\n",
              "      <th>year</th>\n",
              "      <td>0</td>\n",
              "      <td>1981317</td>\n",
              "      <td>0.000000</td>\n",
              "    </tr>\n",
              "    <tr>\n",
              "      <th>veiculos</th>\n",
              "      <td>0</td>\n",
              "      <td>1981317</td>\n",
              "      <td>0.000000</td>\n",
              "    </tr>\n",
              "    <tr>\n",
              "      <th>feridos</th>\n",
              "      <td>0</td>\n",
              "      <td>1981317</td>\n",
              "      <td>0.000000</td>\n",
              "    </tr>\n",
              "    <tr>\n",
              "      <th>ignorados</th>\n",
              "      <td>0</td>\n",
              "      <td>1981317</td>\n",
              "      <td>0.000000</td>\n",
              "    </tr>\n",
              "    <tr>\n",
              "      <th>data_inversa</th>\n",
              "      <td>0</td>\n",
              "      <td>1981317</td>\n",
              "      <td>0.000000</td>\n",
              "    </tr>\n",
              "    <tr>\n",
              "      <th>feridos_graves</th>\n",
              "      <td>0</td>\n",
              "      <td>1981317</td>\n",
              "      <td>0.000000</td>\n",
              "    </tr>\n",
              "    <tr>\n",
              "      <th>feridos_leves</th>\n",
              "      <td>0</td>\n",
              "      <td>1981317</td>\n",
              "      <td>0.000000</td>\n",
              "    </tr>\n",
              "    <tr>\n",
              "      <th>mortos</th>\n",
              "      <td>0</td>\n",
              "      <td>1981317</td>\n",
              "      <td>0.000000</td>\n",
              "    </tr>\n",
              "    <tr>\n",
              "      <th>pessoas</th>\n",
              "      <td>0</td>\n",
              "      <td>1981317</td>\n",
              "      <td>0.000000</td>\n",
              "    </tr>\n",
              "    <tr>\n",
              "      <th>dia_semana</th>\n",
              "      <td>0</td>\n",
              "      <td>1981317</td>\n",
              "      <td>0.000000</td>\n",
              "    </tr>\n",
              "    <tr>\n",
              "      <th>sentido_via</th>\n",
              "      <td>0</td>\n",
              "      <td>1981317</td>\n",
              "      <td>0.000000</td>\n",
              "    </tr>\n",
              "    <tr>\n",
              "      <th>horario</th>\n",
              "      <td>0</td>\n",
              "      <td>1981317</td>\n",
              "      <td>0.000000</td>\n",
              "    </tr>\n",
              "    <tr>\n",
              "      <th>hour</th>\n",
              "      <td>0</td>\n",
              "      <td>1981317</td>\n",
              "      <td>0.000000</td>\n",
              "    </tr>\n",
              "  </tbody>\n",
              "</table>\n",
              "</div>"
            ],
            "text/plain": [
              "                        missing    total   percent\n",
              "br                          894  1981317  0.045122\n",
              "km                          894  1981317  0.045122\n",
              "fase_dia                     70  1981317  0.003533\n",
              "condicao_metereologica       61  1981317  0.003079\n",
              "tipo_acidente                40  1981317  0.002019\n",
              "classificacao_acidente       26  1981317  0.001312\n",
              "uf                           12  1981317  0.000606\n",
              "tracado_via                  10  1981317  0.000505\n",
              "tipo_pista                   10  1981317  0.000505\n",
              "uso_solo                     10  1981317  0.000505\n",
              "causa_acidente                2  1981317  0.000101\n",
              "quarter                       0  1981317  0.000000\n",
              "ilesos                        0  1981317  0.000000\n",
              "quarter_end                   0  1981317  0.000000\n",
              "month                         0  1981317  0.000000\n",
              "year                          0  1981317  0.000000\n",
              "veiculos                      0  1981317  0.000000\n",
              "feridos                       0  1981317  0.000000\n",
              "ignorados                     0  1981317  0.000000\n",
              "data_inversa                  0  1981317  0.000000\n",
              "feridos_graves                0  1981317  0.000000\n",
              "feridos_leves                 0  1981317  0.000000\n",
              "mortos                        0  1981317  0.000000\n",
              "pessoas                       0  1981317  0.000000\n",
              "dia_semana                    0  1981317  0.000000\n",
              "sentido_via                   0  1981317  0.000000\n",
              "horario                       0  1981317  0.000000\n",
              "hour                          0  1981317  0.000000"
            ]
          },
          "execution_count": 279,
          "metadata": {},
          "output_type": "execute_result"
        }
      ],
      "source": [
        "df.stb.missing()"
      ]
    },
    {
      "cell_type": "code",
      "execution_count": 280,
      "metadata": {
        "colab": {
          "base_uri": "https://localhost:8080/"
        },
        "id": "Gxs9QwrcB2B2",
        "outputId": "75170c8d-7018-4a55-b46f-ea2fe31b19c9"
      },
      "outputs": [
        {
          "name": "stdout",
          "output_type": "stream",
          "text": [
            "<class 'pandas.core.series.Series'>\n",
            "Index: 1981317 entries, 1256430 to 1788519\n",
            "Series name: date\n",
            "Non-Null Count    Dtype         \n",
            "--------------    -----         \n",
            "1981317 non-null  datetime64[ns]\n",
            "dtypes: datetime64[ns](1)\n",
            "memory usage: 30.2 MB\n"
          ]
        }
      ],
      "source": [
        "df[\"date\"]=pd.to_datetime(df[\"data_inversa\"])\n",
        "df[\"date\"].info()"
      ]
    },
    {
      "cell_type": "code",
      "execution_count": 281,
      "metadata": {
        "id": "GqRriZeZDclc"
      },
      "outputs": [],
      "source": [
        "df=df.set_index(\"date\")"
      ]
    },
    {
      "cell_type": "code",
      "execution_count": 282,
      "metadata": {
        "id": "Kc3tvPCJ5Npz"
      },
      "outputs": [],
      "source": [
        "cat_col=df.select_dtypes(exclude=\"number\").columns.to_list()\n",
        "num_col=[col for col in df if col not in cat_col]"
      ]
    },
    {
      "cell_type": "code",
      "execution_count": 283,
      "metadata": {
        "colab": {
          "base_uri": "https://localhost:8080/"
        },
        "id": "x058MIZmDcCX",
        "outputId": "6212ddde-e517-40a6-cb7c-761abfe610cc"
      },
      "outputs": [
        {
          "data": {
            "text/plain": [
              "['br',\n",
              " 'pessoas',\n",
              " 'mortos',\n",
              " 'feridos_leves',\n",
              " 'feridos_graves',\n",
              " 'ilesos',\n",
              " 'ignorados',\n",
              " 'feridos',\n",
              " 'veiculos',\n",
              " 'year',\n",
              " 'month',\n",
              " 'quarter']"
            ]
          },
          "execution_count": 283,
          "metadata": {},
          "output_type": "execute_result"
        }
      ],
      "source": [
        "num_col"
      ]
    },
    {
      "cell_type": "code",
      "execution_count": 284,
      "metadata": {
        "id": "lNzXZ1iVBfvN"
      },
      "outputs": [],
      "source": [
        "cat_col=[\n",
        "  #'data_inversa',\n",
        " 'dia_semana',\n",
        " #'horario',\n",
        " 'uf',\n",
        " #'km',\n",
        " #'municipio',\n",
        " 'causa_acidente',\n",
        " 'tipo_acidente',\n",
        " 'classificacao_acidente',\n",
        " 'fase_dia',\n",
        " 'sentido_via',\n",
        " 'condicao_metereologica',\n",
        " 'tipo_pista',\n",
        " 'tracado_via',\n",
        " 'uso_solo',\n",
        " 'hour',\n",
        "  ]"
      ]
    },
    {
      "cell_type": "code",
      "execution_count": 285,
      "metadata": {
        "id": "ZjamqeYADbGm"
      },
      "outputs": [],
      "source": [
        "df['dia_semana']=df[\"dia_semana\"].apply(lambda x:convert_lower_case(x))"
      ]
    },
    {
      "cell_type": "code",
      "execution_count": 286,
      "metadata": {
        "id": "pYVmPPvZEnq6"
      },
      "outputs": [],
      "source": [
        "df.dropna(inplace=True)"
      ]
    },
    {
      "cell_type": "code",
      "execution_count": 287,
      "metadata": {
        "colab": {
          "base_uri": "https://localhost:8080/"
        },
        "id": "cWezjnevG-Vd",
        "outputId": "1884b2af-cfa6-45fd-9b96-00290bc34f07"
      },
      "outputs": [
        {
          "data": {
            "text/plain": [
              "causa_acidente\n",
              "Falta de atenção                      25.62\n",
              "Outras                                48.40\n",
              "Não guardar distância de segurança    56.37\n",
              "Name: proportion, dtype: float64"
            ]
          },
          "execution_count": 287,
          "metadata": {},
          "output_type": "execute_result"
        }
      ],
      "source": [
        "np.round(df[\"causa_acidente\"].value_counts(normalize=True)*100,2).nlargest(3).cumsum()"
      ]
    },
    {
      "cell_type": "code",
      "execution_count": 288,
      "metadata": {
        "colab": {
          "base_uri": "https://localhost:8080/"
        },
        "id": "INPKj3lnO0G9",
        "outputId": "deb302b8-47d9-4eeb-d2c9-e6fbb9a0360f"
      },
      "outputs": [
        {
          "data": {
            "text/plain": [
              "tipo_acidente\n",
              "Colisão traseira       25.86\n",
              "Colisão lateral        40.47\n",
              "Saída de Pista         52.23\n",
              "Colisão Transversal    60.13\n",
              "Tombamento             65.02\n",
              "Name: proportion, dtype: float64"
            ]
          },
          "execution_count": 288,
          "metadata": {},
          "output_type": "execute_result"
        }
      ],
      "source": [
        "np.round(df[\"tipo_acidente\"].value_counts(normalize=True)*100,2).nlargest(5).cumsum()"
      ]
    },
    {
      "cell_type": "code",
      "execution_count": 289,
      "metadata": {
        "id": "Hl9CCLRQPn21"
      },
      "outputs": [],
      "source": [
        "for col in cat_col:\n",
        "  df[col]=df[col].apply(lambda x: convert_lower_case(x))"
      ]
    },
    {
      "cell_type": "code",
      "execution_count": 290,
      "metadata": {
        "colab": {
          "base_uri": "https://localhost:8080/"
        },
        "id": "4DpQmymHJPWm",
        "outputId": "24961bf6-afdb-47d7-b962-f9f85debe802"
      },
      "outputs": [
        {
          "name": "stdout",
          "output_type": "stream",
          "text": [
            "['segunda' 'quinta' 'domingo' 'terça' 'sexta' 'quarta' 'sábado'\n",
            " 'segunda-feira' 'terça-feira' 'quarta-feira' 'quinta-feira' 'sexta-feira']\n",
            "['pa' 'mg' 'sc' 'pe' 'ro' 'go' 'se' 'rs' 'ms' 'df' 'rj' 'pr' 'ba' 'es'\n",
            " 'ce' 'pi' 'sp' 'ma' 'rn' 'pb' 'ap' 'mt' 'al' 'to' 'rr' 'am' 'ac']\n",
            "['desobediência à sinalização' 'outras' 'dormindo'\n",
            " 'não guardar distância de segurança' 'defeito mecânico em veículo'\n",
            " 'falta de atenção' 'animais na pista' 'velocidade incompatível'\n",
            " 'ingestão de álcool' 'ultrapassagem indevida' 'defeito na via'\n",
            " 'condutor dormindo' 'desobediência às normas de trânsito pelo condutor'\n",
            " 'falta de atenção à condução' 'pista escorregadia'\n",
            " 'falta de atenção do pedestre'\n",
            " 'sinalização da via insuficiente ou inadequada'\n",
            " 'avarias e/ou desgaste excessivo no pneu' 'mal súbito'\n",
            " 'defeito mecânico no veículo' 'fenômenos da natureza'\n",
            " 'restrição de visibilidade' 'objeto estático sobre o leito carroçável'\n",
            " 'carga excessiva e/ou mal acondicionada'\n",
            " 'deficiência ou não acionamento do sistema de iluminação/sinalização do veículo'\n",
            " 'ingestão de substâncias psicoativas'\n",
            " 'reação tardia ou ineficiente do condutor' 'agressão externa'\n",
            " 'desobediência às normas de trânsito pelo pedestre'\n",
            " 'acumulo de areia ou detritos sobre o pavimento'\n",
            " 'ingestão de álcool e/ou substâncias psicoativas pelo pedestre'\n",
            " 'ingestão de álcool pelo condutor' 'curva acentuada'\n",
            " 'desrespeitar a preferência no cruzamento' 'pedestre andava na pista'\n",
            " 'pista em desnível' 'chuva' 'demais falhas mecânicas ou elétricas'\n",
            " 'pista esburacada' 'ausência de reação do condutor'\n",
            " 'transitar na contramão' 'obras na pista'\n",
            " 'ingestão de álcool ou de substâncias psicoativas pelo pedestre'\n",
            " 'conversão proibida'\n",
            " 'trafegar com motocicleta (ou similar) entre as faixas'\n",
            " 'condutor deixou de manter distância do veículo da frente'\n",
            " 'iluminação deficiente'\n",
            " 'acessar a via sem observar a presença dos outros veículos'\n",
            " 'deficiência do sistema de iluminação/sinalização' 'fumaça'\n",
            " 'manobra de mudança de faixa' 'demais fenômenos da natureza'\n",
            " 'falta de acostamento' 'acesso irregular' 'transitar no acostamento'\n",
            " 'condutor usando celular'\n",
            " 'condutor desrespeitou a iluminação vermelha do semáforo'\n",
            " 'acumulo de água sobre o pavimento'\n",
            " 'afundamento ou ondulação no pavimento' 'ausência de sinalização'\n",
            " 'estacionar ou parar em local proibido' 'entrada inopinada do pedestre'\n",
            " 'mal súbito do condutor' 'demais falhas na via'\n",
            " 'acumulo de óleo sobre o pavimento' 'acostamento em desnível'\n",
            " 'pedestre cruzava a pista fora da faixa' 'sinalização mal posicionada'\n",
            " 'desvio temporário'\n",
            " 'falta de elemento de contenção que evite a saída do leito carroçável'\n",
            " 'declive acentuado' 'redutor de velocidade em desacordo'\n",
            " 'frear bruscamente' 'problema com o freio' 'retorno proibido'\n",
            " 'ingestão de substâncias psicoativas pelo condutor' 'obstrução na via'\n",
            " 'área urbana sem a presença de local apropriado para a travessia de pedestres'\n",
            " 'problema na suspensão'\n",
            " 'deixar de acionar o farol da motocicleta (ou similar)'\n",
            " 'restrição de visibilidade em curvas verticais'\n",
            " 'restrição de visibilidade em curvas horizontais' 'semáforo com defeito'\n",
            " 'faixas de trânsito com largura insuficiente' 'neblina'\n",
            " 'transitar na calçada' 'faróis desregulados' 'sinalização encoberta'\n",
            " 'participar de racha' 'modificação proibida'\n",
            " 'sistema de drenagem ineficiente']\n",
            "['colisão transversal' 'saída de pista' 'colisão lateral'\n",
            " 'colisão com bicicleta' 'colisão traseira' 'colisão com objeto fixo'\n",
            " 'capotamento' 'queda de motocicleta / bicicleta / veículo' 'incêndio'\n",
            " 'atropelamento de pessoa' 'colisão frontal' 'atropelamento de animal'\n",
            " 'colisão com objeto móvel' 'tombamento' 'derramamento de carga'\n",
            " 'danos eventuais' 'colisão com objeto estático'\n",
            " 'saída de leito carroçável' 'queda de ocupante de veículo'\n",
            " 'atropelamento de pedestre' 'engavetamento'\n",
            " 'colisão com objeto em movimento' 'colisão com objeto'\n",
            " 'colisão lateral mesmo sentido' 'eventos atípicos'\n",
            " 'colisão lateral sentido oposto']\n",
            "['com vítimas feridas' 'sem vítimas' 'com vítimas fatais' 'ignorado']\n",
            "['amanhecer' 'pleno dia' 'plena noite' 'anoitecer']\n",
            "['crescente' 'decrescente']\n",
            "['ceu claro' 'nublado' 'sol' 'chuva' 'ignorada' 'vento' 'nevoeiro/neblina'\n",
            " 'granizo' 'neve' 'céu claro' 'garoa/chuvisco' 'ignorado']\n",
            "['dupla' 'simples' 'múltipla']\n",
            "['reta' 'curva' 'cruzamento' 'desvio temporário' 'não informado'\n",
            " 'rotatória' 'viaduto' 'interseção de vias' 'ponte'\n",
            " 'retorno regulamentado' 'túnel']\n",
            "['urbano' 'rural' 'sim' 'não']\n",
            "['06' '08' '15' '14' '12' '16' '21' '18' '20' '02' '17' '22' '19' '13'\n",
            " '11' '05' '07' '04' '03' '09' '00' '01' '23' '10']\n"
          ]
        }
      ],
      "source": [
        "for col in cat_col:\n",
        "  print(df[col].unique())"
      ]
    },
    {
      "cell_type": "code",
      "execution_count": 291,
      "metadata": {
        "colab": {
          "base_uri": "https://localhost:8080/"
        },
        "id": "NWkcp0LmKZHK",
        "outputId": "7e5e3ad1-b76b-48ed-b8bc-1a0c2b3c2d04"
      },
      "outputs": [
        {
          "data": {
            "text/plain": [
              "array(['segunda', 'quinta', 'domingo', 'terça', 'sexta', 'quarta',\n",
              "       'sábado'], dtype=object)"
            ]
          },
          "execution_count": 291,
          "metadata": {},
          "output_type": "execute_result"
        }
      ],
      "source": [
        "df[\"dia_semana\"]=date_col(df[\"dia_semana\"])\n",
        "df[\"dia_semana\"].unique()"
      ]
    },
    {
      "cell_type": "code",
      "execution_count": 292,
      "metadata": {
        "colab": {
          "base_uri": "https://localhost:8080/"
        },
        "id": "6U3I79aATj2y",
        "outputId": "ca440278-9cdf-46dd-f613-658cdd06ead8"
      },
      "outputs": [
        {
          "data": {
            "text/plain": [
              "tipo_acidente\n",
              "colisão traseira                              25.856050\n",
              "colisão lateral                               14.609068\n",
              "saída de pista                                11.760408\n",
              "colisão transversal                           10.493837\n",
              "tombamento                                     4.894686\n",
              "colisão com objeto fixo                        4.756975\n",
              "capotamento                                    4.655017\n",
              "colisão frontal                                4.322631\n",
              "saída de leito carroçável                      3.478436\n",
              "queda de motocicleta / bicicleta / veículo     2.648734\n",
              "Name: proportion, dtype: float64"
            ]
          },
          "execution_count": 292,
          "metadata": {},
          "output_type": "execute_result"
        }
      ],
      "source": [
        "df[\"tipo_acidente\"].value_counts(normalize=True).nlargest(10)*100"
      ]
    },
    {
      "cell_type": "code",
      "execution_count": 293,
      "metadata": {
        "colab": {
          "base_uri": "https://localhost:8080/",
          "height": 649
        },
        "id": "Qiq0GLzTU9Br",
        "outputId": "a480fa6f-10cd-46e4-91e5-58ca221594f8"
      },
      "outputs": [
        {
          "data": {
            "text/html": [
              "<div>\n",
              "<style scoped>\n",
              "    .dataframe tbody tr th:only-of-type {\n",
              "        vertical-align: middle;\n",
              "    }\n",
              "\n",
              "    .dataframe tbody tr th {\n",
              "        vertical-align: top;\n",
              "    }\n",
              "\n",
              "    .dataframe thead th {\n",
              "        text-align: right;\n",
              "    }\n",
              "</style>\n",
              "<table border=\"1\" class=\"dataframe\">\n",
              "  <thead>\n",
              "    <tr style=\"text-align: right;\">\n",
              "      <th></th>\n",
              "      <th>br</th>\n",
              "      <th>pessoas</th>\n",
              "      <th>mortos</th>\n",
              "      <th>feridos_leves</th>\n",
              "      <th>feridos_graves</th>\n",
              "      <th>ilesos</th>\n",
              "      <th>ignorados</th>\n",
              "      <th>feridos</th>\n",
              "      <th>veiculos</th>\n",
              "      <th>year</th>\n",
              "      <th>month</th>\n",
              "      <th>quarter</th>\n",
              "    </tr>\n",
              "    <tr>\n",
              "      <th>date</th>\n",
              "      <th></th>\n",
              "      <th></th>\n",
              "      <th></th>\n",
              "      <th></th>\n",
              "      <th></th>\n",
              "      <th></th>\n",
              "      <th></th>\n",
              "      <th></th>\n",
              "      <th></th>\n",
              "      <th></th>\n",
              "      <th></th>\n",
              "      <th></th>\n",
              "    </tr>\n",
              "  </thead>\n",
              "  <tbody>\n",
              "    <tr>\n",
              "      <th>2007-01-01</th>\n",
              "      <td>316.0</td>\n",
              "      <td>2</td>\n",
              "      <td>0</td>\n",
              "      <td>1</td>\n",
              "      <td>0</td>\n",
              "      <td>1</td>\n",
              "      <td>0</td>\n",
              "      <td>1</td>\n",
              "      <td>2</td>\n",
              "      <td>2007</td>\n",
              "      <td>1</td>\n",
              "      <td>1</td>\n",
              "    </tr>\n",
              "    <tr>\n",
              "      <th>2007-01-01</th>\n",
              "      <td>381.0</td>\n",
              "      <td>1</td>\n",
              "      <td>0</td>\n",
              "      <td>0</td>\n",
              "      <td>0</td>\n",
              "      <td>1</td>\n",
              "      <td>0</td>\n",
              "      <td>0</td>\n",
              "      <td>1</td>\n",
              "      <td>2007</td>\n",
              "      <td>1</td>\n",
              "      <td>1</td>\n",
              "    </tr>\n",
              "    <tr>\n",
              "      <th>2007-01-01</th>\n",
              "      <td>282.0</td>\n",
              "      <td>2</td>\n",
              "      <td>0</td>\n",
              "      <td>0</td>\n",
              "      <td>1</td>\n",
              "      <td>1</td>\n",
              "      <td>0</td>\n",
              "      <td>1</td>\n",
              "      <td>2</td>\n",
              "      <td>2007</td>\n",
              "      <td>1</td>\n",
              "      <td>1</td>\n",
              "    </tr>\n",
              "    <tr>\n",
              "      <th>2007-01-01</th>\n",
              "      <td>40.0</td>\n",
              "      <td>2</td>\n",
              "      <td>0</td>\n",
              "      <td>0</td>\n",
              "      <td>0</td>\n",
              "      <td>2</td>\n",
              "      <td>0</td>\n",
              "      <td>0</td>\n",
              "      <td>1</td>\n",
              "      <td>2007</td>\n",
              "      <td>1</td>\n",
              "      <td>1</td>\n",
              "    </tr>\n",
              "    <tr>\n",
              "      <th>2007-01-01</th>\n",
              "      <td>50.0</td>\n",
              "      <td>4</td>\n",
              "      <td>0</td>\n",
              "      <td>3</td>\n",
              "      <td>1</td>\n",
              "      <td>0</td>\n",
              "      <td>0</td>\n",
              "      <td>4</td>\n",
              "      <td>1</td>\n",
              "      <td>2007</td>\n",
              "      <td>1</td>\n",
              "      <td>1</td>\n",
              "    </tr>\n",
              "    <tr>\n",
              "      <th>...</th>\n",
              "      <td>...</td>\n",
              "      <td>...</td>\n",
              "      <td>...</td>\n",
              "      <td>...</td>\n",
              "      <td>...</td>\n",
              "      <td>...</td>\n",
              "      <td>...</td>\n",
              "      <td>...</td>\n",
              "      <td>...</td>\n",
              "      <td>...</td>\n",
              "      <td>...</td>\n",
              "      <td>...</td>\n",
              "    </tr>\n",
              "    <tr>\n",
              "      <th>2022-12-31</th>\n",
              "      <td>153.0</td>\n",
              "      <td>1</td>\n",
              "      <td>0</td>\n",
              "      <td>1</td>\n",
              "      <td>0</td>\n",
              "      <td>0</td>\n",
              "      <td>0</td>\n",
              "      <td>1</td>\n",
              "      <td>1</td>\n",
              "      <td>2022</td>\n",
              "      <td>12</td>\n",
              "      <td>4</td>\n",
              "    </tr>\n",
              "    <tr>\n",
              "      <th>2022-12-31</th>\n",
              "      <td>285.0</td>\n",
              "      <td>4</td>\n",
              "      <td>0</td>\n",
              "      <td>0</td>\n",
              "      <td>0</td>\n",
              "      <td>3</td>\n",
              "      <td>1</td>\n",
              "      <td>0</td>\n",
              "      <td>2</td>\n",
              "      <td>2022</td>\n",
              "      <td>12</td>\n",
              "      <td>4</td>\n",
              "    </tr>\n",
              "    <tr>\n",
              "      <th>2022-12-31</th>\n",
              "      <td>470.0</td>\n",
              "      <td>2</td>\n",
              "      <td>0</td>\n",
              "      <td>1</td>\n",
              "      <td>1</td>\n",
              "      <td>0</td>\n",
              "      <td>0</td>\n",
              "      <td>2</td>\n",
              "      <td>1</td>\n",
              "      <td>2022</td>\n",
              "      <td>12</td>\n",
              "      <td>4</td>\n",
              "    </tr>\n",
              "    <tr>\n",
              "      <th>2022-12-31</th>\n",
              "      <td>316.0</td>\n",
              "      <td>3</td>\n",
              "      <td>0</td>\n",
              "      <td>1</td>\n",
              "      <td>2</td>\n",
              "      <td>0</td>\n",
              "      <td>0</td>\n",
              "      <td>3</td>\n",
              "      <td>1</td>\n",
              "      <td>2022</td>\n",
              "      <td>12</td>\n",
              "      <td>4</td>\n",
              "    </tr>\n",
              "    <tr>\n",
              "      <th>2022-12-31</th>\n",
              "      <td>116.0</td>\n",
              "      <td>2</td>\n",
              "      <td>0</td>\n",
              "      <td>1</td>\n",
              "      <td>0</td>\n",
              "      <td>1</td>\n",
              "      <td>0</td>\n",
              "      <td>1</td>\n",
              "      <td>1</td>\n",
              "      <td>2022</td>\n",
              "      <td>12</td>\n",
              "      <td>4</td>\n",
              "    </tr>\n",
              "  </tbody>\n",
              "</table>\n",
              "<p>1980229 rows × 12 columns</p>\n",
              "</div>"
            ],
            "text/plain": [
              "               br  pessoas  mortos  feridos_leves  feridos_graves  ilesos  \\\n",
              "date                                                                        \n",
              "2007-01-01  316.0        2       0              1               0       1   \n",
              "2007-01-01  381.0        1       0              0               0       1   \n",
              "2007-01-01  282.0        2       0              0               1       1   \n",
              "2007-01-01   40.0        2       0              0               0       2   \n",
              "2007-01-01   50.0        4       0              3               1       0   \n",
              "...           ...      ...     ...            ...             ...     ...   \n",
              "2022-12-31  153.0        1       0              1               0       0   \n",
              "2022-12-31  285.0        4       0              0               0       3   \n",
              "2022-12-31  470.0        2       0              1               1       0   \n",
              "2022-12-31  316.0        3       0              1               2       0   \n",
              "2022-12-31  116.0        2       0              1               0       1   \n",
              "\n",
              "            ignorados  feridos  veiculos  year  month  quarter  \n",
              "date                                                            \n",
              "2007-01-01          0        1         2  2007      1        1  \n",
              "2007-01-01          0        0         1  2007      1        1  \n",
              "2007-01-01          0        1         2  2007      1        1  \n",
              "2007-01-01          0        0         1  2007      1        1  \n",
              "2007-01-01          0        4         1  2007      1        1  \n",
              "...               ...      ...       ...   ...    ...      ...  \n",
              "2022-12-31          0        1         1  2022     12        4  \n",
              "2022-12-31          1        0         2  2022     12        4  \n",
              "2022-12-31          0        2         1  2022     12        4  \n",
              "2022-12-31          0        3         1  2022     12        4  \n",
              "2022-12-31          0        1         1  2022     12        4  \n",
              "\n",
              "[1980229 rows x 12 columns]"
            ]
          },
          "execution_count": 293,
          "metadata": {},
          "output_type": "execute_result"
        }
      ],
      "source": [
        "df[num_col]"
      ]
    },
    {
      "cell_type": "code",
      "execution_count": 294,
      "metadata": {
        "colab": {
          "base_uri": "https://localhost:8080/"
        },
        "id": "TENjWHuCWzM6",
        "outputId": "21e02e95-85a4-421e-a48d-ff280a5ea3b6"
      },
      "outputs": [
        {
          "data": {
            "text/plain": [
              "array(['ceu claro', 'nublado', 'sol', 'chuva', 'ignorada', 'vento',\n",
              "       'nevoeiro/neblina', 'granizo', 'neve', 'céu claro',\n",
              "       'garoa/chuvisco', 'ignorado'], dtype=object)"
            ]
          },
          "execution_count": 294,
          "metadata": {},
          "output_type": "execute_result"
        }
      ],
      "source": [
        "# Diminuindo a quantidade de dados\n",
        "\n",
        "# Condições Metereologica\n",
        "df['condicao_metereologica'].unique()"
      ]
    },
    {
      "cell_type": "code",
      "execution_count": 295,
      "metadata": {
        "id": "KngtM1j8o3NC"
      },
      "outputs": [],
      "source": [
        "mapeamento_metereologica = {\n",
        "    'ceu claro': 'céu claro',\n",
        "    'céu claro': 'céu claro',  # Tratando as duas formas de 'céu claro' como iguais\n",
        "    'nublado': 'nublado',\n",
        "    'sol': 'sol',\n",
        "    'chuva': 'chuva',\n",
        "    'garoa/chuvisco': 'chuva',  # Agrupando garoa/chuvisco com chuva\n",
        "    'vento': 'vento',\n",
        "    'nevoeiro/neblina': 'nevoeiro',\n",
        "    'granizo': 'neve',  # Agrupando granizo com neve\n",
        "    'neve': 'neve',\n",
        "    'ignorada': 'ignorado',\n",
        "    'ignorado': 'ignorado'\n",
        "}\n",
        "\n",
        "df['condicao_metereologica'] = df['condicao_metereologica'].map(mapeamento_metereologica)\n"
      ]
    },
    {
      "cell_type": "code",
      "execution_count": 296,
      "metadata": {
        "colab": {
          "base_uri": "https://localhost:8080/"
        },
        "id": "U9KTFJumo5u8",
        "outputId": "9a299100-a6e6-4d61-eeb3-76c383ed9cf4"
      },
      "outputs": [
        {
          "data": {
            "text/plain": [
              "array(['céu claro', 'nublado', 'sol', 'chuva', 'ignorado', 'vento',\n",
              "       'nevoeiro', 'neve'], dtype=object)"
            ]
          },
          "execution_count": 296,
          "metadata": {},
          "output_type": "execute_result"
        }
      ],
      "source": [
        "df['condicao_metereologica'].unique()"
      ]
    },
    {
      "cell_type": "code",
      "execution_count": 297,
      "metadata": {
        "colab": {
          "base_uri": "https://localhost:8080/"
        },
        "id": "QWwVBwH0pAqq",
        "outputId": "74a66a40-8fa3-4d00-e16b-4077f7714759"
      },
      "outputs": [
        {
          "data": {
            "text/plain": [
              "array(['desobediência à sinalização', 'outras', 'dormindo',\n",
              "       'não guardar distância de segurança',\n",
              "       'defeito mecânico em veículo', 'falta de atenção',\n",
              "       'animais na pista', 'velocidade incompatível',\n",
              "       'ingestão de álcool', 'ultrapassagem indevida', 'defeito na via',\n",
              "       'condutor dormindo',\n",
              "       'desobediência às normas de trânsito pelo condutor',\n",
              "       'falta de atenção à condução', 'pista escorregadia',\n",
              "       'falta de atenção do pedestre',\n",
              "       'sinalização da via insuficiente ou inadequada',\n",
              "       'avarias e/ou desgaste excessivo no pneu', 'mal súbito',\n",
              "       'defeito mecânico no veículo', 'fenômenos da natureza',\n",
              "       'restrição de visibilidade',\n",
              "       'objeto estático sobre o leito carroçável',\n",
              "       'carga excessiva e/ou mal acondicionada',\n",
              "       'deficiência ou não acionamento do sistema de iluminação/sinalização do veículo',\n",
              "       'ingestão de substâncias psicoativas',\n",
              "       'reação tardia ou ineficiente do condutor', 'agressão externa',\n",
              "       'desobediência às normas de trânsito pelo pedestre',\n",
              "       'acumulo de areia ou detritos sobre o pavimento',\n",
              "       'ingestão de álcool e/ou substâncias psicoativas pelo pedestre',\n",
              "       'ingestão de álcool pelo condutor', 'curva acentuada',\n",
              "       'desrespeitar a preferência no cruzamento',\n",
              "       'pedestre andava na pista', 'pista em desnível', 'chuva',\n",
              "       'demais falhas mecânicas ou elétricas', 'pista esburacada',\n",
              "       'ausência de reação do condutor', 'transitar na contramão',\n",
              "       'obras na pista',\n",
              "       'ingestão de álcool ou de substâncias psicoativas pelo pedestre',\n",
              "       'conversão proibida',\n",
              "       'trafegar com motocicleta (ou similar) entre as faixas',\n",
              "       'condutor deixou de manter distância do veículo da frente',\n",
              "       'iluminação deficiente',\n",
              "       'acessar a via sem observar a presença dos outros veículos',\n",
              "       'deficiência do sistema de iluminação/sinalização', 'fumaça',\n",
              "       'manobra de mudança de faixa', 'demais fenômenos da natureza',\n",
              "       'falta de acostamento', 'acesso irregular',\n",
              "       'transitar no acostamento', 'condutor usando celular',\n",
              "       'condutor desrespeitou a iluminação vermelha do semáforo',\n",
              "       'acumulo de água sobre o pavimento',\n",
              "       'afundamento ou ondulação no pavimento', 'ausência de sinalização',\n",
              "       'estacionar ou parar em local proibido',\n",
              "       'entrada inopinada do pedestre', 'mal súbito do condutor',\n",
              "       'demais falhas na via', 'acumulo de óleo sobre o pavimento',\n",
              "       'acostamento em desnível',\n",
              "       'pedestre cruzava a pista fora da faixa',\n",
              "       'sinalização mal posicionada', 'desvio temporário',\n",
              "       'falta de elemento de contenção que evite a saída do leito carroçável',\n",
              "       'declive acentuado', 'redutor de velocidade em desacordo',\n",
              "       'frear bruscamente', 'problema com o freio', 'retorno proibido',\n",
              "       'ingestão de substâncias psicoativas pelo condutor',\n",
              "       'obstrução na via',\n",
              "       'área urbana sem a presença de local apropriado para a travessia de pedestres',\n",
              "       'problema na suspensão',\n",
              "       'deixar de acionar o farol da motocicleta (ou similar)',\n",
              "       'restrição de visibilidade em curvas verticais',\n",
              "       'restrição de visibilidade em curvas horizontais',\n",
              "       'semáforo com defeito',\n",
              "       'faixas de trânsito com largura insuficiente', 'neblina',\n",
              "       'transitar na calçada', 'faróis desregulados',\n",
              "       'sinalização encoberta', 'participar de racha',\n",
              "       'modificação proibida', 'sistema de drenagem ineficiente'],\n",
              "      dtype=object)"
            ]
          },
          "execution_count": 297,
          "metadata": {},
          "output_type": "execute_result"
        }
      ],
      "source": [
        "# Causas dos acidentes\n",
        "df['causa_acidente'].unique()"
      ]
    },
    {
      "cell_type": "code",
      "execution_count": 298,
      "metadata": {
        "colab": {
          "base_uri": "https://localhost:8080/"
        },
        "id": "n8FXBdmQs3fn",
        "outputId": "5a84962f-e451-4db4-c150-b2704d4a5202"
      },
      "outputs": [
        {
          "name": "stdout",
          "output_type": "stream",
          "text": [
            "Quantidade de valores únicos na coluna 'causa_acidente': 91\n",
            "Valores únicos na coluna 'causa_acidente': desobediência à sinalização, outras, dormindo, não guardar distância de segurança, defeito mecânico em veículo, falta de atenção, animais na pista, velocidade incompatível, ingestão de álcool, ultrapassagem indevida, defeito na via, condutor dormindo, desobediência às normas de trânsito pelo condutor, falta de atenção à condução, pista escorregadia, falta de atenção do pedestre, sinalização da via insuficiente ou inadequada, avarias e/ou desgaste excessivo no pneu, mal súbito, defeito mecânico no veículo, fenômenos da natureza, restrição de visibilidade, objeto estático sobre o leito carroçável, carga excessiva e/ou mal acondicionada, deficiência ou não acionamento do sistema de iluminação/sinalização do veículo, ingestão de substâncias psicoativas, reação tardia ou ineficiente do condutor, agressão externa, desobediência às normas de trânsito pelo pedestre, acumulo de areia ou detritos sobre o pavimento, ingestão de álcool e/ou substâncias psicoativas pelo pedestre, ingestão de álcool pelo condutor, curva acentuada, desrespeitar a preferência no cruzamento, pedestre andava na pista, pista em desnível, chuva, demais falhas mecânicas ou elétricas, pista esburacada, ausência de reação do condutor, transitar na contramão, obras na pista, ingestão de álcool ou de substâncias psicoativas pelo pedestre, conversão proibida, trafegar com motocicleta (ou similar) entre as faixas, condutor deixou de manter distância do veículo da frente, iluminação deficiente, acessar a via sem observar a presença dos outros veículos, deficiência do sistema de iluminação/sinalização, fumaça, manobra de mudança de faixa, demais fenômenos da natureza, falta de acostamento, acesso irregular, transitar no acostamento, condutor usando celular, condutor desrespeitou a iluminação vermelha do semáforo, acumulo de água sobre o pavimento, afundamento ou ondulação no pavimento, ausência de sinalização, estacionar ou parar em local proibido, entrada inopinada do pedestre, mal súbito do condutor, demais falhas na via, acumulo de óleo sobre o pavimento, acostamento em desnível, pedestre cruzava a pista fora da faixa, sinalização mal posicionada, desvio temporário, falta de elemento de contenção que evite a saída do leito carroçável, declive acentuado, redutor de velocidade em desacordo, frear bruscamente, problema com o freio, retorno proibido, ingestão de substâncias psicoativas pelo condutor, obstrução na via, área urbana sem a presença de local apropriado para a travessia de pedestres, problema na suspensão, deixar de acionar o farol da motocicleta (ou similar), restrição de visibilidade em curvas verticais, restrição de visibilidade em curvas horizontais, semáforo com defeito, faixas de trânsito com largura insuficiente, neblina, transitar na calçada, faróis desregulados, sinalização encoberta, participar de racha, modificação proibida, sistema de drenagem ineficiente\n",
            "Valores únicos salvos no arquivo 'valores_unicos_causa_acidente.txt'\n"
          ]
        }
      ],
      "source": [
        "quantidade_valores_unicos = df['causa_acidente'].nunique()\n",
        "print(\"Quantidade de valores únicos na coluna 'causa_acidente':\", quantidade_valores_unicos)\n",
        "\n",
        "# Exibir todos os valores únicos na coluna 'causa_acidente' em uma linha\n",
        "valores_unicos = df['causa_acidente'].unique()\n",
        "valores_unicos_str = ', '.join(valores_unicos)\n",
        "print(\"Valores únicos na coluna 'causa_acidente':\", valores_unicos_str)\n",
        "\n",
        "# Salvar todos os valores únicos em um arquivo\n",
        "with open('valores_unicos_causa_acidente.txt', 'w', encoding='utf-8') as arquivo:\n",
        "    for valor in valores_unicos:\n",
        "        arquivo.write(valor + '\\n')\n",
        "\n",
        "print(\"Valores únicos salvos no arquivo 'valores_unicos_causa_acidente.txt'\")"
      ]
    },
    {
      "cell_type": "code",
      "execution_count": 299,
      "metadata": {
        "id": "ffBUwjC6pC29"
      },
      "outputs": [],
      "source": [
        "mapeamento_causas = {\n",
        "    'desobediência à sinalização': 'desobediência',\n",
        "    'outras': 'outras',\n",
        "    'dormindo': 'distração',\n",
        "    'não guardar distância de segurança': 'distância insegura',\n",
        "    'defeito mecânico em veículo': 'defeito mecânico',\n",
        "    'falta de atenção': 'distração',\n",
        "    'animais na pista': 'presença de animais',\n",
        "    'velocidade incompatível': 'velocidade inadequada',\n",
        "    'ingestão de álcool': 'álcool/drogas',\n",
        "    'ultrapassagem indevida': 'ultrapassagem',\n",
        "    'defeito na via': 'condição da via',\n",
        "    'condutor dormindo': 'distração',\n",
        "    'desobediência às normas de trânsito pelo condutor': 'desobediência',\n",
        "    'falta de atenção à condução': 'distração',\n",
        "    'pista escorregadia': 'condição da via',\n",
        "    'falta de atenção do pedestre': 'distração',\n",
        "    'sinalização da via insuficiente ou inadequada': 'sinalização inadequada',\n",
        "    'avarias e/ou desgaste excessivo no pneu': 'defeito mecânico',\n",
        "    'mal súbito': 'mal súbito',\n",
        "    'defeito mecânico no veículo': 'defeito mecânico',\n",
        "    'fenômenos da natureza': 'fenômenos naturais',\n",
        "    'restrição de visibilidade': 'visibilidade reduzida',\n",
        "    'objeto estático sobre o leito carroçável': 'obstáculo na via',\n",
        "    'carga excessiva e/ou mal acondicionada': 'carga mal acondicionada',\n",
        "    'deficiência ou não acionamento do sistema de iluminação/sinalização do veículo': 'falha nos sistemas do veículo',\n",
        "    'ingestão de substâncias psicoativas': 'álcool/drogas',\n",
        "    'reação tardia ou ineficiente do condutor': 'falha do condutor',\n",
        "    'agressão externa': 'agressão',\n",
        "    'desobediência às normas de trânsito pelo pedestre': 'desobediência',\n",
        "    'acumulo de areia ou detritos sobre o pavimento': 'condição da via',\n",
        "    'ingestão de álcool e/ou substâncias psicoativas pelo pedestre': 'álcool/drogas',\n",
        "    'ingestão de álcool pelo condutor': 'álcool/drogas',\n",
        "    'curva acentuada': 'condição da via',\n",
        "    'desrespeitar a preferência no cruzamento': 'desrespeito à preferência',\n",
        "    'pedestre andava na pista': 'pedestre na via',\n",
        "    'pista em desnível': 'condição da via',\n",
        "    'chuva': 'condição climática',\n",
        "    'demais falhas mecânicas ou elétricas': 'defeito mecânico',\n",
        "    'pista esburacada': 'condição da via',\n",
        "    'ausência de reação do condutor': 'falha do condutor',\n",
        "    'transitar na contramão': 'infração de trânsito',\n",
        "    'obras na pista': 'condição da via',\n",
        "    'ingestão de álcool ou de substâncias psicoativas pelo pedestre': 'álcool/drogas',\n",
        "    'conversão proibida': 'infração de trânsito',\n",
        "    'trafegar com motocicleta (ou similar) entre as faixas': 'infração de trânsito',\n",
        "    'condutor deixou de manter distância do veículo da frente': 'distância insegura',\n",
        "    'iluminação deficiente': 'falha nos sistemas do veículo',\n",
        "    'acessar a via sem observar a presença dos outros veículos': 'falta de atenção',\n",
        "    'deficiência do sistema de iluminação/sinalização': 'falha nos sistemas do veículo',\n",
        "    'fumaça': 'condição da via',\n",
        "    'manobra de mudança de faixa': 'manobra imprudente',\n",
        "    'demais fenômenos da natureza': 'fenômenos naturais',\n",
        "    'falta de acostamento': 'infraestrutura inadequada',\n",
        "    'acesso irregular': 'infração de trânsito',\n",
        "    'transitar no acostamento': 'infração de trânsito',\n",
        "    'condutor usando celular': 'distração',\n",
        "    'condutor desrespeitou a iluminação vermelha do semáforo': 'infração de trânsito',\n",
        "    'acumulo de água sobre o pavimento': 'condição da via',\n",
        "    'afundamento ou ondulação no pavimento': 'condição da via',\n",
        "    'ausência de sinalização': 'sinalização inadequada',\n",
        "    'estacionar ou parar em local proibido': 'infração de trânsito',\n",
        "    'entrada inopinada do pedestre': 'falta de atenção do pedestre',\n",
        "    'mal súbito do condutor': 'mal súbito',\n",
        "    'demais falhas na via': 'condição da via',\n",
        "    'acumulo de óleo sobre o pavimento': 'condição da via',\n",
        "    'acostamento em desnível': 'infraestrutura inadequada',\n",
        "    'pedestre cruzava a pista fora da faixa': 'falta de atenção do pedestre',\n",
        "    'sinalização mal posicionada': 'sinalização inadequada',\n",
        "    'desvio temporário': 'condição da via',\n",
        "    'falta de elemento de contenção que evite a saída do leito carroçável': 'infraestrutura inadequada',\n",
        "    'declive acentuado': 'condição da via',\n",
        "    'redutor de velocidade em desacordo': 'condição da via',\n",
        "    'frear bruscamente': 'manobra imprudente',\n",
        "    'problema com o freio': 'falha nos sistemas do veículo',\n",
        "    'retorno proibido': 'infração de trânsito',\n",
        "    'ingestão de substâncias psicoativas pelo condutor': 'álcool/drogas',\n",
        "    'obstrução na via': 'obstrução na via',\n",
        "    'área urbana sem a presença de local apropriado para a travessia de pedestres': 'infraestrutura inadequada',\n",
        "    'problema na suspensão': 'falha nos sistemas do veículo',\n",
        "    'deixar de acionar o farol da motocicleta (ou similar)': 'falha nos sistemas do veículo',\n",
        "    'restrição de visibilidade em curvas verticais': 'visibilidade reduzida',\n",
        "    'restrição de visibilidade em curvas horizontais': 'visibilidade reduzida',\n",
        "    'semáforo com defeito': 'sinalização inadequada',\n",
        "    'faixas de trânsito com largura insuficiente': 'infraestrutura inadequada',\n",
        "    'neblina': 'condição climática',\n",
        "    'transitar na calçada': 'infração de trânsito',\n",
        "    'faróis desregulados': 'falha nos sistemas do veículo',\n",
        "    'sinalização encoberta': 'sinalização inadequada',\n",
        "    'participar de racha': 'infração de trânsito',\n",
        "    'modificação proibida': 'infração de trânsito',\n",
        "    'sistema de drenagem ineficiente': 'infraestrutura inadequada'\n",
        "}\n",
        "\n",
        "df['causa_acidente'] = df['causa_acidente'].map(mapeamento_causas)"
      ]
    },
    {
      "cell_type": "code",
      "execution_count": 300,
      "metadata": {
        "colab": {
          "base_uri": "https://localhost:8080/"
        },
        "id": "7g0roqcApC0K",
        "outputId": "89e01ed1-e9e9-435c-b527-71c6d655e4e7"
      },
      "outputs": [
        {
          "data": {
            "text/plain": [
              "array(['desobediência', 'outras', 'distração', 'distância insegura',\n",
              "       'defeito mecânico', 'presença de animais', 'velocidade inadequada',\n",
              "       'álcool/drogas', 'ultrapassagem', 'condição da via',\n",
              "       'sinalização inadequada', 'mal súbito', 'fenômenos naturais',\n",
              "       'visibilidade reduzida', 'obstáculo na via',\n",
              "       'carga mal acondicionada', 'falha nos sistemas do veículo',\n",
              "       'falha do condutor', 'agressão', 'desrespeito à preferência',\n",
              "       'pedestre na via', 'condição climática', 'infração de trânsito',\n",
              "       'falta de atenção', 'manobra imprudente',\n",
              "       'infraestrutura inadequada', 'falta de atenção do pedestre',\n",
              "       'obstrução na via'], dtype=object)"
            ]
          },
          "execution_count": 300,
          "metadata": {},
          "output_type": "execute_result"
        }
      ],
      "source": [
        "df['causa_acidente'].unique()"
      ]
    },
    {
      "cell_type": "code",
      "execution_count": 301,
      "metadata": {
        "colab": {
          "base_uri": "https://localhost:8080/"
        },
        "id": "XhomC-qOpVzX",
        "outputId": "e668ec57-27c0-4fc6-a329-d446e70766d7"
      },
      "outputs": [
        {
          "data": {
            "text/plain": [
              "array(['colisão transversal', 'saída de pista', 'colisão lateral',\n",
              "       'colisão com bicicleta', 'colisão traseira',\n",
              "       'colisão com objeto fixo', 'capotamento',\n",
              "       'queda de motocicleta / bicicleta / veículo', 'incêndio',\n",
              "       'atropelamento de pessoa', 'colisão frontal',\n",
              "       'atropelamento de animal', 'colisão com objeto móvel',\n",
              "       'tombamento', 'derramamento de carga', 'danos eventuais',\n",
              "       'colisão com objeto estático', 'saída de leito carroçável',\n",
              "       'queda de ocupante de veículo', 'atropelamento de pedestre',\n",
              "       'engavetamento', 'colisão com objeto em movimento',\n",
              "       'colisão com objeto', 'colisão lateral mesmo sentido',\n",
              "       'eventos atípicos', 'colisão lateral sentido oposto'], dtype=object)"
            ]
          },
          "execution_count": 301,
          "metadata": {},
          "output_type": "execute_result"
        }
      ],
      "source": [
        "# Tipos de acidentes\n",
        "df['tipo_acidente'].unique()"
      ]
    },
    {
      "cell_type": "code",
      "execution_count": 302,
      "metadata": {
        "id": "6iNnmTBnpXlf"
      },
      "outputs": [],
      "source": [
        "mapeamento_acidente = {\n",
        "    'colisão transversal': 'colisão',\n",
        "    'saída de pista': 'saída de pista',\n",
        "    'colisão lateral': 'colisão',\n",
        "    'colisão com bicicleta': 'colisão',\n",
        "    'colisão traseira': 'colisão',\n",
        "    'colisão com objeto fixo': 'colisão',\n",
        "    'capotamento': 'capotamento',\n",
        "    'queda de motocicleta / bicicleta / veículo': 'queda',\n",
        "    'incêndio': 'incêndio',\n",
        "    'atropelamento de pessoa': 'atropelamento de pessoa',\n",
        "    'colisão frontal': 'colisão',\n",
        "    'atropelamento de animal': 'atropelamento de animal',\n",
        "    'colisão com objeto móvel': 'colisão',\n",
        "    'tombamento': 'tombamento',\n",
        "    'derramamento de carga': 'derramamento de carga',\n",
        "    'danos eventuais': 'outros',\n",
        "    'colisão com objeto estático': 'colisão',\n",
        "    'saída de leito carroçável': 'saída de pista',\n",
        "    'queda de ocupante de veículo': 'queda',\n",
        "    'atropelamento de pedestre': 'atropelamento de pessoa',\n",
        "    'engavetamento': 'colisão',\n",
        "    'colisão com objeto em movimento': 'colisão',\n",
        "    'colisão com objeto': 'colisão',\n",
        "    'colisão lateral mesmo sentido': 'colisão',\n",
        "    'eventos atípicos': 'outros',\n",
        "    'colisão lateral sentido oposto': 'colisão'\n",
        "}\n",
        "\n",
        "df['tipo_acidente'] = df['tipo_acidente'].map(mapeamento_acidente)"
      ]
    },
    {
      "cell_type": "code",
      "execution_count": 303,
      "metadata": {
        "colab": {
          "base_uri": "https://localhost:8080/"
        },
        "id": "8x7NbZ74pX-3",
        "outputId": "86087b6c-5db1-4ea8-ebf7-4fc817bf23e7"
      },
      "outputs": [
        {
          "data": {
            "text/plain": [
              "array(['colisão', 'saída de pista', 'capotamento', 'queda', 'incêndio',\n",
              "       'atropelamento de pessoa', 'atropelamento de animal', 'tombamento',\n",
              "       'derramamento de carga', 'outros'], dtype=object)"
            ]
          },
          "execution_count": 303,
          "metadata": {},
          "output_type": "execute_result"
        }
      ],
      "source": [
        "df['tipo_acidente'].unique()"
      ]
    },
    {
      "cell_type": "markdown",
      "metadata": {
        "id": "48agJzGWAubP"
      },
      "source": [
        "#####Questão 1  - Classificando as colunas em Quantitativa Discreta,Quantitiva Contínua, Qualitativa Ordinal ou Qualitativa Nominal."
      ]
    },
    {
      "cell_type": "markdown",
      "metadata": {
        "id": "UAenciAsA9f1"
      },
      "source": [
        "Colunas Quantitativas."
      ]
    },
    {
      "cell_type": "code",
      "execution_count": 304,
      "metadata": {
        "colab": {
          "base_uri": "https://localhost:8080/",
          "height": 649
        },
        "id": "Oh1-OPdbA78t",
        "outputId": "91eb0af3-7973-4eee-e243-f693b5083707"
      },
      "outputs": [
        {
          "data": {
            "text/html": [
              "<div>\n",
              "<style scoped>\n",
              "    .dataframe tbody tr th:only-of-type {\n",
              "        vertical-align: middle;\n",
              "    }\n",
              "\n",
              "    .dataframe tbody tr th {\n",
              "        vertical-align: top;\n",
              "    }\n",
              "\n",
              "    .dataframe thead th {\n",
              "        text-align: right;\n",
              "    }\n",
              "</style>\n",
              "<table border=\"1\" class=\"dataframe\">\n",
              "  <thead>\n",
              "    <tr style=\"text-align: right;\">\n",
              "      <th></th>\n",
              "      <th>br</th>\n",
              "      <th>pessoas</th>\n",
              "      <th>mortos</th>\n",
              "      <th>feridos_leves</th>\n",
              "      <th>feridos_graves</th>\n",
              "      <th>ilesos</th>\n",
              "      <th>ignorados</th>\n",
              "      <th>feridos</th>\n",
              "      <th>veiculos</th>\n",
              "      <th>year</th>\n",
              "      <th>month</th>\n",
              "      <th>quarter</th>\n",
              "    </tr>\n",
              "    <tr>\n",
              "      <th>date</th>\n",
              "      <th></th>\n",
              "      <th></th>\n",
              "      <th></th>\n",
              "      <th></th>\n",
              "      <th></th>\n",
              "      <th></th>\n",
              "      <th></th>\n",
              "      <th></th>\n",
              "      <th></th>\n",
              "      <th></th>\n",
              "      <th></th>\n",
              "      <th></th>\n",
              "    </tr>\n",
              "  </thead>\n",
              "  <tbody>\n",
              "    <tr>\n",
              "      <th>2007-01-01</th>\n",
              "      <td>316.0</td>\n",
              "      <td>2</td>\n",
              "      <td>0</td>\n",
              "      <td>1</td>\n",
              "      <td>0</td>\n",
              "      <td>1</td>\n",
              "      <td>0</td>\n",
              "      <td>1</td>\n",
              "      <td>2</td>\n",
              "      <td>2007</td>\n",
              "      <td>1</td>\n",
              "      <td>1</td>\n",
              "    </tr>\n",
              "    <tr>\n",
              "      <th>2007-01-01</th>\n",
              "      <td>381.0</td>\n",
              "      <td>1</td>\n",
              "      <td>0</td>\n",
              "      <td>0</td>\n",
              "      <td>0</td>\n",
              "      <td>1</td>\n",
              "      <td>0</td>\n",
              "      <td>0</td>\n",
              "      <td>1</td>\n",
              "      <td>2007</td>\n",
              "      <td>1</td>\n",
              "      <td>1</td>\n",
              "    </tr>\n",
              "    <tr>\n",
              "      <th>2007-01-01</th>\n",
              "      <td>282.0</td>\n",
              "      <td>2</td>\n",
              "      <td>0</td>\n",
              "      <td>0</td>\n",
              "      <td>1</td>\n",
              "      <td>1</td>\n",
              "      <td>0</td>\n",
              "      <td>1</td>\n",
              "      <td>2</td>\n",
              "      <td>2007</td>\n",
              "      <td>1</td>\n",
              "      <td>1</td>\n",
              "    </tr>\n",
              "    <tr>\n",
              "      <th>2007-01-01</th>\n",
              "      <td>40.0</td>\n",
              "      <td>2</td>\n",
              "      <td>0</td>\n",
              "      <td>0</td>\n",
              "      <td>0</td>\n",
              "      <td>2</td>\n",
              "      <td>0</td>\n",
              "      <td>0</td>\n",
              "      <td>1</td>\n",
              "      <td>2007</td>\n",
              "      <td>1</td>\n",
              "      <td>1</td>\n",
              "    </tr>\n",
              "    <tr>\n",
              "      <th>2007-01-01</th>\n",
              "      <td>50.0</td>\n",
              "      <td>4</td>\n",
              "      <td>0</td>\n",
              "      <td>3</td>\n",
              "      <td>1</td>\n",
              "      <td>0</td>\n",
              "      <td>0</td>\n",
              "      <td>4</td>\n",
              "      <td>1</td>\n",
              "      <td>2007</td>\n",
              "      <td>1</td>\n",
              "      <td>1</td>\n",
              "    </tr>\n",
              "    <tr>\n",
              "      <th>...</th>\n",
              "      <td>...</td>\n",
              "      <td>...</td>\n",
              "      <td>...</td>\n",
              "      <td>...</td>\n",
              "      <td>...</td>\n",
              "      <td>...</td>\n",
              "      <td>...</td>\n",
              "      <td>...</td>\n",
              "      <td>...</td>\n",
              "      <td>...</td>\n",
              "      <td>...</td>\n",
              "      <td>...</td>\n",
              "    </tr>\n",
              "    <tr>\n",
              "      <th>2022-12-31</th>\n",
              "      <td>153.0</td>\n",
              "      <td>1</td>\n",
              "      <td>0</td>\n",
              "      <td>1</td>\n",
              "      <td>0</td>\n",
              "      <td>0</td>\n",
              "      <td>0</td>\n",
              "      <td>1</td>\n",
              "      <td>1</td>\n",
              "      <td>2022</td>\n",
              "      <td>12</td>\n",
              "      <td>4</td>\n",
              "    </tr>\n",
              "    <tr>\n",
              "      <th>2022-12-31</th>\n",
              "      <td>285.0</td>\n",
              "      <td>4</td>\n",
              "      <td>0</td>\n",
              "      <td>0</td>\n",
              "      <td>0</td>\n",
              "      <td>3</td>\n",
              "      <td>1</td>\n",
              "      <td>0</td>\n",
              "      <td>2</td>\n",
              "      <td>2022</td>\n",
              "      <td>12</td>\n",
              "      <td>4</td>\n",
              "    </tr>\n",
              "    <tr>\n",
              "      <th>2022-12-31</th>\n",
              "      <td>470.0</td>\n",
              "      <td>2</td>\n",
              "      <td>0</td>\n",
              "      <td>1</td>\n",
              "      <td>1</td>\n",
              "      <td>0</td>\n",
              "      <td>0</td>\n",
              "      <td>2</td>\n",
              "      <td>1</td>\n",
              "      <td>2022</td>\n",
              "      <td>12</td>\n",
              "      <td>4</td>\n",
              "    </tr>\n",
              "    <tr>\n",
              "      <th>2022-12-31</th>\n",
              "      <td>316.0</td>\n",
              "      <td>3</td>\n",
              "      <td>0</td>\n",
              "      <td>1</td>\n",
              "      <td>2</td>\n",
              "      <td>0</td>\n",
              "      <td>0</td>\n",
              "      <td>3</td>\n",
              "      <td>1</td>\n",
              "      <td>2022</td>\n",
              "      <td>12</td>\n",
              "      <td>4</td>\n",
              "    </tr>\n",
              "    <tr>\n",
              "      <th>2022-12-31</th>\n",
              "      <td>116.0</td>\n",
              "      <td>2</td>\n",
              "      <td>0</td>\n",
              "      <td>1</td>\n",
              "      <td>0</td>\n",
              "      <td>1</td>\n",
              "      <td>0</td>\n",
              "      <td>1</td>\n",
              "      <td>1</td>\n",
              "      <td>2022</td>\n",
              "      <td>12</td>\n",
              "      <td>4</td>\n",
              "    </tr>\n",
              "  </tbody>\n",
              "</table>\n",
              "<p>1980229 rows × 12 columns</p>\n",
              "</div>"
            ],
            "text/plain": [
              "               br  pessoas  mortos  feridos_leves  feridos_graves  ilesos  \\\n",
              "date                                                                        \n",
              "2007-01-01  316.0        2       0              1               0       1   \n",
              "2007-01-01  381.0        1       0              0               0       1   \n",
              "2007-01-01  282.0        2       0              0               1       1   \n",
              "2007-01-01   40.0        2       0              0               0       2   \n",
              "2007-01-01   50.0        4       0              3               1       0   \n",
              "...           ...      ...     ...            ...             ...     ...   \n",
              "2022-12-31  153.0        1       0              1               0       0   \n",
              "2022-12-31  285.0        4       0              0               0       3   \n",
              "2022-12-31  470.0        2       0              1               1       0   \n",
              "2022-12-31  316.0        3       0              1               2       0   \n",
              "2022-12-31  116.0        2       0              1               0       1   \n",
              "\n",
              "            ignorados  feridos  veiculos  year  month  quarter  \n",
              "date                                                            \n",
              "2007-01-01          0        1         2  2007      1        1  \n",
              "2007-01-01          0        0         1  2007      1        1  \n",
              "2007-01-01          0        1         2  2007      1        1  \n",
              "2007-01-01          0        0         1  2007      1        1  \n",
              "2007-01-01          0        4         1  2007      1        1  \n",
              "...               ...      ...       ...   ...    ...      ...  \n",
              "2022-12-31          0        1         1  2022     12        4  \n",
              "2022-12-31          1        0         2  2022     12        4  \n",
              "2022-12-31          0        2         1  2022     12        4  \n",
              "2022-12-31          0        3         1  2022     12        4  \n",
              "2022-12-31          0        1         1  2022     12        4  \n",
              "\n",
              "[1980229 rows x 12 columns]"
            ]
          },
          "execution_count": 304,
          "metadata": {},
          "output_type": "execute_result"
        }
      ],
      "source": [
        "df[num_col]"
      ]
    },
    {
      "cell_type": "markdown",
      "metadata": {
        "id": "whcMDQqkO09h"
      },
      "source": [
        "*  Coluna date é classificada como Qualitativa ordinal, pode ser subdividida em dia, mês e ano, e segue uma ordem cronológico.\n",
        "* Coluna br é classificada como Quantitativa Discreta, trata-se de valores contáveis e não podem ser divididos em partes menores significativas, mesmo sendo decimal. E nome de rodovias só pode assumir um valor.Exemplos: BR 153, BR 277.\n",
        "*   Colunas pessoas,mortos,feridos_leves,feridos_graves,ilesos,ignorados,feridos,veiculos,quarter(trimestre) são Quantitativas Discretas. Ano e mês nesse caso se enquadram em Discretos também, já que são nesse caso representados como númericos, e representam uma quantidade específica, é unidade individual e não pode ser dividida em partes menores significativas."
      ]
    },
    {
      "cell_type": "markdown",
      "metadata": {
        "id": "Yb59EBSFO4vI"
      },
      "source": [
        "Qualitativas"
      ]
    },
    {
      "cell_type": "code",
      "execution_count": 305,
      "metadata": {
        "colab": {
          "base_uri": "https://localhost:8080/",
          "height": 649
        },
        "id": "1hqM7YWCO6mQ",
        "outputId": "1f7bf947-902a-45a5-b682-0bb637fc19ce"
      },
      "outputs": [
        {
          "data": {
            "text/html": [
              "<div>\n",
              "<style scoped>\n",
              "    .dataframe tbody tr th:only-of-type {\n",
              "        vertical-align: middle;\n",
              "    }\n",
              "\n",
              "    .dataframe tbody tr th {\n",
              "        vertical-align: top;\n",
              "    }\n",
              "\n",
              "    .dataframe thead th {\n",
              "        text-align: right;\n",
              "    }\n",
              "</style>\n",
              "<table border=\"1\" class=\"dataframe\">\n",
              "  <thead>\n",
              "    <tr style=\"text-align: right;\">\n",
              "      <th></th>\n",
              "      <th>dia_semana</th>\n",
              "      <th>uf</th>\n",
              "      <th>causa_acidente</th>\n",
              "      <th>tipo_acidente</th>\n",
              "      <th>classificacao_acidente</th>\n",
              "      <th>fase_dia</th>\n",
              "      <th>sentido_via</th>\n",
              "      <th>condicao_metereologica</th>\n",
              "      <th>tipo_pista</th>\n",
              "      <th>tracado_via</th>\n",
              "      <th>uso_solo</th>\n",
              "      <th>hour</th>\n",
              "    </tr>\n",
              "    <tr>\n",
              "      <th>date</th>\n",
              "      <th></th>\n",
              "      <th></th>\n",
              "      <th></th>\n",
              "      <th></th>\n",
              "      <th></th>\n",
              "      <th></th>\n",
              "      <th></th>\n",
              "      <th></th>\n",
              "      <th></th>\n",
              "      <th></th>\n",
              "      <th></th>\n",
              "      <th></th>\n",
              "    </tr>\n",
              "  </thead>\n",
              "  <tbody>\n",
              "    <tr>\n",
              "      <th>2007-01-01</th>\n",
              "      <td>segunda</td>\n",
              "      <td>pa</td>\n",
              "      <td>desobediência</td>\n",
              "      <td>colisão</td>\n",
              "      <td>com vítimas feridas</td>\n",
              "      <td>amanhecer</td>\n",
              "      <td>crescente</td>\n",
              "      <td>céu claro</td>\n",
              "      <td>dupla</td>\n",
              "      <td>reta</td>\n",
              "      <td>urbano</td>\n",
              "      <td>06</td>\n",
              "    </tr>\n",
              "    <tr>\n",
              "      <th>2007-01-01</th>\n",
              "      <td>segunda</td>\n",
              "      <td>mg</td>\n",
              "      <td>outras</td>\n",
              "      <td>saída de pista</td>\n",
              "      <td>sem vítimas</td>\n",
              "      <td>pleno dia</td>\n",
              "      <td>decrescente</td>\n",
              "      <td>nublado</td>\n",
              "      <td>simples</td>\n",
              "      <td>curva</td>\n",
              "      <td>rural</td>\n",
              "      <td>08</td>\n",
              "    </tr>\n",
              "    <tr>\n",
              "      <th>2007-01-01</th>\n",
              "      <td>segunda</td>\n",
              "      <td>sc</td>\n",
              "      <td>desobediência</td>\n",
              "      <td>colisão</td>\n",
              "      <td>com vítimas feridas</td>\n",
              "      <td>pleno dia</td>\n",
              "      <td>decrescente</td>\n",
              "      <td>nublado</td>\n",
              "      <td>simples</td>\n",
              "      <td>cruzamento</td>\n",
              "      <td>rural</td>\n",
              "      <td>15</td>\n",
              "    </tr>\n",
              "    <tr>\n",
              "      <th>2007-01-01</th>\n",
              "      <td>segunda</td>\n",
              "      <td>mg</td>\n",
              "      <td>distração</td>\n",
              "      <td>saída de pista</td>\n",
              "      <td>sem vítimas</td>\n",
              "      <td>pleno dia</td>\n",
              "      <td>crescente</td>\n",
              "      <td>sol</td>\n",
              "      <td>dupla</td>\n",
              "      <td>reta</td>\n",
              "      <td>rural</td>\n",
              "      <td>14</td>\n",
              "    </tr>\n",
              "    <tr>\n",
              "      <th>2007-01-01</th>\n",
              "      <td>segunda</td>\n",
              "      <td>mg</td>\n",
              "      <td>outras</td>\n",
              "      <td>saída de pista</td>\n",
              "      <td>com vítimas feridas</td>\n",
              "      <td>pleno dia</td>\n",
              "      <td>decrescente</td>\n",
              "      <td>nublado</td>\n",
              "      <td>simples</td>\n",
              "      <td>curva</td>\n",
              "      <td>rural</td>\n",
              "      <td>12</td>\n",
              "    </tr>\n",
              "    <tr>\n",
              "      <th>...</th>\n",
              "      <td>...</td>\n",
              "      <td>...</td>\n",
              "      <td>...</td>\n",
              "      <td>...</td>\n",
              "      <td>...</td>\n",
              "      <td>...</td>\n",
              "      <td>...</td>\n",
              "      <td>...</td>\n",
              "      <td>...</td>\n",
              "      <td>...</td>\n",
              "      <td>...</td>\n",
              "      <td>...</td>\n",
              "    </tr>\n",
              "    <tr>\n",
              "      <th>2022-12-31</th>\n",
              "      <td>sábado</td>\n",
              "      <td>pr</td>\n",
              "      <td>álcool/drogas</td>\n",
              "      <td>saída de pista</td>\n",
              "      <td>com vítimas feridas</td>\n",
              "      <td>pleno dia</td>\n",
              "      <td>crescente</td>\n",
              "      <td>céu claro</td>\n",
              "      <td>simples</td>\n",
              "      <td>não informado</td>\n",
              "      <td>não</td>\n",
              "      <td>16</td>\n",
              "    </tr>\n",
              "    <tr>\n",
              "      <th>2022-12-31</th>\n",
              "      <td>sábado</td>\n",
              "      <td>rs</td>\n",
              "      <td>falta de atenção</td>\n",
              "      <td>colisão</td>\n",
              "      <td>sem vítimas</td>\n",
              "      <td>pleno dia</td>\n",
              "      <td>decrescente</td>\n",
              "      <td>céu claro</td>\n",
              "      <td>simples</td>\n",
              "      <td>não informado</td>\n",
              "      <td>não</td>\n",
              "      <td>17</td>\n",
              "    </tr>\n",
              "    <tr>\n",
              "      <th>2022-12-31</th>\n",
              "      <td>sábado</td>\n",
              "      <td>sc</td>\n",
              "      <td>defeito mecânico</td>\n",
              "      <td>tombamento</td>\n",
              "      <td>com vítimas feridas</td>\n",
              "      <td>pleno dia</td>\n",
              "      <td>decrescente</td>\n",
              "      <td>céu claro</td>\n",
              "      <td>dupla</td>\n",
              "      <td>reta</td>\n",
              "      <td>não</td>\n",
              "      <td>16</td>\n",
              "    </tr>\n",
              "    <tr>\n",
              "      <th>2022-12-31</th>\n",
              "      <td>sábado</td>\n",
              "      <td>al</td>\n",
              "      <td>presença de animais</td>\n",
              "      <td>atropelamento de animal</td>\n",
              "      <td>com vítimas feridas</td>\n",
              "      <td>plena noite</td>\n",
              "      <td>crescente</td>\n",
              "      <td>céu claro</td>\n",
              "      <td>simples</td>\n",
              "      <td>reta</td>\n",
              "      <td>não</td>\n",
              "      <td>18</td>\n",
              "    </tr>\n",
              "    <tr>\n",
              "      <th>2022-12-31</th>\n",
              "      <td>sábado</td>\n",
              "      <td>sc</td>\n",
              "      <td>velocidade inadequada</td>\n",
              "      <td>saída de pista</td>\n",
              "      <td>com vítimas feridas</td>\n",
              "      <td>plena noite</td>\n",
              "      <td>decrescente</td>\n",
              "      <td>céu claro</td>\n",
              "      <td>simples</td>\n",
              "      <td>reta</td>\n",
              "      <td>não</td>\n",
              "      <td>20</td>\n",
              "    </tr>\n",
              "  </tbody>\n",
              "</table>\n",
              "<p>1980229 rows × 12 columns</p>\n",
              "</div>"
            ],
            "text/plain": [
              "           dia_semana  uf         causa_acidente            tipo_acidente  \\\n",
              "date                                                                        \n",
              "2007-01-01    segunda  pa          desobediência                  colisão   \n",
              "2007-01-01    segunda  mg                 outras           saída de pista   \n",
              "2007-01-01    segunda  sc          desobediência                  colisão   \n",
              "2007-01-01    segunda  mg              distração           saída de pista   \n",
              "2007-01-01    segunda  mg                 outras           saída de pista   \n",
              "...               ...  ..                    ...                      ...   \n",
              "2022-12-31     sábado  pr          álcool/drogas           saída de pista   \n",
              "2022-12-31     sábado  rs       falta de atenção                  colisão   \n",
              "2022-12-31     sábado  sc       defeito mecânico               tombamento   \n",
              "2022-12-31     sábado  al    presença de animais  atropelamento de animal   \n",
              "2022-12-31     sábado  sc  velocidade inadequada           saída de pista   \n",
              "\n",
              "           classificacao_acidente     fase_dia  sentido_via  \\\n",
              "date                                                          \n",
              "2007-01-01    com vítimas feridas    amanhecer    crescente   \n",
              "2007-01-01            sem vítimas    pleno dia  decrescente   \n",
              "2007-01-01    com vítimas feridas    pleno dia  decrescente   \n",
              "2007-01-01            sem vítimas    pleno dia    crescente   \n",
              "2007-01-01    com vítimas feridas    pleno dia  decrescente   \n",
              "...                           ...          ...          ...   \n",
              "2022-12-31    com vítimas feridas    pleno dia    crescente   \n",
              "2022-12-31            sem vítimas    pleno dia  decrescente   \n",
              "2022-12-31    com vítimas feridas    pleno dia  decrescente   \n",
              "2022-12-31    com vítimas feridas  plena noite    crescente   \n",
              "2022-12-31    com vítimas feridas  plena noite  decrescente   \n",
              "\n",
              "           condicao_metereologica tipo_pista    tracado_via uso_solo hour  \n",
              "date                                                                       \n",
              "2007-01-01              céu claro      dupla           reta   urbano   06  \n",
              "2007-01-01                nublado    simples          curva    rural   08  \n",
              "2007-01-01                nublado    simples     cruzamento    rural   15  \n",
              "2007-01-01                    sol      dupla           reta    rural   14  \n",
              "2007-01-01                nublado    simples          curva    rural   12  \n",
              "...                           ...        ...            ...      ...  ...  \n",
              "2022-12-31              céu claro    simples  não informado      não   16  \n",
              "2022-12-31              céu claro    simples  não informado      não   17  \n",
              "2022-12-31              céu claro      dupla           reta      não   16  \n",
              "2022-12-31              céu claro    simples           reta      não   18  \n",
              "2022-12-31              céu claro    simples           reta      não   20  \n",
              "\n",
              "[1980229 rows x 12 columns]"
            ]
          },
          "execution_count": 305,
          "metadata": {},
          "output_type": "execute_result"
        }
      ],
      "source": [
        "df[cat_col]"
      ]
    },
    {
      "cell_type": "markdown",
      "metadata": {
        "id": "ZDNcJqI6qGsr"
      },
      "source": [
        "# Machine Learning - Classificação"
      ]
    },
    {
      "cell_type": "markdown",
      "metadata": {
        "id": "r-WNuLn_v8n_"
      },
      "source": [
        "Pré-processamento"
      ]
    },
    {
      "cell_type": "code",
      "execution_count": 306,
      "metadata": {
        "id": "WOi6i09_vtF8"
      },
      "outputs": [],
      "source": [
        "from sklearn.preprocessing import StandardScaler      # padrozinação\n",
        "from sklearn.preprocessing import LabelEncoder        # tratamento dados categóricos\n",
        "from sklearn.preprocessing import OneHotEncoder       # tratamento dados categóricos\n",
        "from sklearn.compose import ColumnTransformer         # tratamento dados categóricos\n",
        "from sklearn.model_selection import train_test_split  # divisão treino e teste"
      ]
    },
    {
      "cell_type": "markdown",
      "metadata": {
        "id": "RCgEABtJwAXV"
      },
      "source": [
        "Modelos"
      ]
    },
    {
      "cell_type": "code",
      "execution_count": 307,
      "metadata": {
        "id": "lm7jOHmIvwt5"
      },
      "outputs": [],
      "source": [
        "# metricas e matrix de confusão\n",
        "from sklearn.metrics import accuracy_score, confusion_matrix, classification_report\n",
        "from yellowbrick.classifier import ConfusionMatrix\n",
        "\n",
        "# modelos\n",
        "from sklearn.naive_bayes import GaussianNB            # Naive Bayes\n",
        "from sklearn.tree import DecisionTreeClassifier       # Arvore de decisão\n",
        "from sklearn import tree                              # Arvore de decisão\n",
        "from sklearn.ensemble import RandomForestClassifier   # Random Forest\n",
        "from sklearn.neighbors import KNeighborsClassifier    # KNN - baseada em instâncias\n",
        "from sklearn.linear_model import LogisticRegression   # Regressão logística\n",
        "from sklearn.svm import SVC                           # SVM\n",
        "from sklearn.neural_network import MLPClassifier      # Redes neurais artificiais"
      ]
    },
    {
      "cell_type": "markdown",
      "metadata": {
        "id": "fQ09LRCOwBd9"
      },
      "source": [
        "Avaliação de modelos"
      ]
    },
    {
      "cell_type": "code",
      "execution_count": 308,
      "metadata": {
        "id": "0uNr1d5gv4Yd"
      },
      "outputs": [],
      "source": [
        "from sklearn.model_selection import GridSearchCV            # Melhores parametros\n",
        "from sklearn.model_selection import cross_val_score, KFold  # Validação cruzada"
      ]
    },
    {
      "cell_type": "markdown",
      "metadata": {
        "id": "skRDjLf3qXZV"
      },
      "source": [
        "## Tratamento de dados"
      ]
    },
    {
      "cell_type": "code",
      "execution_count": 309,
      "metadata": {
        "colab": {
          "base_uri": "https://localhost:8080/",
          "height": 374
        },
        "id": "VIA1xls8qgVD",
        "outputId": "6adced4e-2757-4bd3-fc3a-6a2913b8fe31"
      },
      "outputs": [
        {
          "data": {
            "text/html": [
              "<div>\n",
              "<style scoped>\n",
              "    .dataframe tbody tr th:only-of-type {\n",
              "        vertical-align: middle;\n",
              "    }\n",
              "\n",
              "    .dataframe tbody tr th {\n",
              "        vertical-align: top;\n",
              "    }\n",
              "\n",
              "    .dataframe thead th {\n",
              "        text-align: right;\n",
              "    }\n",
              "</style>\n",
              "<table border=\"1\" class=\"dataframe\">\n",
              "  <thead>\n",
              "    <tr style=\"text-align: right;\">\n",
              "      <th></th>\n",
              "      <th>data_inversa</th>\n",
              "      <th>dia_semana</th>\n",
              "      <th>horario</th>\n",
              "      <th>uf</th>\n",
              "      <th>br</th>\n",
              "      <th>km</th>\n",
              "      <th>causa_acidente</th>\n",
              "      <th>tipo_acidente</th>\n",
              "      <th>classificacao_acidente</th>\n",
              "      <th>fase_dia</th>\n",
              "      <th>...</th>\n",
              "      <th>feridos_graves</th>\n",
              "      <th>ilesos</th>\n",
              "      <th>ignorados</th>\n",
              "      <th>feridos</th>\n",
              "      <th>veiculos</th>\n",
              "      <th>year</th>\n",
              "      <th>month</th>\n",
              "      <th>quarter</th>\n",
              "      <th>quarter_end</th>\n",
              "      <th>hour</th>\n",
              "    </tr>\n",
              "    <tr>\n",
              "      <th>date</th>\n",
              "      <th></th>\n",
              "      <th></th>\n",
              "      <th></th>\n",
              "      <th></th>\n",
              "      <th></th>\n",
              "      <th></th>\n",
              "      <th></th>\n",
              "      <th></th>\n",
              "      <th></th>\n",
              "      <th></th>\n",
              "      <th></th>\n",
              "      <th></th>\n",
              "      <th></th>\n",
              "      <th></th>\n",
              "      <th></th>\n",
              "      <th></th>\n",
              "      <th></th>\n",
              "      <th></th>\n",
              "      <th></th>\n",
              "      <th></th>\n",
              "      <th></th>\n",
              "    </tr>\n",
              "  </thead>\n",
              "  <tbody>\n",
              "    <tr>\n",
              "      <th>2007-01-01</th>\n",
              "      <td>2007-01-01</td>\n",
              "      <td>segunda</td>\n",
              "      <td>06:30:00</td>\n",
              "      <td>pa</td>\n",
              "      <td>316.0</td>\n",
              "      <td>9.0</td>\n",
              "      <td>desobediência</td>\n",
              "      <td>colisão</td>\n",
              "      <td>com vítimas feridas</td>\n",
              "      <td>amanhecer</td>\n",
              "      <td>...</td>\n",
              "      <td>0</td>\n",
              "      <td>1</td>\n",
              "      <td>0</td>\n",
              "      <td>1</td>\n",
              "      <td>2</td>\n",
              "      <td>2007</td>\n",
              "      <td>1</td>\n",
              "      <td>1</td>\n",
              "      <td>False</td>\n",
              "      <td>06</td>\n",
              "    </tr>\n",
              "    <tr>\n",
              "      <th>2007-01-01</th>\n",
              "      <td>2007-01-01</td>\n",
              "      <td>segunda</td>\n",
              "      <td>08:40:00</td>\n",
              "      <td>mg</td>\n",
              "      <td>381.0</td>\n",
              "      <td>397.4</td>\n",
              "      <td>outras</td>\n",
              "      <td>saída de pista</td>\n",
              "      <td>sem vítimas</td>\n",
              "      <td>pleno dia</td>\n",
              "      <td>...</td>\n",
              "      <td>0</td>\n",
              "      <td>1</td>\n",
              "      <td>0</td>\n",
              "      <td>0</td>\n",
              "      <td>1</td>\n",
              "      <td>2007</td>\n",
              "      <td>1</td>\n",
              "      <td>1</td>\n",
              "      <td>False</td>\n",
              "      <td>08</td>\n",
              "    </tr>\n",
              "    <tr>\n",
              "      <th>2007-01-01</th>\n",
              "      <td>2007-01-01</td>\n",
              "      <td>segunda</td>\n",
              "      <td>15:20:00</td>\n",
              "      <td>sc</td>\n",
              "      <td>282.0</td>\n",
              "      <td>23.0</td>\n",
              "      <td>desobediência</td>\n",
              "      <td>colisão</td>\n",
              "      <td>com vítimas feridas</td>\n",
              "      <td>pleno dia</td>\n",
              "      <td>...</td>\n",
              "      <td>1</td>\n",
              "      <td>1</td>\n",
              "      <td>0</td>\n",
              "      <td>1</td>\n",
              "      <td>2</td>\n",
              "      <td>2007</td>\n",
              "      <td>1</td>\n",
              "      <td>1</td>\n",
              "      <td>False</td>\n",
              "      <td>15</td>\n",
              "    </tr>\n",
              "    <tr>\n",
              "      <th>2007-01-01</th>\n",
              "      <td>2007-01-01</td>\n",
              "      <td>segunda</td>\n",
              "      <td>14:00:00</td>\n",
              "      <td>mg</td>\n",
              "      <td>40.0</td>\n",
              "      <td>120.8</td>\n",
              "      <td>distração</td>\n",
              "      <td>saída de pista</td>\n",
              "      <td>sem vítimas</td>\n",
              "      <td>pleno dia</td>\n",
              "      <td>...</td>\n",
              "      <td>0</td>\n",
              "      <td>2</td>\n",
              "      <td>0</td>\n",
              "      <td>0</td>\n",
              "      <td>1</td>\n",
              "      <td>2007</td>\n",
              "      <td>1</td>\n",
              "      <td>1</td>\n",
              "      <td>False</td>\n",
              "      <td>14</td>\n",
              "    </tr>\n",
              "    <tr>\n",
              "      <th>2007-01-01</th>\n",
              "      <td>2007-01-01</td>\n",
              "      <td>segunda</td>\n",
              "      <td>12:00:00</td>\n",
              "      <td>mg</td>\n",
              "      <td>50.0</td>\n",
              "      <td>0.2</td>\n",
              "      <td>outras</td>\n",
              "      <td>saída de pista</td>\n",
              "      <td>com vítimas feridas</td>\n",
              "      <td>pleno dia</td>\n",
              "      <td>...</td>\n",
              "      <td>1</td>\n",
              "      <td>0</td>\n",
              "      <td>0</td>\n",
              "      <td>4</td>\n",
              "      <td>1</td>\n",
              "      <td>2007</td>\n",
              "      <td>1</td>\n",
              "      <td>1</td>\n",
              "      <td>False</td>\n",
              "      <td>12</td>\n",
              "    </tr>\n",
              "  </tbody>\n",
              "</table>\n",
              "<p>5 rows × 28 columns</p>\n",
              "</div>"
            ],
            "text/plain": [
              "           data_inversa dia_semana   horario  uf     br     km causa_acidente  \\\n",
              "date                                                                            \n",
              "2007-01-01   2007-01-01    segunda  06:30:00  pa  316.0    9.0  desobediência   \n",
              "2007-01-01   2007-01-01    segunda  08:40:00  mg  381.0  397.4         outras   \n",
              "2007-01-01   2007-01-01    segunda  15:20:00  sc  282.0   23.0  desobediência   \n",
              "2007-01-01   2007-01-01    segunda  14:00:00  mg   40.0  120.8      distração   \n",
              "2007-01-01   2007-01-01    segunda  12:00:00  mg   50.0    0.2         outras   \n",
              "\n",
              "             tipo_acidente classificacao_acidente   fase_dia  ...  \\\n",
              "date                                                          ...   \n",
              "2007-01-01         colisão    com vítimas feridas  amanhecer  ...   \n",
              "2007-01-01  saída de pista            sem vítimas  pleno dia  ...   \n",
              "2007-01-01         colisão    com vítimas feridas  pleno dia  ...   \n",
              "2007-01-01  saída de pista            sem vítimas  pleno dia  ...   \n",
              "2007-01-01  saída de pista    com vítimas feridas  pleno dia  ...   \n",
              "\n",
              "           feridos_graves ilesos ignorados feridos veiculos  year  month  \\\n",
              "date                                                                       \n",
              "2007-01-01              0      1         0       1        2  2007      1   \n",
              "2007-01-01              0      1         0       0        1  2007      1   \n",
              "2007-01-01              1      1         0       1        2  2007      1   \n",
              "2007-01-01              0      2         0       0        1  2007      1   \n",
              "2007-01-01              1      0         0       4        1  2007      1   \n",
              "\n",
              "            quarter  quarter_end  hour  \n",
              "date                                    \n",
              "2007-01-01        1        False    06  \n",
              "2007-01-01        1        False    08  \n",
              "2007-01-01        1        False    15  \n",
              "2007-01-01        1        False    14  \n",
              "2007-01-01        1        False    12  \n",
              "\n",
              "[5 rows x 28 columns]"
            ]
          },
          "execution_count": 309,
          "metadata": {},
          "output_type": "execute_result"
        }
      ],
      "source": [
        "df.head()"
      ]
    },
    {
      "cell_type": "markdown",
      "metadata": {
        "id": "kQ0vquLDq-gd"
      },
      "source": [
        "Excluir dos dados 'outros' na coluna 'tipo_acidente'"
      ]
    },
    {
      "cell_type": "code",
      "execution_count": 310,
      "metadata": {
        "colab": {
          "base_uri": "https://localhost:8080/"
        },
        "id": "JKcWa0c-qvf8",
        "outputId": "02d2c433-c0fc-453c-e97e-384ca3705b5b"
      },
      "outputs": [
        {
          "data": {
            "text/plain": [
              "tipo_acidente\n",
              "colisão                    64.460929\n",
              "saída de pista             15.238844\n",
              "tombamento                  4.894686\n",
              "capotamento                 4.655017\n",
              "queda                       3.562164\n",
              "atropelamento de pessoa     3.186248\n",
              "atropelamento de animal     2.216360\n",
              "incêndio                    0.716786\n",
              "outros                      0.568924\n",
              "derramamento de carga       0.500043\n",
              "Name: proportion, dtype: float64"
            ]
          },
          "execution_count": 310,
          "metadata": {},
          "output_type": "execute_result"
        }
      ],
      "source": [
        "df['tipo_acidente'].value_counts(normalize = True) * 100"
      ]
    },
    {
      "cell_type": "code",
      "execution_count": 311,
      "metadata": {
        "id": "Hmtvo0MWmERE"
      },
      "outputs": [],
      "source": [
        "df = df.drop(df[df['tipo_acidente'] == 'outros'].index)"
      ]
    },
    {
      "cell_type": "markdown",
      "metadata": {
        "id": "_0XibUOqrZt2"
      },
      "source": [
        "Exclusão dos dados 'ignorado' na coluna de condições meteorológica e mapeamento para classificar em condições favoráveis (céu claro e sol) e condições adversas (chuva, nublado, nevoeiro, vento, neve)"
      ]
    },
    {
      "cell_type": "code",
      "execution_count": 312,
      "metadata": {
        "colab": {
          "base_uri": "https://localhost:8080/"
        },
        "id": "B5oU-FAMrwB7",
        "outputId": "d36ad828-be75-49e7-9b50-65ba5d88296f"
      },
      "outputs": [
        {
          "data": {
            "text/plain": [
              "condicao_metereologica\n",
              "céu claro    53.837433\n",
              "nublado      17.876704\n",
              "chuva        15.992799\n",
              "sol           9.454970\n",
              "ignorado      1.664487\n",
              "nevoeiro      0.913400\n",
              "vento         0.248112\n",
              "neve          0.012096\n",
              "Name: proportion, dtype: float64"
            ]
          },
          "execution_count": 312,
          "metadata": {},
          "output_type": "execute_result"
        }
      ],
      "source": [
        "df['condicao_metereologica'].value_counts(normalize = True) * 100"
      ]
    },
    {
      "cell_type": "code",
      "execution_count": 313,
      "metadata": {
        "id": "ieoT-EjspaZ7"
      },
      "outputs": [],
      "source": [
        "df = df.drop(df[df['condicao_metereologica'] == 'ignorado'].index)"
      ]
    },
    {
      "cell_type": "code",
      "execution_count": 314,
      "metadata": {
        "colab": {
          "base_uri": "https://localhost:8080/",
          "height": 374
        },
        "id": "zVzO4WVGpaXP",
        "outputId": "7b15aa9d-dd1c-4f83-c6d5-8afc7d1e070b"
      },
      "outputs": [
        {
          "data": {
            "text/html": [
              "<div>\n",
              "<style scoped>\n",
              "    .dataframe tbody tr th:only-of-type {\n",
              "        vertical-align: middle;\n",
              "    }\n",
              "\n",
              "    .dataframe tbody tr th {\n",
              "        vertical-align: top;\n",
              "    }\n",
              "\n",
              "    .dataframe thead th {\n",
              "        text-align: right;\n",
              "    }\n",
              "</style>\n",
              "<table border=\"1\" class=\"dataframe\">\n",
              "  <thead>\n",
              "    <tr style=\"text-align: right;\">\n",
              "      <th></th>\n",
              "      <th>data_inversa</th>\n",
              "      <th>dia_semana</th>\n",
              "      <th>horario</th>\n",
              "      <th>uf</th>\n",
              "      <th>br</th>\n",
              "      <th>km</th>\n",
              "      <th>causa_acidente</th>\n",
              "      <th>tipo_acidente</th>\n",
              "      <th>classificacao_acidente</th>\n",
              "      <th>fase_dia</th>\n",
              "      <th>...</th>\n",
              "      <th>feridos_graves</th>\n",
              "      <th>ilesos</th>\n",
              "      <th>ignorados</th>\n",
              "      <th>feridos</th>\n",
              "      <th>veiculos</th>\n",
              "      <th>year</th>\n",
              "      <th>month</th>\n",
              "      <th>quarter</th>\n",
              "      <th>quarter_end</th>\n",
              "      <th>hour</th>\n",
              "    </tr>\n",
              "    <tr>\n",
              "      <th>date</th>\n",
              "      <th></th>\n",
              "      <th></th>\n",
              "      <th></th>\n",
              "      <th></th>\n",
              "      <th></th>\n",
              "      <th></th>\n",
              "      <th></th>\n",
              "      <th></th>\n",
              "      <th></th>\n",
              "      <th></th>\n",
              "      <th></th>\n",
              "      <th></th>\n",
              "      <th></th>\n",
              "      <th></th>\n",
              "      <th></th>\n",
              "      <th></th>\n",
              "      <th></th>\n",
              "      <th></th>\n",
              "      <th></th>\n",
              "      <th></th>\n",
              "      <th></th>\n",
              "    </tr>\n",
              "  </thead>\n",
              "  <tbody>\n",
              "    <tr>\n",
              "      <th>2016-03-16</th>\n",
              "      <td>2016-03-16</td>\n",
              "      <td>quarta</td>\n",
              "      <td>18:30:00</td>\n",
              "      <td>ma</td>\n",
              "      <td>135.0</td>\n",
              "      <td>12</td>\n",
              "      <td>álcool/drogas</td>\n",
              "      <td>saída de pista</td>\n",
              "      <td>com vítimas feridas</td>\n",
              "      <td>plena noite</td>\n",
              "      <td>...</td>\n",
              "      <td>0</td>\n",
              "      <td>0</td>\n",
              "      <td>0</td>\n",
              "      <td>1</td>\n",
              "      <td>1</td>\n",
              "      <td>2016</td>\n",
              "      <td>3</td>\n",
              "      <td>1</td>\n",
              "      <td>False</td>\n",
              "      <td>18</td>\n",
              "    </tr>\n",
              "    <tr>\n",
              "      <th>2016-03-16</th>\n",
              "      <td>2016-03-16</td>\n",
              "      <td>quarta</td>\n",
              "      <td>13:00:00</td>\n",
              "      <td>al</td>\n",
              "      <td>101.0</td>\n",
              "      <td>180</td>\n",
              "      <td>velocidade inadequada</td>\n",
              "      <td>saída de pista</td>\n",
              "      <td>com vítimas fatais</td>\n",
              "      <td>pleno dia</td>\n",
              "      <td>...</td>\n",
              "      <td>0</td>\n",
              "      <td>0</td>\n",
              "      <td>0</td>\n",
              "      <td>0</td>\n",
              "      <td>1</td>\n",
              "      <td>2016</td>\n",
              "      <td>3</td>\n",
              "      <td>1</td>\n",
              "      <td>False</td>\n",
              "      <td>13</td>\n",
              "    </tr>\n",
              "    <tr>\n",
              "      <th>2016-03-16</th>\n",
              "      <td>2016-03-16</td>\n",
              "      <td>quarta</td>\n",
              "      <td>06:00:00</td>\n",
              "      <td>pe</td>\n",
              "      <td>424.0</td>\n",
              "      <td>0</td>\n",
              "      <td>distância insegura</td>\n",
              "      <td>colisão</td>\n",
              "      <td>com vítimas feridas</td>\n",
              "      <td>amanhecer</td>\n",
              "      <td>...</td>\n",
              "      <td>1</td>\n",
              "      <td>0</td>\n",
              "      <td>0</td>\n",
              "      <td>3</td>\n",
              "      <td>2</td>\n",
              "      <td>2016</td>\n",
              "      <td>3</td>\n",
              "      <td>1</td>\n",
              "      <td>False</td>\n",
              "      <td>06</td>\n",
              "    </tr>\n",
              "    <tr>\n",
              "      <th>2016-03-16</th>\n",
              "      <td>2016-03-16</td>\n",
              "      <td>quarta</td>\n",
              "      <td>16:40:00</td>\n",
              "      <td>sp</td>\n",
              "      <td>116.0</td>\n",
              "      <td>125,6</td>\n",
              "      <td>outras</td>\n",
              "      <td>colisão</td>\n",
              "      <td>sem vítimas</td>\n",
              "      <td>pleno dia</td>\n",
              "      <td>...</td>\n",
              "      <td>0</td>\n",
              "      <td>2</td>\n",
              "      <td>1</td>\n",
              "      <td>0</td>\n",
              "      <td>3</td>\n",
              "      <td>2016</td>\n",
              "      <td>3</td>\n",
              "      <td>1</td>\n",
              "      <td>False</td>\n",
              "      <td>16</td>\n",
              "    </tr>\n",
              "    <tr>\n",
              "      <th>2016-03-16</th>\n",
              "      <td>2016-03-16</td>\n",
              "      <td>quarta</td>\n",
              "      <td>04:00:00</td>\n",
              "      <td>ba</td>\n",
              "      <td>101.0</td>\n",
              "      <td>724,8</td>\n",
              "      <td>velocidade inadequada</td>\n",
              "      <td>saída de pista</td>\n",
              "      <td>ignorado</td>\n",
              "      <td>plena noite</td>\n",
              "      <td>...</td>\n",
              "      <td>0</td>\n",
              "      <td>0</td>\n",
              "      <td>1</td>\n",
              "      <td>0</td>\n",
              "      <td>1</td>\n",
              "      <td>2016</td>\n",
              "      <td>3</td>\n",
              "      <td>1</td>\n",
              "      <td>False</td>\n",
              "      <td>04</td>\n",
              "    </tr>\n",
              "  </tbody>\n",
              "</table>\n",
              "<p>5 rows × 28 columns</p>\n",
              "</div>"
            ],
            "text/plain": [
              "           data_inversa dia_semana   horario  uf     br     km  \\\n",
              "date                                                             \n",
              "2016-03-16   2016-03-16     quarta  18:30:00  ma  135.0     12   \n",
              "2016-03-16   2016-03-16     quarta  13:00:00  al  101.0    180   \n",
              "2016-03-16   2016-03-16     quarta  06:00:00  pe  424.0      0   \n",
              "2016-03-16   2016-03-16     quarta  16:40:00  sp  116.0  125,6   \n",
              "2016-03-16   2016-03-16     quarta  04:00:00  ba  101.0  724,8   \n",
              "\n",
              "                   causa_acidente   tipo_acidente classificacao_acidente  \\\n",
              "date                                                                       \n",
              "2016-03-16          álcool/drogas  saída de pista    com vítimas feridas   \n",
              "2016-03-16  velocidade inadequada  saída de pista     com vítimas fatais   \n",
              "2016-03-16     distância insegura         colisão    com vítimas feridas   \n",
              "2016-03-16                 outras         colisão            sem vítimas   \n",
              "2016-03-16  velocidade inadequada  saída de pista               ignorado   \n",
              "\n",
              "               fase_dia  ... feridos_graves ilesos ignorados feridos veiculos  \\\n",
              "date                     ...                                                    \n",
              "2016-03-16  plena noite  ...              0      0         0       1        1   \n",
              "2016-03-16    pleno dia  ...              0      0         0       0        1   \n",
              "2016-03-16    amanhecer  ...              1      0         0       3        2   \n",
              "2016-03-16    pleno dia  ...              0      2         1       0        3   \n",
              "2016-03-16  plena noite  ...              0      0         1       0        1   \n",
              "\n",
              "            year  month  quarter  quarter_end  hour  \n",
              "date                                                 \n",
              "2016-03-16  2016      3        1        False    18  \n",
              "2016-03-16  2016      3        1        False    13  \n",
              "2016-03-16  2016      3        1        False    06  \n",
              "2016-03-16  2016      3        1        False    16  \n",
              "2016-03-16  2016      3        1        False    04  \n",
              "\n",
              "[5 rows x 28 columns]"
            ]
          },
          "execution_count": 314,
          "metadata": {},
          "output_type": "execute_result"
        }
      ],
      "source": [
        "mapeamento = {\n",
        "    'céu claro': 'Condições Favoráveis',\n",
        "    'chuva': 'Condições Adversas',\n",
        "    'nublado': 'Condições Adversas',\n",
        "    'sol': 'Condições Favoráveis',\n",
        "    'nevoeiro': 'Condições Adversas',\n",
        "    'vento': 'Condições Adversas',\n",
        "    'neve': 'Condições Adversas'\n",
        "}\n",
        "\n",
        "df['condicao_metereologica'] = df['condicao_metereologica'].map(mapeamento)\n",
        "df.head()"
      ]
    },
    {
      "cell_type": "markdown",
      "metadata": {
        "id": "8wjpgd8Rr_xz"
      },
      "source": [
        "Criação da coluna de acidente fatal com 0 para acidentes que não tiveram mortes e 1 para acidentes com mortes"
      ]
    },
    {
      "cell_type": "code",
      "execution_count": 315,
      "metadata": {},
      "outputs": [
        {
          "data": {
            "text/html": [
              "<div>\n",
              "<style scoped>\n",
              "    .dataframe tbody tr th:only-of-type {\n",
              "        vertical-align: middle;\n",
              "    }\n",
              "\n",
              "    .dataframe tbody tr th {\n",
              "        vertical-align: top;\n",
              "    }\n",
              "\n",
              "    .dataframe thead th {\n",
              "        text-align: right;\n",
              "    }\n",
              "</style>\n",
              "<table border=\"1\" class=\"dataframe\">\n",
              "  <thead>\n",
              "    <tr style=\"text-align: right;\">\n",
              "      <th></th>\n",
              "      <th>data_inversa</th>\n",
              "      <th>dia_semana</th>\n",
              "      <th>horario</th>\n",
              "      <th>uf</th>\n",
              "      <th>br</th>\n",
              "      <th>km</th>\n",
              "      <th>causa_acidente</th>\n",
              "      <th>tipo_acidente</th>\n",
              "      <th>classificacao_acidente</th>\n",
              "      <th>fase_dia</th>\n",
              "      <th>...</th>\n",
              "      <th>ilesos</th>\n",
              "      <th>ignorados</th>\n",
              "      <th>feridos</th>\n",
              "      <th>veiculos</th>\n",
              "      <th>year</th>\n",
              "      <th>month</th>\n",
              "      <th>quarter</th>\n",
              "      <th>quarter_end</th>\n",
              "      <th>hour</th>\n",
              "      <th>acidente_grave</th>\n",
              "    </tr>\n",
              "    <tr>\n",
              "      <th>date</th>\n",
              "      <th></th>\n",
              "      <th></th>\n",
              "      <th></th>\n",
              "      <th></th>\n",
              "      <th></th>\n",
              "      <th></th>\n",
              "      <th></th>\n",
              "      <th></th>\n",
              "      <th></th>\n",
              "      <th></th>\n",
              "      <th></th>\n",
              "      <th></th>\n",
              "      <th></th>\n",
              "      <th></th>\n",
              "      <th></th>\n",
              "      <th></th>\n",
              "      <th></th>\n",
              "      <th></th>\n",
              "      <th></th>\n",
              "      <th></th>\n",
              "      <th></th>\n",
              "    </tr>\n",
              "  </thead>\n",
              "  <tbody>\n",
              "    <tr>\n",
              "      <th>2016-03-16</th>\n",
              "      <td>2016-03-16</td>\n",
              "      <td>quarta</td>\n",
              "      <td>18:30:00</td>\n",
              "      <td>ma</td>\n",
              "      <td>135.0</td>\n",
              "      <td>12</td>\n",
              "      <td>álcool/drogas</td>\n",
              "      <td>saída de pista</td>\n",
              "      <td>com vítimas feridas</td>\n",
              "      <td>plena noite</td>\n",
              "      <td>...</td>\n",
              "      <td>0</td>\n",
              "      <td>0</td>\n",
              "      <td>1</td>\n",
              "      <td>1</td>\n",
              "      <td>2016</td>\n",
              "      <td>3</td>\n",
              "      <td>1</td>\n",
              "      <td>False</td>\n",
              "      <td>18</td>\n",
              "      <td>0</td>\n",
              "    </tr>\n",
              "    <tr>\n",
              "      <th>2016-03-16</th>\n",
              "      <td>2016-03-16</td>\n",
              "      <td>quarta</td>\n",
              "      <td>13:00:00</td>\n",
              "      <td>al</td>\n",
              "      <td>101.0</td>\n",
              "      <td>180</td>\n",
              "      <td>velocidade inadequada</td>\n",
              "      <td>saída de pista</td>\n",
              "      <td>com vítimas fatais</td>\n",
              "      <td>pleno dia</td>\n",
              "      <td>...</td>\n",
              "      <td>0</td>\n",
              "      <td>0</td>\n",
              "      <td>0</td>\n",
              "      <td>1</td>\n",
              "      <td>2016</td>\n",
              "      <td>3</td>\n",
              "      <td>1</td>\n",
              "      <td>False</td>\n",
              "      <td>13</td>\n",
              "      <td>0</td>\n",
              "    </tr>\n",
              "    <tr>\n",
              "      <th>2016-03-16</th>\n",
              "      <td>2016-03-16</td>\n",
              "      <td>quarta</td>\n",
              "      <td>06:00:00</td>\n",
              "      <td>pe</td>\n",
              "      <td>424.0</td>\n",
              "      <td>0</td>\n",
              "      <td>distância insegura</td>\n",
              "      <td>colisão</td>\n",
              "      <td>com vítimas feridas</td>\n",
              "      <td>amanhecer</td>\n",
              "      <td>...</td>\n",
              "      <td>0</td>\n",
              "      <td>0</td>\n",
              "      <td>3</td>\n",
              "      <td>2</td>\n",
              "      <td>2016</td>\n",
              "      <td>3</td>\n",
              "      <td>1</td>\n",
              "      <td>False</td>\n",
              "      <td>06</td>\n",
              "      <td>1</td>\n",
              "    </tr>\n",
              "    <tr>\n",
              "      <th>2016-03-16</th>\n",
              "      <td>2016-03-16</td>\n",
              "      <td>quarta</td>\n",
              "      <td>16:40:00</td>\n",
              "      <td>sp</td>\n",
              "      <td>116.0</td>\n",
              "      <td>125,6</td>\n",
              "      <td>outras</td>\n",
              "      <td>colisão</td>\n",
              "      <td>sem vítimas</td>\n",
              "      <td>pleno dia</td>\n",
              "      <td>...</td>\n",
              "      <td>2</td>\n",
              "      <td>1</td>\n",
              "      <td>0</td>\n",
              "      <td>3</td>\n",
              "      <td>2016</td>\n",
              "      <td>3</td>\n",
              "      <td>1</td>\n",
              "      <td>False</td>\n",
              "      <td>16</td>\n",
              "      <td>0</td>\n",
              "    </tr>\n",
              "    <tr>\n",
              "      <th>2016-03-16</th>\n",
              "      <td>2016-03-16</td>\n",
              "      <td>quarta</td>\n",
              "      <td>04:00:00</td>\n",
              "      <td>ba</td>\n",
              "      <td>101.0</td>\n",
              "      <td>724,8</td>\n",
              "      <td>velocidade inadequada</td>\n",
              "      <td>saída de pista</td>\n",
              "      <td>ignorado</td>\n",
              "      <td>plena noite</td>\n",
              "      <td>...</td>\n",
              "      <td>0</td>\n",
              "      <td>1</td>\n",
              "      <td>0</td>\n",
              "      <td>1</td>\n",
              "      <td>2016</td>\n",
              "      <td>3</td>\n",
              "      <td>1</td>\n",
              "      <td>False</td>\n",
              "      <td>04</td>\n",
              "      <td>0</td>\n",
              "    </tr>\n",
              "  </tbody>\n",
              "</table>\n",
              "<p>5 rows × 29 columns</p>\n",
              "</div>"
            ],
            "text/plain": [
              "           data_inversa dia_semana   horario  uf     br     km  \\\n",
              "date                                                             \n",
              "2016-03-16   2016-03-16     quarta  18:30:00  ma  135.0     12   \n",
              "2016-03-16   2016-03-16     quarta  13:00:00  al  101.0    180   \n",
              "2016-03-16   2016-03-16     quarta  06:00:00  pe  424.0      0   \n",
              "2016-03-16   2016-03-16     quarta  16:40:00  sp  116.0  125,6   \n",
              "2016-03-16   2016-03-16     quarta  04:00:00  ba  101.0  724,8   \n",
              "\n",
              "                   causa_acidente   tipo_acidente classificacao_acidente  \\\n",
              "date                                                                       \n",
              "2016-03-16          álcool/drogas  saída de pista    com vítimas feridas   \n",
              "2016-03-16  velocidade inadequada  saída de pista     com vítimas fatais   \n",
              "2016-03-16     distância insegura         colisão    com vítimas feridas   \n",
              "2016-03-16                 outras         colisão            sem vítimas   \n",
              "2016-03-16  velocidade inadequada  saída de pista               ignorado   \n",
              "\n",
              "               fase_dia  ... ilesos ignorados feridos veiculos  year  month  \\\n",
              "date                     ...                                                  \n",
              "2016-03-16  plena noite  ...      0         0       1        1  2016      3   \n",
              "2016-03-16    pleno dia  ...      0         0       0        1  2016      3   \n",
              "2016-03-16    amanhecer  ...      0         0       3        2  2016      3   \n",
              "2016-03-16    pleno dia  ...      2         1       0        3  2016      3   \n",
              "2016-03-16  plena noite  ...      0         1       0        1  2016      3   \n",
              "\n",
              "            quarter  quarter_end  hour  acidente_grave  \n",
              "date                                                    \n",
              "2016-03-16        1        False    18               0  \n",
              "2016-03-16        1        False    13               0  \n",
              "2016-03-16        1        False    06               1  \n",
              "2016-03-16        1        False    16               0  \n",
              "2016-03-16        1        False    04               0  \n",
              "\n",
              "[5 rows x 29 columns]"
            ]
          },
          "execution_count": 315,
          "metadata": {},
          "output_type": "execute_result"
        }
      ],
      "source": [
        "mapeamento = lambda x: 1 if x > 0 else 0\n",
        "df['acidente_grave'] = df['feridos_graves'].map(mapeamento)\n",
        "df.head()"
      ]
    },
    {
      "cell_type": "code",
      "execution_count": 316,
      "metadata": {
        "colab": {
          "base_uri": "https://localhost:8080/",
          "height": 374
        },
        "id": "kQZmmkV7kDMa",
        "outputId": "79fbf6eb-49cc-47ea-8ff0-b8177ed58634"
      },
      "outputs": [
        {
          "data": {
            "text/html": [
              "<div>\n",
              "<style scoped>\n",
              "    .dataframe tbody tr th:only-of-type {\n",
              "        vertical-align: middle;\n",
              "    }\n",
              "\n",
              "    .dataframe tbody tr th {\n",
              "        vertical-align: top;\n",
              "    }\n",
              "\n",
              "    .dataframe thead th {\n",
              "        text-align: right;\n",
              "    }\n",
              "</style>\n",
              "<table border=\"1\" class=\"dataframe\">\n",
              "  <thead>\n",
              "    <tr style=\"text-align: right;\">\n",
              "      <th></th>\n",
              "      <th>data_inversa</th>\n",
              "      <th>dia_semana</th>\n",
              "      <th>horario</th>\n",
              "      <th>uf</th>\n",
              "      <th>br</th>\n",
              "      <th>km</th>\n",
              "      <th>causa_acidente</th>\n",
              "      <th>tipo_acidente</th>\n",
              "      <th>classificacao_acidente</th>\n",
              "      <th>fase_dia</th>\n",
              "      <th>...</th>\n",
              "      <th>ignorados</th>\n",
              "      <th>feridos</th>\n",
              "      <th>veiculos</th>\n",
              "      <th>year</th>\n",
              "      <th>month</th>\n",
              "      <th>quarter</th>\n",
              "      <th>quarter_end</th>\n",
              "      <th>hour</th>\n",
              "      <th>acidente_grave</th>\n",
              "      <th>acidente_fatal</th>\n",
              "    </tr>\n",
              "    <tr>\n",
              "      <th>date</th>\n",
              "      <th></th>\n",
              "      <th></th>\n",
              "      <th></th>\n",
              "      <th></th>\n",
              "      <th></th>\n",
              "      <th></th>\n",
              "      <th></th>\n",
              "      <th></th>\n",
              "      <th></th>\n",
              "      <th></th>\n",
              "      <th></th>\n",
              "      <th></th>\n",
              "      <th></th>\n",
              "      <th></th>\n",
              "      <th></th>\n",
              "      <th></th>\n",
              "      <th></th>\n",
              "      <th></th>\n",
              "      <th></th>\n",
              "      <th></th>\n",
              "      <th></th>\n",
              "    </tr>\n",
              "  </thead>\n",
              "  <tbody>\n",
              "    <tr>\n",
              "      <th>2016-03-16</th>\n",
              "      <td>2016-03-16</td>\n",
              "      <td>quarta</td>\n",
              "      <td>18:30:00</td>\n",
              "      <td>ma</td>\n",
              "      <td>135.0</td>\n",
              "      <td>12</td>\n",
              "      <td>álcool/drogas</td>\n",
              "      <td>saída de pista</td>\n",
              "      <td>com vítimas feridas</td>\n",
              "      <td>plena noite</td>\n",
              "      <td>...</td>\n",
              "      <td>0</td>\n",
              "      <td>1</td>\n",
              "      <td>1</td>\n",
              "      <td>2016</td>\n",
              "      <td>3</td>\n",
              "      <td>1</td>\n",
              "      <td>False</td>\n",
              "      <td>18</td>\n",
              "      <td>0</td>\n",
              "      <td>0</td>\n",
              "    </tr>\n",
              "    <tr>\n",
              "      <th>2016-03-16</th>\n",
              "      <td>2016-03-16</td>\n",
              "      <td>quarta</td>\n",
              "      <td>13:00:00</td>\n",
              "      <td>al</td>\n",
              "      <td>101.0</td>\n",
              "      <td>180</td>\n",
              "      <td>velocidade inadequada</td>\n",
              "      <td>saída de pista</td>\n",
              "      <td>com vítimas fatais</td>\n",
              "      <td>pleno dia</td>\n",
              "      <td>...</td>\n",
              "      <td>0</td>\n",
              "      <td>0</td>\n",
              "      <td>1</td>\n",
              "      <td>2016</td>\n",
              "      <td>3</td>\n",
              "      <td>1</td>\n",
              "      <td>False</td>\n",
              "      <td>13</td>\n",
              "      <td>0</td>\n",
              "      <td>1</td>\n",
              "    </tr>\n",
              "    <tr>\n",
              "      <th>2016-03-16</th>\n",
              "      <td>2016-03-16</td>\n",
              "      <td>quarta</td>\n",
              "      <td>06:00:00</td>\n",
              "      <td>pe</td>\n",
              "      <td>424.0</td>\n",
              "      <td>0</td>\n",
              "      <td>distância insegura</td>\n",
              "      <td>colisão</td>\n",
              "      <td>com vítimas feridas</td>\n",
              "      <td>amanhecer</td>\n",
              "      <td>...</td>\n",
              "      <td>0</td>\n",
              "      <td>3</td>\n",
              "      <td>2</td>\n",
              "      <td>2016</td>\n",
              "      <td>3</td>\n",
              "      <td>1</td>\n",
              "      <td>False</td>\n",
              "      <td>06</td>\n",
              "      <td>1</td>\n",
              "      <td>0</td>\n",
              "    </tr>\n",
              "    <tr>\n",
              "      <th>2016-03-16</th>\n",
              "      <td>2016-03-16</td>\n",
              "      <td>quarta</td>\n",
              "      <td>16:40:00</td>\n",
              "      <td>sp</td>\n",
              "      <td>116.0</td>\n",
              "      <td>125,6</td>\n",
              "      <td>outras</td>\n",
              "      <td>colisão</td>\n",
              "      <td>sem vítimas</td>\n",
              "      <td>pleno dia</td>\n",
              "      <td>...</td>\n",
              "      <td>1</td>\n",
              "      <td>0</td>\n",
              "      <td>3</td>\n",
              "      <td>2016</td>\n",
              "      <td>3</td>\n",
              "      <td>1</td>\n",
              "      <td>False</td>\n",
              "      <td>16</td>\n",
              "      <td>0</td>\n",
              "      <td>0</td>\n",
              "    </tr>\n",
              "    <tr>\n",
              "      <th>2016-03-16</th>\n",
              "      <td>2016-03-16</td>\n",
              "      <td>quarta</td>\n",
              "      <td>04:00:00</td>\n",
              "      <td>ba</td>\n",
              "      <td>101.0</td>\n",
              "      <td>724,8</td>\n",
              "      <td>velocidade inadequada</td>\n",
              "      <td>saída de pista</td>\n",
              "      <td>ignorado</td>\n",
              "      <td>plena noite</td>\n",
              "      <td>...</td>\n",
              "      <td>1</td>\n",
              "      <td>0</td>\n",
              "      <td>1</td>\n",
              "      <td>2016</td>\n",
              "      <td>3</td>\n",
              "      <td>1</td>\n",
              "      <td>False</td>\n",
              "      <td>04</td>\n",
              "      <td>0</td>\n",
              "      <td>0</td>\n",
              "    </tr>\n",
              "  </tbody>\n",
              "</table>\n",
              "<p>5 rows × 30 columns</p>\n",
              "</div>"
            ],
            "text/plain": [
              "           data_inversa dia_semana   horario  uf     br     km  \\\n",
              "date                                                             \n",
              "2016-03-16   2016-03-16     quarta  18:30:00  ma  135.0     12   \n",
              "2016-03-16   2016-03-16     quarta  13:00:00  al  101.0    180   \n",
              "2016-03-16   2016-03-16     quarta  06:00:00  pe  424.0      0   \n",
              "2016-03-16   2016-03-16     quarta  16:40:00  sp  116.0  125,6   \n",
              "2016-03-16   2016-03-16     quarta  04:00:00  ba  101.0  724,8   \n",
              "\n",
              "                   causa_acidente   tipo_acidente classificacao_acidente  \\\n",
              "date                                                                       \n",
              "2016-03-16          álcool/drogas  saída de pista    com vítimas feridas   \n",
              "2016-03-16  velocidade inadequada  saída de pista     com vítimas fatais   \n",
              "2016-03-16     distância insegura         colisão    com vítimas feridas   \n",
              "2016-03-16                 outras         colisão            sem vítimas   \n",
              "2016-03-16  velocidade inadequada  saída de pista               ignorado   \n",
              "\n",
              "               fase_dia  ... ignorados feridos veiculos  year month  quarter  \\\n",
              "date                     ...                                                   \n",
              "2016-03-16  plena noite  ...         0       1        1  2016     3        1   \n",
              "2016-03-16    pleno dia  ...         0       0        1  2016     3        1   \n",
              "2016-03-16    amanhecer  ...         0       3        2  2016     3        1   \n",
              "2016-03-16    pleno dia  ...         1       0        3  2016     3        1   \n",
              "2016-03-16  plena noite  ...         1       0        1  2016     3        1   \n",
              "\n",
              "            quarter_end  hour  acidente_grave  acidente_fatal  \n",
              "date                                                           \n",
              "2016-03-16        False    18               0               0  \n",
              "2016-03-16        False    13               0               1  \n",
              "2016-03-16        False    06               1               0  \n",
              "2016-03-16        False    16               0               0  \n",
              "2016-03-16        False    04               0               0  \n",
              "\n",
              "[5 rows x 30 columns]"
            ]
          },
          "execution_count": 316,
          "metadata": {},
          "output_type": "execute_result"
        }
      ],
      "source": [
        "mapeamento = lambda x: 1 if x > 0 else 0\n",
        "df['acidente_fatal'] = df['mortos'].map(mapeamento)\n",
        "df.head()"
      ]
    },
    {
      "cell_type": "markdown",
      "metadata": {
        "id": "3XMhcCdJsY-P"
      },
      "source": [
        "Correção da coluna da fase do dia"
      ]
    },
    {
      "cell_type": "code",
      "execution_count": 317,
      "metadata": {
        "colab": {
          "base_uri": "https://localhost:8080/",
          "height": 374
        },
        "id": "sZlc9nUXmx0A",
        "outputId": "3bed4320-e5dd-4b58-a6a3-b6911abc5a5e"
      },
      "outputs": [
        {
          "data": {
            "text/html": [
              "<div>\n",
              "<style scoped>\n",
              "    .dataframe tbody tr th:only-of-type {\n",
              "        vertical-align: middle;\n",
              "    }\n",
              "\n",
              "    .dataframe tbody tr th {\n",
              "        vertical-align: top;\n",
              "    }\n",
              "\n",
              "    .dataframe thead th {\n",
              "        text-align: right;\n",
              "    }\n",
              "</style>\n",
              "<table border=\"1\" class=\"dataframe\">\n",
              "  <thead>\n",
              "    <tr style=\"text-align: right;\">\n",
              "      <th></th>\n",
              "      <th>data_inversa</th>\n",
              "      <th>dia_semana</th>\n",
              "      <th>horario</th>\n",
              "      <th>uf</th>\n",
              "      <th>br</th>\n",
              "      <th>km</th>\n",
              "      <th>causa_acidente</th>\n",
              "      <th>tipo_acidente</th>\n",
              "      <th>classificacao_acidente</th>\n",
              "      <th>fase_dia</th>\n",
              "      <th>...</th>\n",
              "      <th>ignorados</th>\n",
              "      <th>feridos</th>\n",
              "      <th>veiculos</th>\n",
              "      <th>year</th>\n",
              "      <th>month</th>\n",
              "      <th>quarter</th>\n",
              "      <th>quarter_end</th>\n",
              "      <th>hour</th>\n",
              "      <th>acidente_grave</th>\n",
              "      <th>acidente_fatal</th>\n",
              "    </tr>\n",
              "    <tr>\n",
              "      <th>date</th>\n",
              "      <th></th>\n",
              "      <th></th>\n",
              "      <th></th>\n",
              "      <th></th>\n",
              "      <th></th>\n",
              "      <th></th>\n",
              "      <th></th>\n",
              "      <th></th>\n",
              "      <th></th>\n",
              "      <th></th>\n",
              "      <th></th>\n",
              "      <th></th>\n",
              "      <th></th>\n",
              "      <th></th>\n",
              "      <th></th>\n",
              "      <th></th>\n",
              "      <th></th>\n",
              "      <th></th>\n",
              "      <th></th>\n",
              "      <th></th>\n",
              "      <th></th>\n",
              "    </tr>\n",
              "  </thead>\n",
              "  <tbody>\n",
              "    <tr>\n",
              "      <th>2016-03-16</th>\n",
              "      <td>2016-03-16</td>\n",
              "      <td>quarta</td>\n",
              "      <td>18:30:00</td>\n",
              "      <td>ma</td>\n",
              "      <td>135.0</td>\n",
              "      <td>12</td>\n",
              "      <td>álcool/drogas</td>\n",
              "      <td>saída de pista</td>\n",
              "      <td>com vítimas feridas</td>\n",
              "      <td>Noite</td>\n",
              "      <td>...</td>\n",
              "      <td>0</td>\n",
              "      <td>1</td>\n",
              "      <td>1</td>\n",
              "      <td>2016</td>\n",
              "      <td>3</td>\n",
              "      <td>1</td>\n",
              "      <td>False</td>\n",
              "      <td>18</td>\n",
              "      <td>0</td>\n",
              "      <td>0</td>\n",
              "    </tr>\n",
              "    <tr>\n",
              "      <th>2016-03-16</th>\n",
              "      <td>2016-03-16</td>\n",
              "      <td>quarta</td>\n",
              "      <td>13:00:00</td>\n",
              "      <td>al</td>\n",
              "      <td>101.0</td>\n",
              "      <td>180</td>\n",
              "      <td>velocidade inadequada</td>\n",
              "      <td>saída de pista</td>\n",
              "      <td>com vítimas fatais</td>\n",
              "      <td>Tarde</td>\n",
              "      <td>...</td>\n",
              "      <td>0</td>\n",
              "      <td>0</td>\n",
              "      <td>1</td>\n",
              "      <td>2016</td>\n",
              "      <td>3</td>\n",
              "      <td>1</td>\n",
              "      <td>False</td>\n",
              "      <td>13</td>\n",
              "      <td>0</td>\n",
              "      <td>1</td>\n",
              "    </tr>\n",
              "    <tr>\n",
              "      <th>2016-03-16</th>\n",
              "      <td>2016-03-16</td>\n",
              "      <td>quarta</td>\n",
              "      <td>06:00:00</td>\n",
              "      <td>pe</td>\n",
              "      <td>424.0</td>\n",
              "      <td>0</td>\n",
              "      <td>distância insegura</td>\n",
              "      <td>colisão</td>\n",
              "      <td>com vítimas feridas</td>\n",
              "      <td>Manhã</td>\n",
              "      <td>...</td>\n",
              "      <td>0</td>\n",
              "      <td>3</td>\n",
              "      <td>2</td>\n",
              "      <td>2016</td>\n",
              "      <td>3</td>\n",
              "      <td>1</td>\n",
              "      <td>False</td>\n",
              "      <td>6</td>\n",
              "      <td>1</td>\n",
              "      <td>0</td>\n",
              "    </tr>\n",
              "    <tr>\n",
              "      <th>2016-03-16</th>\n",
              "      <td>2016-03-16</td>\n",
              "      <td>quarta</td>\n",
              "      <td>16:40:00</td>\n",
              "      <td>sp</td>\n",
              "      <td>116.0</td>\n",
              "      <td>125,6</td>\n",
              "      <td>outras</td>\n",
              "      <td>colisão</td>\n",
              "      <td>sem vítimas</td>\n",
              "      <td>Tarde</td>\n",
              "      <td>...</td>\n",
              "      <td>1</td>\n",
              "      <td>0</td>\n",
              "      <td>3</td>\n",
              "      <td>2016</td>\n",
              "      <td>3</td>\n",
              "      <td>1</td>\n",
              "      <td>False</td>\n",
              "      <td>16</td>\n",
              "      <td>0</td>\n",
              "      <td>0</td>\n",
              "    </tr>\n",
              "    <tr>\n",
              "      <th>2016-03-16</th>\n",
              "      <td>2016-03-16</td>\n",
              "      <td>quarta</td>\n",
              "      <td>04:00:00</td>\n",
              "      <td>ba</td>\n",
              "      <td>101.0</td>\n",
              "      <td>724,8</td>\n",
              "      <td>velocidade inadequada</td>\n",
              "      <td>saída de pista</td>\n",
              "      <td>ignorado</td>\n",
              "      <td>Madrugada</td>\n",
              "      <td>...</td>\n",
              "      <td>1</td>\n",
              "      <td>0</td>\n",
              "      <td>1</td>\n",
              "      <td>2016</td>\n",
              "      <td>3</td>\n",
              "      <td>1</td>\n",
              "      <td>False</td>\n",
              "      <td>4</td>\n",
              "      <td>0</td>\n",
              "      <td>0</td>\n",
              "    </tr>\n",
              "  </tbody>\n",
              "</table>\n",
              "<p>5 rows × 30 columns</p>\n",
              "</div>"
            ],
            "text/plain": [
              "           data_inversa dia_semana   horario  uf     br     km  \\\n",
              "date                                                             \n",
              "2016-03-16   2016-03-16     quarta  18:30:00  ma  135.0     12   \n",
              "2016-03-16   2016-03-16     quarta  13:00:00  al  101.0    180   \n",
              "2016-03-16   2016-03-16     quarta  06:00:00  pe  424.0      0   \n",
              "2016-03-16   2016-03-16     quarta  16:40:00  sp  116.0  125,6   \n",
              "2016-03-16   2016-03-16     quarta  04:00:00  ba  101.0  724,8   \n",
              "\n",
              "                   causa_acidente   tipo_acidente classificacao_acidente  \\\n",
              "date                                                                       \n",
              "2016-03-16          álcool/drogas  saída de pista    com vítimas feridas   \n",
              "2016-03-16  velocidade inadequada  saída de pista     com vítimas fatais   \n",
              "2016-03-16     distância insegura         colisão    com vítimas feridas   \n",
              "2016-03-16                 outras         colisão            sem vítimas   \n",
              "2016-03-16  velocidade inadequada  saída de pista               ignorado   \n",
              "\n",
              "             fase_dia  ... ignorados feridos veiculos  year month  quarter  \\\n",
              "date                   ...                                                   \n",
              "2016-03-16      Noite  ...         0       1        1  2016     3        1   \n",
              "2016-03-16      Tarde  ...         0       0        1  2016     3        1   \n",
              "2016-03-16      Manhã  ...         0       3        2  2016     3        1   \n",
              "2016-03-16      Tarde  ...         1       0        3  2016     3        1   \n",
              "2016-03-16  Madrugada  ...         1       0        1  2016     3        1   \n",
              "\n",
              "            quarter_end  hour  acidente_grave  acidente_fatal  \n",
              "date                                                           \n",
              "2016-03-16        False    18               0               0  \n",
              "2016-03-16        False    13               0               1  \n",
              "2016-03-16        False     6               1               0  \n",
              "2016-03-16        False    16               0               0  \n",
              "2016-03-16        False     4               0               0  \n",
              "\n",
              "[5 rows x 30 columns]"
            ]
          },
          "execution_count": 317,
          "metadata": {},
          "output_type": "execute_result"
        }
      ],
      "source": [
        "mapeamento_horario = lambda x: (\n",
        "    'Madrugada' if 0 <= x < 6\n",
        "    else 'Manhã' if 6 <= x < 12\n",
        "    else 'Tarde' if 12 <= x < 18\n",
        "    else 'Noite'\n",
        ")\n",
        "\n",
        "df['hour'] = df['hour'].astype(int)\n",
        "df['fase_dia'] = df['hour'].apply(mapeamento_horario)\n",
        "df.head()"
      ]
    },
    {
      "cell_type": "markdown",
      "metadata": {},
      "source": [
        "# INICIO TESTE - TESTANDO ACIDENTES GRAVES"
      ]
    },
    {
      "cell_type": "code",
      "execution_count": null,
      "metadata": {},
      "outputs": [],
      "source": [
        "update_acidente_grave = lambda x: 1 if x['acidente_fatal'] == 1 else x['acidente_grave']\n",
        "df['acidente_grave'] = df.apply(update_acidente_grave, axis=1)"
      ]
    },
    {
      "cell_type": "code",
      "execution_count": 337,
      "metadata": {},
      "outputs": [
        {
          "data": {
            "text/plain": [
              "acidente_grave\n",
              "0    11167\n",
              "1     4061\n",
              "Name: count, dtype: int64"
            ]
          },
          "execution_count": 337,
          "metadata": {},
          "output_type": "execute_result"
        }
      ],
      "source": [
        "df['acidente_grave'].value_counts()"
      ]
    },
    {
      "cell_type": "code",
      "execution_count": 336,
      "metadata": {},
      "outputs": [
        {
          "data": {
            "text/plain": [
              "acidente_grave\n",
              "0    0.73332\n",
              "1    0.26668\n",
              "Name: proportion, dtype: float64"
            ]
          },
          "execution_count": 336,
          "metadata": {},
          "output_type": "execute_result"
        }
      ],
      "source": [
        "df['acidente_grave'].value_counts(normalize = True)"
      ]
    },
    {
      "cell_type": "code",
      "execution_count": 341,
      "metadata": {},
      "outputs": [],
      "source": [
        "df = df[df['acidente_grave'] != 0]"
      ]
    },
    {
      "cell_type": "markdown",
      "metadata": {},
      "source": [
        "# FIM TESTE"
      ]
    },
    {
      "cell_type": "markdown",
      "metadata": {
        "id": "fFnT0cBdsjJb"
      },
      "source": [
        "Selecionar as colunas qualitativas.\n",
        "\n",
        "Algumas das colunas não foram selecionada por opção de acordo com a importância dos dados para o algoritmo."
      ]
    },
    {
      "cell_type": "code",
      "execution_count": 343,
      "metadata": {
        "colab": {
          "base_uri": "https://localhost:8080/",
          "height": 226
        },
        "id": "7eUqMzydg-VR",
        "outputId": "1c7bc919-9789-4933-9476-19eee9a386ad"
      },
      "outputs": [
        {
          "data": {
            "text/html": [
              "<div>\n",
              "<style scoped>\n",
              "    .dataframe tbody tr th:only-of-type {\n",
              "        vertical-align: middle;\n",
              "    }\n",
              "\n",
              "    .dataframe tbody tr th {\n",
              "        vertical-align: top;\n",
              "    }\n",
              "\n",
              "    .dataframe thead th {\n",
              "        text-align: right;\n",
              "    }\n",
              "</style>\n",
              "<table border=\"1\" class=\"dataframe\">\n",
              "  <thead>\n",
              "    <tr style=\"text-align: right;\">\n",
              "      <th></th>\n",
              "      <th>dia_semana</th>\n",
              "      <th>tipo_acidente</th>\n",
              "      <th>fase_dia</th>\n",
              "      <th>condicao_metereologica</th>\n",
              "      <th>tipo_pista</th>\n",
              "      <th>tracado_via</th>\n",
              "      <th>uso_solo</th>\n",
              "      <th>acidente_fatal</th>\n",
              "    </tr>\n",
              "  </thead>\n",
              "  <tbody>\n",
              "    <tr>\n",
              "      <th>0</th>\n",
              "      <td>quarta</td>\n",
              "      <td>saída de pista</td>\n",
              "      <td>Tarde</td>\n",
              "      <td>Condições Favoráveis</td>\n",
              "      <td>dupla</td>\n",
              "      <td>curva</td>\n",
              "      <td>urbano</td>\n",
              "      <td>1</td>\n",
              "    </tr>\n",
              "    <tr>\n",
              "      <th>1</th>\n",
              "      <td>quarta</td>\n",
              "      <td>colisão</td>\n",
              "      <td>Manhã</td>\n",
              "      <td>Condições Favoráveis</td>\n",
              "      <td>simples</td>\n",
              "      <td>curva</td>\n",
              "      <td>urbano</td>\n",
              "      <td>0</td>\n",
              "    </tr>\n",
              "    <tr>\n",
              "      <th>2</th>\n",
              "      <td>quarta</td>\n",
              "      <td>colisão</td>\n",
              "      <td>Noite</td>\n",
              "      <td>Condições Favoráveis</td>\n",
              "      <td>simples</td>\n",
              "      <td>curva</td>\n",
              "      <td>rural</td>\n",
              "      <td>0</td>\n",
              "    </tr>\n",
              "    <tr>\n",
              "      <th>3</th>\n",
              "      <td>quarta</td>\n",
              "      <td>colisão</td>\n",
              "      <td>Tarde</td>\n",
              "      <td>Condições Favoráveis</td>\n",
              "      <td>simples</td>\n",
              "      <td>reta</td>\n",
              "      <td>rural</td>\n",
              "      <td>0</td>\n",
              "    </tr>\n",
              "    <tr>\n",
              "      <th>4</th>\n",
              "      <td>quarta</td>\n",
              "      <td>atropelamento de animal</td>\n",
              "      <td>Manhã</td>\n",
              "      <td>Condições Favoráveis</td>\n",
              "      <td>simples</td>\n",
              "      <td>reta</td>\n",
              "      <td>rural</td>\n",
              "      <td>0</td>\n",
              "    </tr>\n",
              "  </tbody>\n",
              "</table>\n",
              "</div>"
            ],
            "text/plain": [
              "  dia_semana            tipo_acidente fase_dia condicao_metereologica  \\\n",
              "0     quarta           saída de pista    Tarde   Condições Favoráveis   \n",
              "1     quarta                  colisão    Manhã   Condições Favoráveis   \n",
              "2     quarta                  colisão    Noite   Condições Favoráveis   \n",
              "3     quarta                  colisão    Tarde   Condições Favoráveis   \n",
              "4     quarta  atropelamento de animal    Manhã   Condições Favoráveis   \n",
              "\n",
              "  tipo_pista tracado_via uso_solo  acidente_fatal  \n",
              "0      dupla       curva   urbano               1  \n",
              "1    simples       curva   urbano               0  \n",
              "2    simples       curva    rural               0  \n",
              "3    simples        reta    rural               0  \n",
              "4    simples        reta    rural               0  "
            ]
          },
          "execution_count": 343,
          "metadata": {},
          "output_type": "execute_result"
        }
      ],
      "source": [
        "df = df[['dia_semana', 'tipo_acidente', 'fase_dia', 'condicao_metereologica', 'tipo_pista', 'tracado_via', 'uso_solo', 'acidente_fatal']]\n",
        "df = df.reset_index(drop=True)\n",
        "df.head()"
      ]
    },
    {
      "cell_type": "markdown",
      "metadata": {
        "id": "RDkZ9XkjuTHb"
      },
      "source": [
        "## Visualização dos dados"
      ]
    },
    {
      "cell_type": "code",
      "execution_count": 344,
      "metadata": {
        "colab": {
          "base_uri": "https://localhost:8080/"
        },
        "id": "lv7_ASvsub_N",
        "outputId": "d077c3e8-2c99-4831-cf88-799087389306"
      },
      "outputs": [
        {
          "data": {
            "text/plain": [
              "(4061, 8)"
            ]
          },
          "execution_count": 344,
          "metadata": {},
          "output_type": "execute_result"
        }
      ],
      "source": [
        "df.shape"
      ]
    },
    {
      "cell_type": "code",
      "execution_count": 346,
      "metadata": {},
      "outputs": [
        {
          "data": {
            "text/plain": [
              "acidente_fatal\n",
              "0    3049\n",
              "1    1012\n",
              "Name: count, dtype: int64"
            ]
          },
          "execution_count": 346,
          "metadata": {},
          "output_type": "execute_result"
        }
      ],
      "source": [
        "df['acidente_fatal'].value_counts()"
      ]
    },
    {
      "cell_type": "code",
      "execution_count": 345,
      "metadata": {},
      "outputs": [
        {
          "data": {
            "text/plain": [
              "acidente_fatal\n",
              "0    0.7508\n",
              "1    0.2492\n",
              "Name: proportion, dtype: float64"
            ]
          },
          "execution_count": 345,
          "metadata": {},
          "output_type": "execute_result"
        }
      ],
      "source": [
        "df['acidente_fatal'].value_counts(normalize = True)"
      ]
    },
    {
      "cell_type": "code",
      "execution_count": 347,
      "metadata": {
        "colab": {
          "base_uri": "https://localhost:8080/",
          "height": 492
        },
        "id": "f9TKZ4vpuhsD",
        "outputId": "5c0567ac-46cf-4afb-929a-5234e9a85552"
      },
      "outputs": [
        {
          "data": {
            "image/png": "[encoded data removed]",
            "text/plain": [
              "<Figure size 800x550 with 1 Axes>"
            ]
          },
          "metadata": {},
          "output_type": "display_data"
        }
      ],
      "source": [
        "sns.countplot(x = df['acidente_fatal']);"
      ]
    },
    {
      "cell_type": "markdown",
      "metadata": {
        "id": "17R8qTZyusDd"
      },
      "source": [
        "## Divisão features e target"
      ]
    },
    {
      "cell_type": "code",
      "execution_count": 348,
      "metadata": {
        "id": "0ShAkccUgxsW"
      },
      "outputs": [],
      "source": [
        "x = df.iloc[:, :7].values\n",
        "y = df.iloc[:, -1].values"
      ]
    },
    {
      "cell_type": "code",
      "execution_count": 349,
      "metadata": {
        "colab": {
          "base_uri": "https://localhost:8080/"
        },
        "id": "4PyNiElqu5eI",
        "outputId": "e1be14d2-26ff-4f11-800f-923a65134f89"
      },
      "outputs": [
        {
          "data": {
            "text/plain": [
              "((4061, 7), (4061,))"
            ]
          },
          "execution_count": 349,
          "metadata": {},
          "output_type": "execute_result"
        }
      ],
      "source": [
        "x.shape, y.shape"
      ]
    },
    {
      "cell_type": "markdown",
      "metadata": {
        "id": "hR9MlvwtvdBp"
      },
      "source": [
        "## Tratamento de atributos categóricos"
      ]
    },
    {
      "cell_type": "markdown",
      "metadata": {
        "id": "8guiXFpzviVq"
      },
      "source": [
        "### LabelEncoder"
      ]
    },
    {
      "cell_type": "code",
      "execution_count": 350,
      "metadata": {
        "colab": {
          "base_uri": "https://localhost:8080/"
        },
        "id": "p3uGG_UIvZWF",
        "outputId": "abc51471-557f-442b-9b8a-0f671bfa313d"
      },
      "outputs": [
        {
          "data": {
            "text/plain": [
              "array(['quarta', 'saída de pista', 'Tarde', 'Condições Favoráveis',\n",
              "       'dupla', 'curva', 'urbano'], dtype=object)"
            ]
          },
          "execution_count": 350,
          "metadata": {},
          "output_type": "execute_result"
        }
      ],
      "source": [
        "x[0]"
      ]
    },
    {
      "cell_type": "code",
      "execution_count": 351,
      "metadata": {
        "colab": {
          "base_uri": "https://localhost:8080/"
        },
        "id": "JcmoIuTMvZON",
        "outputId": "4da26252-d640-42d1-9242-fb44606c3241"
      },
      "outputs": [
        {
          "data": {
            "text/plain": [
              "Index(['dia_semana', 'tipo_acidente', 'fase_dia', 'condicao_metereologica',\n",
              "       'tipo_pista', 'tracado_via', 'uso_solo', 'acidente_fatal'],\n",
              "      dtype='object')"
            ]
          },
          "execution_count": 351,
          "metadata": {},
          "output_type": "execute_result"
        }
      ],
      "source": [
        "df.columns"
      ]
    },
    {
      "cell_type": "code",
      "execution_count": 352,
      "metadata": {
        "id": "r-DN2RUKvZTd"
      },
      "outputs": [],
      "source": [
        "label_encoder_dia_semana = LabelEncoder()\n",
        "label_encoder_tipo_acidente = LabelEncoder()\n",
        "label_encoder_fase_dia = LabelEncoder()\n",
        "label_encoder_condicao_metereologica = LabelEncoder()\n",
        "label_encoder_tipo_pista = LabelEncoder()\n",
        "label_encoder_tracado_via = LabelEncoder()\n",
        "label_encoder_uso_solo = LabelEncoder()"
      ]
    },
    {
      "cell_type": "code",
      "execution_count": 353,
      "metadata": {
        "id": "TgX4rMVxy0eg"
      },
      "outputs": [],
      "source": [
        "x[:, 0] = label_encoder_dia_semana.fit_transform(x[:, 0])\n",
        "x[:, 1] = label_encoder_tipo_acidente.fit_transform(x[:, 1])\n",
        "x[:, 2] = label_encoder_fase_dia.fit_transform(x[:, 2])\n",
        "x[:, 3] = label_encoder_condicao_metereologica.fit_transform(x[:, 3])\n",
        "x[:, 4] = label_encoder_tipo_pista.fit_transform(x[:, 4])\n",
        "x[:, 5] = label_encoder_tracado_via.fit_transform(x[:, 5])\n",
        "x[:, 6] = label_encoder_uso_solo.fit_transform(x[:, 6])"
      ]
    },
    {
      "cell_type": "code",
      "execution_count": 354,
      "metadata": {
        "colab": {
          "base_uri": "https://localhost:8080/"
        },
        "id": "wBVwrUfj1c13",
        "outputId": "b1afe584-e580-4867-a6f6-fba2d54dbbf7"
      },
      "outputs": [
        {
          "data": {
            "text/plain": [
              "array([1, 7, 3, 1, 0, 1, 3], dtype=object)"
            ]
          },
          "execution_count": 354,
          "metadata": {},
          "output_type": "execute_result"
        }
      ],
      "source": [
        "x[0]"
      ]
    },
    {
      "cell_type": "code",
      "execution_count": 355,
      "metadata": {
        "colab": {
          "base_uri": "https://localhost:8080/"
        },
        "id": "i0c_bjSz1fWo",
        "outputId": "83cd43a3-a725-400e-d2aa-8e6b64a9b006"
      },
      "outputs": [
        {
          "data": {
            "text/plain": [
              "array([[1, 7, 3, ..., 0, 1, 3],\n",
              "       [1, 3, 1, ..., 2, 1, 3],\n",
              "       [1, 3, 2, ..., 2, 1, 1],\n",
              "       ...,\n",
              "       [5, 3, 3, ..., 0, 4, 0],\n",
              "       [5, 7, 1, ..., 2, 4, 0],\n",
              "       [5, 1, 3, ..., 1, 6, 2]], dtype=object)"
            ]
          },
          "execution_count": 355,
          "metadata": {},
          "output_type": "execute_result"
        }
      ],
      "source": [
        "x"
      ]
    },
    {
      "cell_type": "markdown",
      "metadata": {
        "id": "yxVndRlV1u11"
      },
      "source": [
        "### OneHotEncoder"
      ]
    },
    {
      "cell_type": "code",
      "execution_count": 356,
      "metadata": {
        "id": "0keKIpeT1oPj"
      },
      "outputs": [],
      "source": [
        "onehotencoder_x = ColumnTransformer(transformers = [('OneHot', OneHotEncoder(), [0, 1, 2, 3, 4, 5, 6])], remainder = 'passthrough')"
      ]
    },
    {
      "cell_type": "code",
      "execution_count": 357,
      "metadata": {
        "colab": {
          "base_uri": "https://localhost:8080/"
        },
        "id": "9UjtQnHV5UOd",
        "outputId": "925be395-2fd0-474a-d5fa-747748d87f02"
      },
      "outputs": [
        {
          "data": {
            "text/plain": [
              "array([[0., 1., 0., ..., 0., 0., 1.],\n",
              "       [0., 1., 0., ..., 0., 0., 1.],\n",
              "       [0., 1., 0., ..., 1., 0., 0.],\n",
              "       ...,\n",
              "       [0., 0., 0., ..., 0., 0., 0.],\n",
              "       [0., 0., 0., ..., 0., 0., 0.],\n",
              "       [0., 0., 0., ..., 0., 1., 0.]])"
            ]
          },
          "execution_count": 357,
          "metadata": {},
          "output_type": "execute_result"
        }
      ],
      "source": [
        "x = onehotencoder_x.fit_transform(x).toarray()\n",
        "x"
      ]
    },
    {
      "cell_type": "code",
      "execution_count": 358,
      "metadata": {
        "colab": {
          "base_uri": "https://localhost:8080/"
        },
        "id": "8Su2Q45i5UMA",
        "outputId": "631d6cf9-0139-4f82-df20-c526a3ce0ae6"
      },
      "outputs": [
        {
          "data": {
            "text/plain": [
              "(4061, 40)"
            ]
          },
          "execution_count": 358,
          "metadata": {},
          "output_type": "execute_result"
        }
      ],
      "source": [
        "x.shape"
      ]
    },
    {
      "cell_type": "markdown",
      "metadata": {
        "id": "pfxWFX_H6xev"
      },
      "source": [
        "## Escalonamento dos valores"
      ]
    },
    {
      "cell_type": "code",
      "execution_count": 359,
      "metadata": {
        "id": "UJzFbNU35UJY"
      },
      "outputs": [],
      "source": [
        "# Não foi necessário mas caso adicione a coluna de feridos será necessário\n",
        "# scaler_x = StandardScaler()\n",
        "# x = scaler_x.fit_transform(x)"
      ]
    },
    {
      "cell_type": "markdown",
      "metadata": {
        "id": "KsLkgQ8J6-8M"
      },
      "source": [
        "## Divisão das bases em treinamento e teste"
      ]
    },
    {
      "cell_type": "code",
      "execution_count": 360,
      "metadata": {
        "id": "tF5S7xBO5UG_"
      },
      "outputs": [],
      "source": [
        "x_train, x_test, y_train, y_test = train_test_split(x, y, test_size = 0.2, random_state = 0)"
      ]
    },
    {
      "cell_type": "code",
      "execution_count": 361,
      "metadata": {
        "colab": {
          "base_uri": "https://localhost:8080/"
        },
        "id": "aSzC6ICm7RqD",
        "outputId": "53788360-c34b-42a7-f0cc-3f36ef57de2d"
      },
      "outputs": [
        {
          "data": {
            "text/plain": [
              "((3248, 40), (3248,))"
            ]
          },
          "execution_count": 361,
          "metadata": {},
          "output_type": "execute_result"
        }
      ],
      "source": [
        "x_train.shape, y_train.shape"
      ]
    },
    {
      "cell_type": "code",
      "execution_count": 362,
      "metadata": {
        "colab": {
          "base_uri": "https://localhost:8080/"
        },
        "id": "Okb5IuPn7US-",
        "outputId": "d4031f90-94f9-448b-df17-0e52d4f3ef2e"
      },
      "outputs": [
        {
          "data": {
            "text/plain": [
              "((813, 40), (813,))"
            ]
          },
          "execution_count": 362,
          "metadata": {},
          "output_type": "execute_result"
        }
      ],
      "source": [
        "x_test.shape, y_test.shape"
      ]
    },
    {
      "cell_type": "markdown",
      "metadata": {
        "id": "ctuy3OiI7bJg"
      },
      "source": [
        "## Modelos"
      ]
    },
    {
      "cell_type": "markdown",
      "metadata": {
        "id": "yXbGBEtT8Kpp"
      },
      "source": [
        "### Árvores de decisão"
      ]
    },
    {
      "cell_type": "code",
      "execution_count": 368,
      "metadata": {
        "id": "3mps6Nmx8BWc"
      },
      "outputs": [],
      "source": [
        "arvore_modelo = DecisionTreeClassifier(criterion = 'entropy')\n",
        "arvore_modelo.fit(x_train, y_train)\n",
        "previsoes = arvore_modelo.predict(x_test)"
      ]
    },
    {
      "cell_type": "code",
      "execution_count": 369,
      "metadata": {
        "colab": {
          "base_uri": "https://localhost:8080/"
        },
        "id": "WNu9RqSY8Wu4",
        "outputId": "553fbbbf-512e-42bc-c06a-505a450ba716"
      },
      "outputs": [
        {
          "data": {
            "text/plain": [
              "0.7084870848708487"
            ]
          },
          "execution_count": 369,
          "metadata": {},
          "output_type": "execute_result"
        }
      ],
      "source": [
        "accuracy_score(y_test, previsoes)"
      ]
    },
    {
      "cell_type": "code",
      "execution_count": 370,
      "metadata": {
        "colab": {
          "base_uri": "https://localhost:8080/",
          "height": 497
        },
        "id": "zoNv3unR8Z5K",
        "outputId": "e6252909-ea29-4d30-e17c-df683510b45e"
      },
      "outputs": [
        {
          "data": {
            "text/plain": [
              "0.7084870848708487"
            ]
          },
          "execution_count": 370,
          "metadata": {},
          "output_type": "execute_result"
        },
        {
          "data": {
            "image/png": "[encoded data removed]",
            "text/plain": [
              "<Figure size 800x550 with 1 Axes>"
            ]
          },
          "metadata": {},
          "output_type": "display_data"
        }
      ],
      "source": [
        "cm = ConfusionMatrix(arvore_modelo)\n",
        "cm.fit(x_train, y_train)\n",
        "cm.score(x_test, y_test)"
      ]
    },
    {
      "cell_type": "code",
      "execution_count": 371,
      "metadata": {
        "colab": {
          "base_uri": "https://localhost:8080/"
        },
        "id": "Z5FzppuU8g1W",
        "outputId": "a14e54fa-5e3e-4aa4-de90-0ade8bd98f2a"
      },
      "outputs": [
        {
          "name": "stdout",
          "output_type": "stream",
          "text": [
            "              precision    recall  f1-score   support\n",
            "\n",
            "           0       0.77      0.87      0.82       612\n",
            "           1       0.36      0.23      0.28       201\n",
            "\n",
            "    accuracy                           0.71       813\n",
            "   macro avg       0.57      0.55      0.55       813\n",
            "weighted avg       0.67      0.71      0.68       813\n",
            "\n"
          ]
        }
      ],
      "source": [
        "print(classification_report(y_test, previsoes))"
      ]
    },
    {
      "cell_type": "markdown",
      "metadata": {
        "id": "81LACgMZ9AvC"
      },
      "source": [
        "### Random Forest"
      ]
    },
    {
      "cell_type": "code",
      "execution_count": 372,
      "metadata": {
        "id": "rvAFDR3c8yqv"
      },
      "outputs": [],
      "source": [
        "random_modelo = RandomForestClassifier(n_estimators = 100, criterion = 'entropy', class_weight = \"balanced\")\n",
        "random_modelo.fit(x_train, y_train)\n",
        "previsoes = random_modelo.predict(x_test)"
      ]
    },
    {
      "cell_type": "code",
      "execution_count": 373,
      "metadata": {
        "colab": {
          "base_uri": "https://localhost:8080/"
        },
        "id": "pnNDHC3F9Msm",
        "outputId": "c5f2b683-8ceb-4a5d-90c2-7046e155aa8d"
      },
      "outputs": [
        {
          "data": {
            "text/plain": [
              "0.6752767527675276"
            ]
          },
          "execution_count": 373,
          "metadata": {},
          "output_type": "execute_result"
        }
      ],
      "source": [
        "accuracy_score(y_test, previsoes)"
      ]
    },
    {
      "cell_type": "code",
      "execution_count": 374,
      "metadata": {
        "colab": {
          "base_uri": "https://localhost:8080/",
          "height": 497
        },
        "id": "xck5Fb959O4I",
        "outputId": "eb32b2f8-ba12-463a-b156-04624c024996"
      },
      "outputs": [
        {
          "data": {
            "text/plain": [
              "0.6752767527675276"
            ]
          },
          "execution_count": 374,
          "metadata": {},
          "output_type": "execute_result"
        },
        {
          "data": {
            "image/png": "[encoded data removed]",
            "text/plain": [
              "<Figure size 800x550 with 1 Axes>"
            ]
          },
          "metadata": {},
          "output_type": "display_data"
        }
      ],
      "source": [
        "cm = ConfusionMatrix(random_modelo)\n",
        "cm.fit(x_train, y_train)\n",
        "cm.score(x_test, y_test)"
      ]
    },
    {
      "cell_type": "code",
      "execution_count": 375,
      "metadata": {
        "colab": {
          "base_uri": "https://localhost:8080/"
        },
        "id": "Kz3Ssa8D9WA0",
        "outputId": "6ca6ac24-b4ce-48a7-ac45-e2451c51c1ec"
      },
      "outputs": [
        {
          "name": "stdout",
          "output_type": "stream",
          "text": [
            "              precision    recall  f1-score   support\n",
            "\n",
            "           0       0.80      0.76      0.78       612\n",
            "           1       0.36      0.42      0.39       201\n",
            "\n",
            "    accuracy                           0.68       813\n",
            "   macro avg       0.58      0.59      0.59       813\n",
            "weighted avg       0.69      0.68      0.68       813\n",
            "\n"
          ]
        }
      ],
      "source": [
        "print(classification_report(y_test, previsoes))"
      ]
    },
    {
      "cell_type": "markdown",
      "metadata": {
        "id": "p9FjBQbW9t6K"
      },
      "source": [
        "### K-Nearest Neighbour (KNN)"
      ]
    },
    {
      "cell_type": "code",
      "execution_count": 404,
      "metadata": {
        "id": "mmvNeXD49aHV"
      },
      "outputs": [],
      "source": [
        "knn_modelo = KNeighborsClassifier(n_neighbors = 10)\n",
        "knn_modelo.fit(x_train, y_train)\n",
        "previsoes = knn_modelo.predict(x_test)"
      ]
    },
    {
      "cell_type": "code",
      "execution_count": 405,
      "metadata": {
        "colab": {
          "base_uri": "https://localhost:8080/"
        },
        "id": "UVgjH6za_f3w",
        "outputId": "f6935282-fab6-4696-f284-378411e7def6"
      },
      "outputs": [
        {
          "data": {
            "text/plain": [
              "0.7589175891758918"
            ]
          },
          "execution_count": 405,
          "metadata": {},
          "output_type": "execute_result"
        }
      ],
      "source": [
        "accuracy_score(y_test, previsoes)"
      ]
    },
    {
      "cell_type": "code",
      "execution_count": 406,
      "metadata": {
        "colab": {
          "base_uri": "https://localhost:8080/",
          "height": 497
        },
        "id": "ZFS6EzHH_huY",
        "outputId": "cea28760-8759-4f4a-b5a5-d15f5686ddb2"
      },
      "outputs": [
        {
          "data": {
            "text/plain": [
              "0.7589175891758918"
            ]
          },
          "execution_count": 406,
          "metadata": {},
          "output_type": "execute_result"
        },
        {
          "data": {
            "image/png": "[encoded data removed]",
            "text/plain": [
              "<Figure size 800x550 with 1 Axes>"
            ]
          },
          "metadata": {},
          "output_type": "display_data"
        }
      ],
      "source": [
        "cm = ConfusionMatrix(knn_modelo)\n",
        "cm.fit(x_train, y_train)\n",
        "cm.score(x_test, y_test)"
      ]
    },
    {
      "cell_type": "code",
      "execution_count": 407,
      "metadata": {
        "colab": {
          "base_uri": "https://localhost:8080/"
        },
        "id": "pSI8H3pr_nx0",
        "outputId": "5bbb2fad-4620-41cb-aed9-70ccbe9f2de7"
      },
      "outputs": [
        {
          "name": "stdout",
          "output_type": "stream",
          "text": [
            "              precision    recall  f1-score   support\n",
            "\n",
            "           0       0.77      0.96      0.86       612\n",
            "           1       0.55      0.14      0.23       201\n",
            "\n",
            "    accuracy                           0.76       813\n",
            "   macro avg       0.66      0.55      0.54       813\n",
            "weighted avg       0.72      0.76      0.70       813\n",
            "\n"
          ]
        }
      ],
      "source": [
        "print(classification_report(y_test, previsoes))"
      ]
    },
    {
      "cell_type": "markdown",
      "metadata": {
        "id": "wqIenLVOAA_J"
      },
      "source": [
        "### Regressão logística"
      ]
    },
    {
      "cell_type": "code",
      "execution_count": 380,
      "metadata": {
        "id": "MK-uoigY_-4x"
      },
      "outputs": [],
      "source": [
        "logistic_modelo = LogisticRegression()\n",
        "logistic_modelo.fit(x_train, y_train)\n",
        "previsoes = logistic_modelo.predict(x_test)"
      ]
    },
    {
      "cell_type": "code",
      "execution_count": 381,
      "metadata": {
        "colab": {
          "base_uri": "https://localhost:8080/"
        },
        "id": "p8WXN6m-ASoz",
        "outputId": "3f5f18cc-a3ab-46cb-f00c-78f87194e94a"
      },
      "outputs": [
        {
          "data": {
            "text/plain": [
              "0.7650676506765067"
            ]
          },
          "execution_count": 381,
          "metadata": {},
          "output_type": "execute_result"
        }
      ],
      "source": [
        "accuracy_score(y_test, previsoes)"
      ]
    },
    {
      "cell_type": "code",
      "execution_count": 382,
      "metadata": {
        "colab": {
          "base_uri": "https://localhost:8080/",
          "height": 497
        },
        "id": "kJwy-vZgAUmM",
        "outputId": "40544250-7f21-4ba0-f71a-a199892d2089"
      },
      "outputs": [
        {
          "data": {
            "text/plain": [
              "0.7650676506765067"
            ]
          },
          "execution_count": 382,
          "metadata": {},
          "output_type": "execute_result"
        },
        {
          "data": {
            "image/png": "[encoded data removed]",
            "text/plain": [
              "<Figure size 800x550 with 1 Axes>"
            ]
          },
          "metadata": {},
          "output_type": "display_data"
        }
      ],
      "source": [
        "cm = ConfusionMatrix(logistic_modelo)\n",
        "cm.fit(x_train, y_train)\n",
        "cm.score(x_test, y_test)"
      ]
    },
    {
      "cell_type": "code",
      "execution_count": 383,
      "metadata": {
        "colab": {
          "base_uri": "https://localhost:8080/"
        },
        "id": "ABoH_mnTAaWA",
        "outputId": "b2475d89-6064-49c3-939d-a483123828dc"
      },
      "outputs": [
        {
          "name": "stdout",
          "output_type": "stream",
          "text": [
            "              precision    recall  f1-score   support\n",
            "\n",
            "           0       0.77      0.98      0.86       612\n",
            "           1       0.64      0.11      0.19       201\n",
            "\n",
            "    accuracy                           0.77       813\n",
            "   macro avg       0.70      0.55      0.53       813\n",
            "weighted avg       0.74      0.77      0.70       813\n",
            "\n"
          ]
        }
      ],
      "source": [
        "print(classification_report(y_test, previsoes))"
      ]
    },
    {
      "cell_type": "markdown",
      "metadata": {
        "id": "nCKXRp6CAkUz"
      },
      "source": [
        "### SVM (support vector machines)"
      ]
    },
    {
      "cell_type": "code",
      "execution_count": 384,
      "metadata": {
        "id": "odTVSQvCAeBJ"
      },
      "outputs": [],
      "source": [
        "svm_modelo = SVC(kernel = 'sigmoid')\n",
        "svm_modelo.fit(x_train, y_train)\n",
        "previsoes = svm_modelo.predict(x_test)"
      ]
    },
    {
      "cell_type": "code",
      "execution_count": 385,
      "metadata": {
        "colab": {
          "base_uri": "https://localhost:8080/"
        },
        "id": "kS5GuNkqBgFm",
        "outputId": "1f23e673-5892-4618-d81d-55af4bd1af09"
      },
      "outputs": [
        {
          "data": {
            "text/plain": [
              "0.6678966789667896"
            ]
          },
          "execution_count": 385,
          "metadata": {},
          "output_type": "execute_result"
        }
      ],
      "source": [
        "accuracy_score(y_test, previsoes)"
      ]
    },
    {
      "cell_type": "code",
      "execution_count": 386,
      "metadata": {
        "colab": {
          "base_uri": "https://localhost:8080/",
          "height": 497
        },
        "id": "hucz4TpZBip3",
        "outputId": "165800ef-8c44-47c8-a44b-c0a73c4f1ef6"
      },
      "outputs": [
        {
          "data": {
            "text/plain": [
              "0.6678966789667896"
            ]
          },
          "execution_count": 386,
          "metadata": {},
          "output_type": "execute_result"
        },
        {
          "data": {
            "image/png": "[encoded data removed]",
            "text/plain": [
              "<Figure size 800x550 with 1 Axes>"
            ]
          },
          "metadata": {},
          "output_type": "display_data"
        }
      ],
      "source": [
        "cm = ConfusionMatrix(svm_modelo)\n",
        "cm.fit(x_train, y_train)\n",
        "cm.score(x_test, y_test)"
      ]
    },
    {
      "cell_type": "code",
      "execution_count": 387,
      "metadata": {
        "colab": {
          "base_uri": "https://localhost:8080/"
        },
        "id": "3ccWtUOMBoZj",
        "outputId": "962fde2a-6d32-41cb-dd9e-dd7076041ccf"
      },
      "outputs": [
        {
          "name": "stdout",
          "output_type": "stream",
          "text": [
            "              precision    recall  f1-score   support\n",
            "\n",
            "           0       0.78      0.78      0.78       612\n",
            "           1       0.33      0.33      0.33       201\n",
            "\n",
            "    accuracy                           0.67       813\n",
            "   macro avg       0.55      0.55      0.55       813\n",
            "weighted avg       0.67      0.67      0.67       813\n",
            "\n"
          ]
        }
      ],
      "source": [
        "print(classification_report(y_test, previsoes))"
      ]
    },
    {
      "cell_type": "markdown",
      "metadata": {
        "id": "D_zYqQg9CP0f"
      },
      "source": [
        "### Redes neurais artificiais"
      ]
    },
    {
      "cell_type": "code",
      "execution_count": 388,
      "metadata": {
        "colab": {
          "base_uri": "https://localhost:8080/"
        },
        "id": "eP0FV-cJBsGF",
        "outputId": "7dcf7b08-f99f-44c0-8ac6-b50ba66ec69f"
      },
      "outputs": [
        {
          "data": {
            "text/plain": [
              "4.0"
            ]
          },
          "execution_count": 388,
          "metadata": {},
          "output_type": "execute_result"
        }
      ],
      "source": [
        "# neuronios\n",
        "(7 + 1) / 2"
      ]
    },
    {
      "cell_type": "code",
      "execution_count": 396,
      "metadata": {
        "colab": {
          "base_uri": "https://localhost:8080/",
          "height": 1000
        },
        "id": "-sJtkqjjCa14",
        "outputId": "83228d24-443a-46b4-874c-0d97b545cca5"
      },
      "outputs": [
        {
          "name": "stdout",
          "output_type": "stream",
          "text": [
            "Iteration 1, loss = 0.56137083\n",
            "Iteration 2, loss = 0.53748004\n",
            "Iteration 3, loss = 0.52539868\n",
            "Iteration 4, loss = 0.51865186\n",
            "Iteration 5, loss = 0.51593460\n",
            "Iteration 6, loss = 0.51082437\n",
            "Iteration 7, loss = 0.50841812\n",
            "Iteration 8, loss = 0.50712649\n",
            "Iteration 9, loss = 0.50303113\n",
            "Iteration 10, loss = 0.50104147\n",
            "Iteration 11, loss = 0.50089213\n",
            "Iteration 12, loss = 0.49639282\n",
            "Iteration 13, loss = 0.49374910\n",
            "Iteration 14, loss = 0.49046593\n",
            "Iteration 15, loss = 0.48936520\n",
            "Iteration 16, loss = 0.48573468\n",
            "Iteration 17, loss = 0.48366882\n",
            "Iteration 18, loss = 0.48619352\n",
            "Iteration 19, loss = 0.48313248\n",
            "Iteration 20, loss = 0.47549164\n",
            "Iteration 21, loss = 0.47340947\n",
            "Iteration 22, loss = 0.47069070\n",
            "Iteration 23, loss = 0.46833979\n",
            "Iteration 24, loss = 0.46668302\n",
            "Iteration 25, loss = 0.46452605\n",
            "Iteration 26, loss = 0.46263417\n",
            "Iteration 27, loss = 0.45805561\n",
            "Iteration 28, loss = 0.45607110\n",
            "Iteration 29, loss = 0.45253826\n",
            "Iteration 30, loss = 0.45020406\n",
            "Iteration 31, loss = 0.44857927\n",
            "Iteration 32, loss = 0.44482325\n",
            "Iteration 33, loss = 0.44205345\n",
            "Iteration 34, loss = 0.44095825\n",
            "Iteration 35, loss = 0.43956140\n",
            "Iteration 36, loss = 0.43631361\n",
            "Iteration 37, loss = 0.43209045\n",
            "Iteration 38, loss = 0.43245248\n",
            "Iteration 39, loss = 0.42791357\n",
            "Iteration 40, loss = 0.42784857\n",
            "Iteration 41, loss = 0.42501098\n",
            "Iteration 42, loss = 0.42459228\n",
            "Iteration 43, loss = 0.42232325\n",
            "Iteration 44, loss = 0.41826770\n",
            "Iteration 45, loss = 0.41451112\n",
            "Iteration 46, loss = 0.41475151\n",
            "Iteration 47, loss = 0.41918639\n",
            "Iteration 48, loss = 0.41051323\n",
            "Iteration 49, loss = 0.40793756\n",
            "Iteration 50, loss = 0.40628897\n",
            "Iteration 51, loss = 0.40379657\n",
            "Iteration 52, loss = 0.40133744\n",
            "Iteration 53, loss = 0.39962036\n",
            "Iteration 54, loss = 0.40073537\n",
            "Iteration 55, loss = 0.40000932\n",
            "Iteration 56, loss = 0.39453718\n",
            "Iteration 57, loss = 0.39404092\n",
            "Iteration 58, loss = 0.39652101\n",
            "Iteration 59, loss = 0.38988720\n",
            "Iteration 60, loss = 0.38747541\n",
            "Iteration 61, loss = 0.38992578\n",
            "Iteration 62, loss = 0.38886460\n",
            "Iteration 63, loss = 0.38875240\n",
            "Iteration 64, loss = 0.38327732\n",
            "Iteration 65, loss = 0.38173736\n",
            "Iteration 66, loss = 0.37822162\n",
            "Iteration 67, loss = 0.37708231\n",
            "Iteration 68, loss = 0.37703745\n",
            "Iteration 69, loss = 0.38043281\n",
            "Iteration 70, loss = 0.37222594\n",
            "Iteration 71, loss = 0.37109411\n",
            "Iteration 72, loss = 0.37005192\n",
            "Iteration 73, loss = 0.36946271\n",
            "Iteration 74, loss = 0.36881287\n",
            "Iteration 75, loss = 0.36830445\n",
            "Iteration 76, loss = 0.36945156\n",
            "Iteration 77, loss = 0.36610769\n",
            "Iteration 78, loss = 0.36754383\n",
            "Iteration 79, loss = 0.36319924\n",
            "Iteration 80, loss = 0.36046478\n",
            "Iteration 81, loss = 0.35895242\n",
            "Iteration 82, loss = 0.35732410\n",
            "Iteration 83, loss = 0.36737671\n",
            "Iteration 84, loss = 0.35977264\n",
            "Iteration 85, loss = 0.35410476\n",
            "Iteration 86, loss = 0.35678968\n",
            "Iteration 87, loss = 0.35467925\n",
            "Iteration 88, loss = 0.35584246\n",
            "Iteration 89, loss = 0.35766585\n",
            "Iteration 90, loss = 0.34884666\n",
            "Iteration 91, loss = 0.35760274\n",
            "Iteration 92, loss = 0.35089327\n",
            "Iteration 93, loss = 0.34973260\n",
            "Iteration 94, loss = 0.34666557\n",
            "Iteration 95, loss = 0.34612433\n",
            "Iteration 96, loss = 0.34556342\n",
            "Iteration 97, loss = 0.34510298\n",
            "Iteration 98, loss = 0.34341439\n",
            "Iteration 99, loss = 0.34043713\n",
            "Iteration 100, loss = 0.34313221\n",
            "Iteration 101, loss = 0.34211995\n",
            "Iteration 102, loss = 0.34240622\n",
            "Iteration 103, loss = 0.33981258\n",
            "Iteration 104, loss = 0.34085177\n",
            "Iteration 105, loss = 0.34211597\n",
            "Iteration 106, loss = 0.34245518\n",
            "Iteration 107, loss = 0.33896068\n",
            "Iteration 108, loss = 0.33577764\n",
            "Iteration 109, loss = 0.33739459\n",
            "Iteration 110, loss = 0.34373695\n",
            "Iteration 111, loss = 0.34214362\n",
            "Iteration 112, loss = 0.33793072\n",
            "Iteration 113, loss = 0.33532368\n",
            "Iteration 114, loss = 0.33548204\n",
            "Iteration 115, loss = 0.33201957\n",
            "Iteration 116, loss = 0.33037557\n",
            "Iteration 117, loss = 0.33309333\n",
            "Iteration 118, loss = 0.32856100\n",
            "Iteration 119, loss = 0.33444420\n",
            "Iteration 120, loss = 0.32931788\n",
            "Iteration 121, loss = 0.32760491\n",
            "Iteration 122, loss = 0.33004338\n",
            "Iteration 123, loss = 0.33404528\n",
            "Iteration 124, loss = 0.33783524\n",
            "Iteration 125, loss = 0.32754324\n",
            "Iteration 126, loss = 0.33240886\n",
            "Iteration 127, loss = 0.32759441\n",
            "Iteration 128, loss = 0.32994072\n",
            "Iteration 129, loss = 0.32460538\n",
            "Iteration 130, loss = 0.32315088\n",
            "Iteration 131, loss = 0.32123523\n",
            "Iteration 132, loss = 0.32996579\n",
            "Iteration 133, loss = 0.32992716\n",
            "Iteration 134, loss = 0.32625761\n",
            "Iteration 135, loss = 0.32286424\n",
            "Iteration 136, loss = 0.32319015\n",
            "Iteration 137, loss = 0.32385952\n",
            "Iteration 138, loss = 0.32303265\n",
            "Iteration 139, loss = 0.32025514\n",
            "Iteration 140, loss = 0.32431937\n",
            "Iteration 141, loss = 0.31962382\n",
            "Iteration 142, loss = 0.32623383\n",
            "Iteration 143, loss = 0.32318460\n",
            "Iteration 144, loss = 0.32081830\n",
            "Iteration 145, loss = 0.31901497\n",
            "Iteration 146, loss = 0.31473641\n",
            "Iteration 147, loss = 0.31730934\n",
            "Iteration 148, loss = 0.31904348\n",
            "Iteration 149, loss = 0.31726026\n",
            "Iteration 150, loss = 0.31810323\n",
            "Iteration 151, loss = 0.32053913\n",
            "Iteration 152, loss = 0.32167492\n",
            "Iteration 153, loss = 0.32010037\n",
            "Iteration 154, loss = 0.31948957\n",
            "Iteration 155, loss = 0.32031756\n",
            "Iteration 156, loss = 0.31683650\n",
            "Iteration 157, loss = 0.31314491\n",
            "Iteration 158, loss = 0.31595215\n",
            "Iteration 159, loss = 0.31623240\n",
            "Iteration 160, loss = 0.31502238\n",
            "Iteration 161, loss = 0.31275507\n",
            "Iteration 162, loss = 0.31169342\n",
            "Iteration 163, loss = 0.31476907\n",
            "Iteration 164, loss = 0.31265663\n",
            "Iteration 165, loss = 0.31273172\n",
            "Iteration 166, loss = 0.31301484\n",
            "Iteration 167, loss = 0.31395030\n",
            "Iteration 168, loss = 0.31433262\n",
            "Iteration 169, loss = 0.31509535\n",
            "Iteration 170, loss = 0.31190344\n",
            "Iteration 171, loss = 0.31599293\n",
            "Iteration 172, loss = 0.31684363\n",
            "Iteration 173, loss = 0.31827459\n",
            "Training loss did not improve more than tol=0.000010 for 10 consecutive epochs. Stopping.\n"
          ]
        },
        {
          "data": {
            "text/html": [
              "<style>#sk-container-id-4 {\n",
              "  /* Definition of color scheme common for light and dark mode */\n",
              "  --sklearn-color-text: black;\n",
              "  --sklearn-color-line: gray;\n",
              "  /* Definition of color scheme for unfitted estimators */\n",
              "  --sklearn-color-unfitted-level-0: #fff5e6;\n",
              "  --sklearn-color-unfitted-level-1: #f6e4d2;\n",
              "  --sklearn-color-unfitted-level-2: #ffe0b3;\n",
              "  --sklearn-color-unfitted-level-3: chocolate;\n",
              "  /* Definition of color scheme for fitted estimators */\n",
              "  --sklearn-color-fitted-level-0: #f0f8ff;\n",
              "  --sklearn-color-fitted-level-1: #d4ebff;\n",
              "  --sklearn-color-fitted-level-2: #b3dbfd;\n",
              "  --sklearn-color-fitted-level-3: cornflowerblue;\n",
              "\n",
              "  /* Specific color for light theme */\n",
              "  --sklearn-color-text-on-default-background: var(--sg-text-color, var(--theme-code-foreground, var(--jp-content-font-color1, black)));\n",
              "  --sklearn-color-background: var(--sg-background-color, var(--theme-background, var(--jp-layout-color0, white)));\n",
              "  --sklearn-color-border-box: var(--sg-text-color, var(--theme-code-foreground, var(--jp-content-font-color1, black)));\n",
              "  --sklearn-color-icon: #696969;\n",
              "\n",
              "  @media (prefers-color-scheme: dark) {\n",
              "    /* Redefinition of color scheme for dark theme */\n",
              "    --sklearn-color-text-on-default-background: var(--sg-text-color, var(--theme-code-foreground, var(--jp-content-font-color1, white)));\n",
              "    --sklearn-color-background: var(--sg-background-color, var(--theme-background, var(--jp-layout-color0, #111)));\n",
              "    --sklearn-color-border-box: var(--sg-text-color, var(--theme-code-foreground, var(--jp-content-font-color1, white)));\n",
              "    --sklearn-color-icon: #878787;\n",
              "  }\n",
              "}\n",
              "\n",
              "#sk-container-id-4 {\n",
              "  color: var(--sklearn-color-text);\n",
              "}\n",
              "\n",
              "#sk-container-id-4 pre {\n",
              "  padding: 0;\n",
              "}\n",
              "\n",
              "#sk-container-id-4 input.sk-hidden--visually {\n",
              "  border: 0;\n",
              "  clip: rect(1px 1px 1px 1px);\n",
              "  clip: rect(1px, 1px, 1px, 1px);\n",
              "  height: 1px;\n",
              "  margin: -1px;\n",
              "  overflow: hidden;\n",
              "  padding: 0;\n",
              "  position: absolute;\n",
              "  width: 1px;\n",
              "}\n",
              "\n",
              "#sk-container-id-4 div.sk-dashed-wrapped {\n",
              "  border: 1px dashed var(--sklearn-color-line);\n",
              "  margin: 0 0.4em 0.5em 0.4em;\n",
              "  box-sizing: border-box;\n",
              "  padding-bottom: 0.4em;\n",
              "  background-color: var(--sklearn-color-background);\n",
              "}\n",
              "\n",
              "#sk-container-id-4 div.sk-container {\n",
              "  /* jupyter's `normalize.less` sets `[hidden] { display: none; }`\n",
              "     but bootstrap.min.css set `[hidden] { display: none !important; }`\n",
              "     so we also need the `!important` here to be able to override the\n",
              "     default hidden behavior on the sphinx rendered scikit-learn.org.\n",
              "     See: https://github.com/scikit-learn/scikit-learn/issues/21755 */\n",
              "  display: inline-block !important;\n",
              "  position: relative;\n",
              "}\n",
              "\n",
              "#sk-container-id-4 div.sk-text-repr-fallback {\n",
              "  display: none;\n",
              "}\n",
              "\n",
              "div.sk-parallel-item,\n",
              "div.sk-serial,\n",
              "div.sk-item {\n",
              "  /* draw centered vertical line to link estimators */\n",
              "  background-image: linear-gradient(var(--sklearn-color-text-on-default-background), var(--sklearn-color-text-on-default-background));\n",
              "  background-size: 2px 100%;\n",
              "  background-repeat: no-repeat;\n",
              "  background-position: center center;\n",
              "}\n",
              "\n",
              "/* Parallel-specific style estimator block */\n",
              "\n",
              "#sk-container-id-4 div.sk-parallel-item::after {\n",
              "  content: \"\";\n",
              "  width: 100%;\n",
              "  border-bottom: 2px solid var(--sklearn-color-text-on-default-background);\n",
              "  flex-grow: 1;\n",
              "}\n",
              "\n",
              "#sk-container-id-4 div.sk-parallel {\n",
              "  display: flex;\n",
              "  align-items: stretch;\n",
              "  justify-content: center;\n",
              "  background-color: var(--sklearn-color-background);\n",
              "  position: relative;\n",
              "}\n",
              "\n",
              "#sk-container-id-4 div.sk-parallel-item {\n",
              "  display: flex;\n",
              "  flex-direction: column;\n",
              "}\n",
              "\n",
              "#sk-container-id-4 div.sk-parallel-item:first-child::after {\n",
              "  align-self: flex-end;\n",
              "  width: 50%;\n",
              "}\n",
              "\n",
              "#sk-container-id-4 div.sk-parallel-item:last-child::after {\n",
              "  align-self: flex-start;\n",
              "  width: 50%;\n",
              "}\n",
              "\n",
              "#sk-container-id-4 div.sk-parallel-item:only-child::after {\n",
              "  width: 0;\n",
              "}\n",
              "\n",
              "/* Serial-specific style estimator block */\n",
              "\n",
              "#sk-container-id-4 div.sk-serial {\n",
              "  display: flex;\n",
              "  flex-direction: column;\n",
              "  align-items: center;\n",
              "  background-color: var(--sklearn-color-background);\n",
              "  padding-right: 1em;\n",
              "  padding-left: 1em;\n",
              "}\n",
              "\n",
              "\n",
              "/* Toggleable style: style used for estimator/Pipeline/ColumnTransformer box that is\n",
              "clickable and can be expanded/collapsed.\n",
              "- Pipeline and ColumnTransformer use this feature and define the default style\n",
              "- Estimators will overwrite some part of the style using the `sk-estimator` class\n",
              "*/\n",
              "\n",
              "/* Pipeline and ColumnTransformer style (default) */\n",
              "\n",
              "#sk-container-id-4 div.sk-toggleable {\n",
              "  /* Default theme specific background. It is overwritten whether we have a\n",
              "  specific estimator or a Pipeline/ColumnTransformer */\n",
              "  background-color: var(--sklearn-color-background);\n",
              "}\n",
              "\n",
              "/* Toggleable label */\n",
              "#sk-container-id-4 label.sk-toggleable__label {\n",
              "  cursor: pointer;\n",
              "  display: block;\n",
              "  width: 100%;\n",
              "  margin-bottom: 0;\n",
              "  padding: 0.5em;\n",
              "  box-sizing: border-box;\n",
              "  text-align: center;\n",
              "}\n",
              "\n",
              "#sk-container-id-4 label.sk-toggleable__label-arrow:before {\n",
              "  /* Arrow on the left of the label */\n",
              "  content: \"▸\";\n",
              "  float: left;\n",
              "  margin-right: 0.25em;\n",
              "  color: var(--sklearn-color-icon);\n",
              "}\n",
              "\n",
              "#sk-container-id-4 label.sk-toggleable__label-arrow:hover:before {\n",
              "  color: var(--sklearn-color-text);\n",
              "}\n",
              "\n",
              "/* Toggleable content - dropdown */\n",
              "\n",
              "#sk-container-id-4 div.sk-toggleable__content {\n",
              "  max-height: 0;\n",
              "  max-width: 0;\n",
              "  overflow: hidden;\n",
              "  text-align: left;\n",
              "  /* unfitted */\n",
              "  background-color: var(--sklearn-color-unfitted-level-0);\n",
              "}\n",
              "\n",
              "#sk-container-id-4 div.sk-toggleable__content.fitted {\n",
              "  /* fitted */\n",
              "  background-color: var(--sklearn-color-fitted-level-0);\n",
              "}\n",
              "\n",
              "#sk-container-id-4 div.sk-toggleable__content pre {\n",
              "  margin: 0.2em;\n",
              "  border-radius: 0.25em;\n",
              "  color: var(--sklearn-color-text);\n",
              "  /* unfitted */\n",
              "  background-color: var(--sklearn-color-unfitted-level-0);\n",
              "}\n",
              "\n",
              "#sk-container-id-4 div.sk-toggleable__content.fitted pre {\n",
              "  /* unfitted */\n",
              "  background-color: var(--sklearn-color-fitted-level-0);\n",
              "}\n",
              "\n",
              "#sk-container-id-4 input.sk-toggleable__control:checked~div.sk-toggleable__content {\n",
              "  /* Expand drop-down */\n",
              "  max-height: 200px;\n",
              "  max-width: 100%;\n",
              "  overflow: auto;\n",
              "}\n",
              "\n",
              "#sk-container-id-4 input.sk-toggleable__control:checked~label.sk-toggleable__label-arrow:before {\n",
              "  content: \"▾\";\n",
              "}\n",
              "\n",
              "/* Pipeline/ColumnTransformer-specific style */\n",
              "\n",
              "#sk-container-id-4 div.sk-label input.sk-toggleable__control:checked~label.sk-toggleable__label {\n",
              "  color: var(--sklearn-color-text);\n",
              "  background-color: var(--sklearn-color-unfitted-level-2);\n",
              "}\n",
              "\n",
              "#sk-container-id-4 div.sk-label.fitted input.sk-toggleable__control:checked~label.sk-toggleable__label {\n",
              "  background-color: var(--sklearn-color-fitted-level-2);\n",
              "}\n",
              "\n",
              "/* Estimator-specific style */\n",
              "\n",
              "/* Colorize estimator box */\n",
              "#sk-container-id-4 div.sk-estimator input.sk-toggleable__control:checked~label.sk-toggleable__label {\n",
              "  /* unfitted */\n",
              "  background-color: var(--sklearn-color-unfitted-level-2);\n",
              "}\n",
              "\n",
              "#sk-container-id-4 div.sk-estimator.fitted input.sk-toggleable__control:checked~label.sk-toggleable__label {\n",
              "  /* fitted */\n",
              "  background-color: var(--sklearn-color-fitted-level-2);\n",
              "}\n",
              "\n",
              "#sk-container-id-4 div.sk-label label.sk-toggleable__label,\n",
              "#sk-container-id-4 div.sk-label label {\n",
              "  /* The background is the default theme color */\n",
              "  color: var(--sklearn-color-text-on-default-background);\n",
              "}\n",
              "\n",
              "/* On hover, darken the color of the background */\n",
              "#sk-container-id-4 div.sk-label:hover label.sk-toggleable__label {\n",
              "  color: var(--sklearn-color-text);\n",
              "  background-color: var(--sklearn-color-unfitted-level-2);\n",
              "}\n",
              "\n",
              "/* Label box, darken color on hover, fitted */\n",
              "#sk-container-id-4 div.sk-label.fitted:hover label.sk-toggleable__label.fitted {\n",
              "  color: var(--sklearn-color-text);\n",
              "  background-color: var(--sklearn-color-fitted-level-2);\n",
              "}\n",
              "\n",
              "/* Estimator label */\n",
              "\n",
              "#sk-container-id-4 div.sk-label label {\n",
              "  font-family: monospace;\n",
              "  font-weight: bold;\n",
              "  display: inline-block;\n",
              "  line-height: 1.2em;\n",
              "}\n",
              "\n",
              "#sk-container-id-4 div.sk-label-container {\n",
              "  text-align: center;\n",
              "}\n",
              "\n",
              "/* Estimator-specific */\n",
              "#sk-container-id-4 div.sk-estimator {\n",
              "  font-family: monospace;\n",
              "  border: 1px dotted var(--sklearn-color-border-box);\n",
              "  border-radius: 0.25em;\n",
              "  box-sizing: border-box;\n",
              "  margin-bottom: 0.5em;\n",
              "  /* unfitted */\n",
              "  background-color: var(--sklearn-color-unfitted-level-0);\n",
              "}\n",
              "\n",
              "#sk-container-id-4 div.sk-estimator.fitted {\n",
              "  /* fitted */\n",
              "  background-color: var(--sklearn-color-fitted-level-0);\n",
              "}\n",
              "\n",
              "/* on hover */\n",
              "#sk-container-id-4 div.sk-estimator:hover {\n",
              "  /* unfitted */\n",
              "  background-color: var(--sklearn-color-unfitted-level-2);\n",
              "}\n",
              "\n",
              "#sk-container-id-4 div.sk-estimator.fitted:hover {\n",
              "  /* fitted */\n",
              "  background-color: var(--sklearn-color-fitted-level-2);\n",
              "}\n",
              "\n",
              "/* Specification for estimator info (e.g. \"i\" and \"?\") */\n",
              "\n",
              "/* Common style for \"i\" and \"?\" */\n",
              "\n",
              ".sk-estimator-doc-link,\n",
              "a:link.sk-estimator-doc-link,\n",
              "a:visited.sk-estimator-doc-link {\n",
              "  float: right;\n",
              "  font-size: smaller;\n",
              "  line-height: 1em;\n",
              "  font-family: monospace;\n",
              "  background-color: var(--sklearn-color-background);\n",
              "  border-radius: 1em;\n",
              "  height: 1em;\n",
              "  width: 1em;\n",
              "  text-decoration: none !important;\n",
              "  margin-left: 1ex;\n",
              "  /* unfitted */\n",
              "  border: var(--sklearn-color-unfitted-level-1) 1pt solid;\n",
              "  color: var(--sklearn-color-unfitted-level-1);\n",
              "}\n",
              "\n",
              ".sk-estimator-doc-link.fitted,\n",
              "a:link.sk-estimator-doc-link.fitted,\n",
              "a:visited.sk-estimator-doc-link.fitted {\n",
              "  /* fitted */\n",
              "  border: var(--sklearn-color-fitted-level-1) 1pt solid;\n",
              "  color: var(--sklearn-color-fitted-level-1);\n",
              "}\n",
              "\n",
              "/* On hover */\n",
              "div.sk-estimator:hover .sk-estimator-doc-link:hover,\n",
              ".sk-estimator-doc-link:hover,\n",
              "div.sk-label-container:hover .sk-estimator-doc-link:hover,\n",
              ".sk-estimator-doc-link:hover {\n",
              "  /* unfitted */\n",
              "  background-color: var(--sklearn-color-unfitted-level-3);\n",
              "  color: var(--sklearn-color-background);\n",
              "  text-decoration: none;\n",
              "}\n",
              "\n",
              "div.sk-estimator.fitted:hover .sk-estimator-doc-link.fitted:hover,\n",
              ".sk-estimator-doc-link.fitted:hover,\n",
              "div.sk-label-container:hover .sk-estimator-doc-link.fitted:hover,\n",
              ".sk-estimator-doc-link.fitted:hover {\n",
              "  /* fitted */\n",
              "  background-color: var(--sklearn-color-fitted-level-3);\n",
              "  color: var(--sklearn-color-background);\n",
              "  text-decoration: none;\n",
              "}\n",
              "\n",
              "/* Span, style for the box shown on hovering the info icon */\n",
              ".sk-estimator-doc-link span {\n",
              "  display: none;\n",
              "  z-index: 9999;\n",
              "  position: relative;\n",
              "  font-weight: normal;\n",
              "  right: .2ex;\n",
              "  padding: .5ex;\n",
              "  margin: .5ex;\n",
              "  width: min-content;\n",
              "  min-width: 20ex;\n",
              "  max-width: 50ex;\n",
              "  color: var(--sklearn-color-text);\n",
              "  box-shadow: 2pt 2pt 4pt #999;\n",
              "  /* unfitted */\n",
              "  background: var(--sklearn-color-unfitted-level-0);\n",
              "  border: .5pt solid var(--sklearn-color-unfitted-level-3);\n",
              "}\n",
              "\n",
              ".sk-estimator-doc-link.fitted span {\n",
              "  /* fitted */\n",
              "  background: var(--sklearn-color-fitted-level-0);\n",
              "  border: var(--sklearn-color-fitted-level-3);\n",
              "}\n",
              "\n",
              ".sk-estimator-doc-link:hover span {\n",
              "  display: block;\n",
              "}\n",
              "\n",
              "/* \"?\"-specific style due to the `<a>` HTML tag */\n",
              "\n",
              "#sk-container-id-4 a.estimator_doc_link {\n",
              "  float: right;\n",
              "  font-size: 1rem;\n",
              "  line-height: 1em;\n",
              "  font-family: monospace;\n",
              "  background-color: var(--sklearn-color-background);\n",
              "  border-radius: 1rem;\n",
              "  height: 1rem;\n",
              "  width: 1rem;\n",
              "  text-decoration: none;\n",
              "  /* unfitted */\n",
              "  color: var(--sklearn-color-unfitted-level-1);\n",
              "  border: var(--sklearn-color-unfitted-level-1) 1pt solid;\n",
              "}\n",
              "\n",
              "#sk-container-id-4 a.estimator_doc_link.fitted {\n",
              "  /* fitted */\n",
              "  border: var(--sklearn-color-fitted-level-1) 1pt solid;\n",
              "  color: var(--sklearn-color-fitted-level-1);\n",
              "}\n",
              "\n",
              "/* On hover */\n",
              "#sk-container-id-4 a.estimator_doc_link:hover {\n",
              "  /* unfitted */\n",
              "  background-color: var(--sklearn-color-unfitted-level-3);\n",
              "  color: var(--sklearn-color-background);\n",
              "  text-decoration: none;\n",
              "}\n",
              "\n",
              "#sk-container-id-4 a.estimator_doc_link.fitted:hover {\n",
              "  /* fitted */\n",
              "  background-color: var(--sklearn-color-fitted-level-3);\n",
              "}\n",
              "</style><div id=\"sk-container-id-4\" class=\"sk-top-container\"><div class=\"sk-text-repr-fallback\"><pre>MLPClassifier(hidden_layer_sizes=(100, 100), max_iter=1000, tol=1e-05,\n",
              "              verbose=True)</pre><b>In a Jupyter environment, please rerun this cell to show the HTML representation or trust the notebook. <br />On GitHub, the HTML representation is unable to render, please try loading this page with nbviewer.org.</b></div><div class=\"sk-container\" hidden><div class=\"sk-item\"><div class=\"sk-estimator fitted sk-toggleable\"><input class=\"sk-toggleable__control sk-hidden--visually\" id=\"sk-estimator-id-4\" type=\"checkbox\" checked><label for=\"sk-estimator-id-4\" class=\"sk-toggleable__label fitted sk-toggleable__label-arrow fitted\">&nbsp;&nbsp;MLPClassifier<a class=\"sk-estimator-doc-link fitted\" rel=\"noreferrer\" target=\"_blank\" href=\"https://scikit-learn.org/1.4/modules/generated/sklearn.neural_network.MLPClassifier.html\">?<span>Documentation for MLPClassifier</span></a><span class=\"sk-estimator-doc-link fitted\">i<span>Fitted</span></span></label><div class=\"sk-toggleable__content fitted\"><pre>MLPClassifier(hidden_layer_sizes=(100, 100), max_iter=1000, tol=1e-05,\n",
              "              verbose=True)</pre></div> </div></div></div></div>"
            ],
            "text/plain": [
              "MLPClassifier(hidden_layer_sizes=(100, 100), max_iter=1000, tol=1e-05,\n",
              "              verbose=True)"
            ]
          },
          "execution_count": 396,
          "metadata": {},
          "output_type": "execute_result"
        }
      ],
      "source": [
        "rede_neural_modelo = MLPClassifier(max_iter = 1000, verbose = True, tol = 0.0000100,\n",
        "                                   solver = 'adam', activation = 'relu',\n",
        "                                   hidden_layer_sizes = (100, 100))\n",
        "rede_neural_modelo.fit(x_train, y_train)"
      ]
    },
    {
      "cell_type": "code",
      "execution_count": 390,
      "metadata": {
        "id": "-DByZmEhCi8z"
      },
      "outputs": [],
      "source": [
        "previsoes = rede_neural_modelo.predict(x_test)"
      ]
    },
    {
      "cell_type": "code",
      "execution_count": 391,
      "metadata": {
        "colab": {
          "base_uri": "https://localhost:8080/"
        },
        "id": "u-d9AZTtCvGy",
        "outputId": "3fedf553-9780-4dc8-b929-9d0c749377e7"
      },
      "outputs": [
        {
          "data": {
            "text/plain": [
              "0.7011070110701108"
            ]
          },
          "execution_count": 391,
          "metadata": {},
          "output_type": "execute_result"
        }
      ],
      "source": [
        "accuracy_score(y_test, previsoes)"
      ]
    },
    {
      "cell_type": "code",
      "execution_count": 392,
      "metadata": {
        "colab": {
          "base_uri": "https://localhost:8080/",
          "height": 497
        },
        "id": "yfp0wUndCw_y",
        "outputId": "68e550f0-5a7d-422f-a662-f59c97b283a6"
      },
      "outputs": [
        {
          "data": {
            "text/plain": [
              "0.7011070110701108"
            ]
          },
          "execution_count": 392,
          "metadata": {},
          "output_type": "execute_result"
        },
        {
          "data": {
            "image/png": "[encoded data removed]",
            "text/plain": [
              "<Figure size 800x550 with 1 Axes>"
            ]
          },
          "metadata": {},
          "output_type": "display_data"
        }
      ],
      "source": [
        "cm = ConfusionMatrix(rede_neural_modelo)\n",
        "cm.fit(x_train, y_train)\n",
        "cm.score(x_test, y_test)"
      ]
    },
    {
      "cell_type": "code",
      "execution_count": 393,
      "metadata": {
        "colab": {
          "base_uri": "https://localhost:8080/"
        },
        "id": "yY3jlyZZDFLW",
        "outputId": "2d2ac40d-00eb-4211-b634-a4055ee4319f"
      },
      "outputs": [
        {
          "name": "stdout",
          "output_type": "stream",
          "text": [
            "              precision    recall  f1-score   support\n",
            "\n",
            "           0       0.78      0.84      0.81       612\n",
            "           1       0.36      0.27      0.31       201\n",
            "\n",
            "    accuracy                           0.70       813\n",
            "   macro avg       0.57      0.56      0.56       813\n",
            "weighted avg       0.68      0.70      0.69       813\n",
            "\n"
          ]
        }
      ],
      "source": [
        "print(classification_report(y_test, previsoes))"
      ]
    },
    {
      "cell_type": "markdown",
      "metadata": {
        "id": "W42yknTuECH3"
      },
      "source": [
        "## Validação cruzada"
      ]
    },
    {
      "cell_type": "markdown",
      "metadata": {
        "id": "M8j8SaQpEF8b"
      },
      "source": [
        "### Árvore de decisão"
      ]
    },
    {
      "cell_type": "code",
      "execution_count": 171,
      "metadata": {
        "id": "-SA4lqRcDGr2"
      },
      "outputs": [],
      "source": [
        "parametros = {'criterion': ['gini', 'entropy'],\n",
        "              'splitter': ['best', 'random'],\n",
        "              'min_samples_split': [2, 5, 10],\n",
        "              'min_samples_leaf': [1, 5, 10]}"
      ]
    },
    {
      "cell_type": "code",
      "execution_count": 172,
      "metadata": {
        "colab": {
          "base_uri": "https://localhost:8080/"
        },
        "id": "QAq0L6CuEKHU",
        "outputId": "af8c7a43-7973-435c-dacc-a0f196211dd8"
      },
      "outputs": [
        {
          "name": "stdout",
          "output_type": "stream",
          "text": [
            "{'criterion': 'gini', 'min_samples_leaf': 10, 'min_samples_split': 2, 'splitter': 'best'}\n",
            "0.93354357433421\n"
          ]
        }
      ],
      "source": [
        "grid_search = GridSearchCV(estimator = DecisionTreeClassifier(), param_grid = parametros)\n",
        "grid_search.fit(x, y)\n",
        "melhores_parametros = grid_search.best_params_\n",
        "melhor_resultado = grid_search.best_score_\n",
        "print(melhores_parametros)\n",
        "print(melhor_resultado)"
      ]
    },
    {
      "cell_type": "markdown",
      "metadata": {
        "id": "-kGseJlnEVQs"
      },
      "source": [
        "### Random forest"
      ]
    },
    {
      "cell_type": "code",
      "execution_count": 173,
      "metadata": {
        "id": "W3EWJrioESHA"
      },
      "outputs": [],
      "source": [
        "parametros = {'criterion': ['gini', 'entropy'],\n",
        "              'n_estimators': [10, 40, 100, 150],\n",
        "              'min_samples_split': [2, 5, 10],\n",
        "              'min_samples_leaf': [1, 5, 10]}"
      ]
    },
    {
      "cell_type": "code",
      "execution_count": 174,
      "metadata": {
        "colab": {
          "base_uri": "https://localhost:8080/"
        },
        "id": "kgJmsqVYEazu",
        "outputId": "2416674f-4edd-4b3a-9573-7743d4cc4c5c"
      },
      "outputs": [
        {
          "name": "stdout",
          "output_type": "stream",
          "text": [
            "{'criterion': 'gini', 'min_samples_leaf': 5, 'min_samples_split': 10, 'n_estimators': 100}\n",
            "0.9340031503805362\n"
          ]
        }
      ],
      "source": [
        "grid_search = GridSearchCV(estimator = RandomForestClassifier(), param_grid = parametros)\n",
        "grid_search.fit(x, y)\n",
        "melhores_parametros = grid_search.best_params_\n",
        "melhor_resultado = grid_search.best_score_\n",
        "print(melhores_parametros)\n",
        "print(melhor_resultado)"
      ]
    },
    {
      "cell_type": "markdown",
      "metadata": {
        "id": "HRYDHXKnEf3-"
      },
      "source": [
        "### Knn"
      ]
    },
    {
      "cell_type": "code",
      "execution_count": 175,
      "metadata": {
        "id": "GtmbeNTdEebH"
      },
      "outputs": [],
      "source": [
        "parametros = {'n_neighbors': [3, 5, 10, 20],\n",
        "              'p': [1, 2]}"
      ]
    },
    {
      "cell_type": "code",
      "execution_count": 176,
      "metadata": {
        "colab": {
          "base_uri": "https://localhost:8080/"
        },
        "id": "2PgB1_FlEjEr",
        "outputId": "9ed6d1ca-f1d8-44f3-d700-ffb693b60228"
      },
      "outputs": [
        {
          "name": "stdout",
          "output_type": "stream",
          "text": [
            "{'n_neighbors': 20, 'p': 1}\n",
            "0.9335434880814916\n"
          ]
        }
      ],
      "source": [
        "grid_search = GridSearchCV(estimator = KNeighborsClassifier(), param_grid = parametros)\n",
        "grid_search.fit(x, y)\n",
        "melhores_parametros = grid_search.best_params_\n",
        "melhor_resultado = grid_search.best_score_\n",
        "print(melhores_parametros)\n",
        "print(melhor_resultado)"
      ]
    },
    {
      "cell_type": "markdown",
      "metadata": {
        "id": "_pYHKVUnEoUz"
      },
      "source": [
        "### Regressão logística"
      ]
    },
    {
      "cell_type": "code",
      "execution_count": 177,
      "metadata": {
        "id": "n-StliumEm4J"
      },
      "outputs": [],
      "source": [
        "parametros = {'tol': [0.0001, 0.00001, 0.000001],\n",
        "              'C': [1.0, 1.5, 2.0],\n",
        "              'solver': ['lbfgs', 'sag', 'saga']}"
      ]
    },
    {
      "cell_type": "code",
      "execution_count": 178,
      "metadata": {
        "colab": {
          "base_uri": "https://localhost:8080/"
        },
        "id": "DXVztCYhEqdE",
        "outputId": "500f8ed3-726f-4db1-e900-66806dcbd727"
      },
      "outputs": [
        {
          "name": "stdout",
          "output_type": "stream",
          "text": [
            "{'C': 1.0, 'solver': 'lbfgs', 'tol': 0.0001}\n",
            "0.9335436174605689\n"
          ]
        }
      ],
      "source": [
        "grid_search = GridSearchCV(estimator = LogisticRegression(), param_grid = parametros)\n",
        "grid_search.fit(x, y)\n",
        "melhores_parametros = grid_search.best_params_\n",
        "melhor_resultado = grid_search.best_score_\n",
        "print(melhores_parametros)\n",
        "print(melhor_resultado)"
      ]
    },
    {
      "cell_type": "markdown",
      "metadata": {
        "id": "zFqOZVY1ExDR"
      },
      "source": [
        "### SVM"
      ]
    },
    {
      "cell_type": "code",
      "execution_count": 179,
      "metadata": {
        "id": "iUHBY67hEvxv"
      },
      "outputs": [],
      "source": [
        "parametros = {'tol': [0.001, 0.0001, 0.00001],\n",
        "              'C': [1.0, 1.5, 2.0],\n",
        "              'kernel': ['rbf', 'linear', 'poly', 'sigmoid']}"
      ]
    },
    {
      "cell_type": "code",
      "execution_count": null,
      "metadata": {
        "id": "jv9k-XMCE0zr"
      },
      "outputs": [],
      "source": [
        "grid_search = GridSearchCV(estimator=SVC(), param_grid=parametros)\n",
        "grid_search.fit(x,y)\n",
        "melhores_parametros = grid_search.best_params_\n",
        "melhor_resultado = grid_search.best_score_\n",
        "print(melhores_parametros)\n",
        "print(melhor_resultado)"
      ]
    },
    {
      "cell_type": "markdown",
      "metadata": {
        "id": "LiCqbStKE5Qv"
      },
      "source": [
        "### Redes neurais"
      ]
    },
    {
      "cell_type": "code",
      "execution_count": null,
      "metadata": {
        "id": "RvobBrJGE3gN"
      },
      "outputs": [],
      "source": [
        "parametros = {'activation': ['relu', 'logistic', 'tahn'],\n",
        "              'solver': ['adam', 'sgd'],\n",
        "              'batch_size': [10, 56]}"
      ]
    },
    {
      "cell_type": "code",
      "execution_count": null,
      "metadata": {
        "id": "HBSrhVIpE7cH"
      },
      "outputs": [],
      "source": [
        "grid_search = GridSearchCV(estimator=MLPClassifier(), param_grid=parametros)\n",
        "grid_search.fit(x, y)\n",
        "melhores_parametros = grid_search.best_params_\n",
        "melhor_resultado = grid_search.best_score_"
      ]
    },
    {
      "cell_type": "code",
      "execution_count": null,
      "metadata": {
        "id": "_fvrmLU_E-XM"
      },
      "outputs": [],
      "source": [
        "print(melhores_parametros)\n",
        "print(melhor_resultado)"
      ]
    },
    {
      "cell_type": "code",
      "execution_count": null,
      "metadata": {
        "id": "YhIbhXJTFDxM"
      },
      "outputs": [],
      "source": [
        "resultados_arvore = []\n",
        "resultados_random_forest = []\n",
        "resultados_knn = []\n",
        "resultados_logistica = []\n",
        "resultados_svm = []\n",
        "resultados_rede_neural = []\n",
        "\n",
        "for i in range(30):\n",
        "  print(i)\n",
        "  kfold = KFold(n_splits = 10, shuffle = True, random_state = i)\n",
        "  # n_splits = folds (9 treinamento e 1 teste)\n",
        "  # shuffle = True para misturar os dados\n",
        "\n",
        "  arvore = DecisionTreeClassifier(criterion = 'gini', min_samples_leaf = 10, min_samples_split = 2, splitter = 'best')\n",
        "  scores = cross_val_score(arvore, x, y, cv = kfold)\n",
        "  resultados_arvore.append(scores.mean())\n",
        "\n",
        "  random_forest = RandomForestClassifier(criterion = 'gini', min_samples_leaf = 5, min_samples_split = 10, n_estimators = 100)\n",
        "  scores = cross_val_score(random_forest, x, y, cv = kfold)\n",
        "  resultados_random_forest.append(scores.mean())\n",
        "\n",
        "  knn = KNeighborsClassifier(n_neighbors = 20, p = 1)\n",
        "  scores = cross_val_score(knn, x, y, cv = kfold)\n",
        "  resultados_knn.append(scores.mean())\n",
        "\n",
        "  logistica = LogisticRegression(C = 1.0, solver = 'lbfgs', tol = 0.0001)\n",
        "  scores = cross_val_score(logistica, x, y, cv = kfold)\n",
        "  resultados_logistica.append(scores.mean())\n",
        "\n",
        "  svm = SVC(kernel = 'rbf', C = 2.0)\n",
        "  scores = cross_val_score(svm, x, y, cv = kfold)\n",
        "  resultados_svm.append(scores.mean())\n",
        "\n",
        "  rede_neural = MLPClassifier(activation = 'relu', batch_size = 56, solver = 'adam')\n",
        "  scores = cross_val_score(rede_neural, x, y, cv = kfold)\n",
        "  resultados_rede_neural.append(scores.mean())"
      ]
    },
    {
      "cell_type": "code",
      "execution_count": null,
      "metadata": {
        "id": "9OA7902mFnfw"
      },
      "outputs": [],
      "source": [
        "resultados = pd.DataFrame({'Arvore': resultados_arvore, 'Random forest': resultados_random_forest,\n",
        "                           'KNN': resultados_knn, 'Logistica': resultados_logistica,\n",
        "                           'SVM': resultados_svm, 'Rede neural': resultados_rede_neural})\n",
        "resultados"
      ]
    },
    {
      "cell_type": "code",
      "execution_count": null,
      "metadata": {
        "id": "tIvbuzLtFqHL"
      },
      "outputs": [],
      "source": [
        "resultados.describe()"
      ]
    },
    {
      "cell_type": "code",
      "execution_count": null,
      "metadata": {
        "id": "qpB6buaJFrjc"
      },
      "outputs": [],
      "source": [
        "resultados.var()"
      ]
    },
    {
      "cell_type": "code",
      "execution_count": null,
      "metadata": {
        "id": "TKXVNxaJFtdK"
      },
      "outputs": [],
      "source": [
        "# coeficiente de variação (CV = desvio padrao / media * 100)\n",
        "(resultados.std() / resultados.mean()) * 100"
      ]
    }
  ],
  "metadata": {
    "colab": {
      "provenance": []
    },
    "kernelspec": {
      "display_name": "Python 3",
      "name": "python3"
    },
    "language_info": {
      "codemirror_mode": {
        "name": "ipython",
        "version": 3
      },
      "file_extension": ".py",
      "mimetype": "text/x-python",
      "name": "python",
      "nbconvert_exporter": "python",
      "pygments_lexer": "ipython3",
      "version": "3.11.4"
    }
  },
  "nbformat": 4,
  "nbformat_minor": 0
}
